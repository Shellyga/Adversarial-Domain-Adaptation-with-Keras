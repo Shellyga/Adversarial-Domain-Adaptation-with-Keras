{
  "nbformat": 4,
  "nbformat_minor": 0,
  "metadata": {
    "colab": {
      "name": "Final Version Adversarial-Domain-Adaptation-with-Keras.ipynb",
      "provenance": [],
      "collapsed_sections": [],
      "toc_visible": true,
      "machine_shape": "hm",
      "include_colab_link": true
    },
    "kernelspec": {
      "name": "python3",
      "display_name": "Python 3"
    },
    "accelerator": "GPU"
  },
  "cells": [
    {
      "cell_type": "markdown",
      "metadata": {
        "id": "view-in-github",
        "colab_type": "text"
      },
      "source": [
        "<a href=\"https://colab.research.google.com/github/Shellyga/Adversarial-Domain-Adaptation-with-Keras/blob/master/Binary_Final_Version_Adversarial_Domain_Adaptation_with_Keras.ipynb\" target=\"_parent\"><img src=\"https://colab.research.google.com/assets/colab-badge.svg\" alt=\"Open In Colab\"/></a>"
      ]
    },
    {
      "cell_type": "markdown",
      "metadata": {
        "id": "iqYXgaotqk_g",
        "colab_type": "text"
      },
      "source": [
        "# Model"
      ]
    },
    {
      "cell_type": "code",
      "metadata": {
        "id": "57CQpjm7OklS",
        "colab_type": "code",
        "colab": {
          "base_uri": "https://localhost:8080/",
          "height": 274
        },
        "outputId": "231a51e6-adac-4042-8a00-8884766828db"
      },
      "source": [
        "pip install keras_vggface"
      ],
      "execution_count": 1,
      "outputs": [
        {
          "output_type": "stream",
          "text": [
            "Collecting keras_vggface\n",
            "  Downloading https://files.pythonhosted.org/packages/2f/7d/5f0319ebdc09ac1a2272364fa9583f5067b6f8aff93fbbf8835d81cbaad7/keras_vggface-0.6-py3-none-any.whl\n",
            "Requirement already satisfied: pillow in /usr/local/lib/python3.6/dist-packages (from keras_vggface) (7.0.0)\n",
            "Requirement already satisfied: pyyaml in /usr/local/lib/python3.6/dist-packages (from keras_vggface) (3.13)\n",
            "Requirement already satisfied: numpy>=1.9.1 in /usr/local/lib/python3.6/dist-packages (from keras_vggface) (1.18.5)\n",
            "Requirement already satisfied: keras in /usr/local/lib/python3.6/dist-packages (from keras_vggface) (2.3.1)\n",
            "Requirement already satisfied: six>=1.9.0 in /usr/local/lib/python3.6/dist-packages (from keras_vggface) (1.12.0)\n",
            "Requirement already satisfied: scipy>=0.14 in /usr/local/lib/python3.6/dist-packages (from keras_vggface) (1.4.1)\n",
            "Requirement already satisfied: h5py in /usr/local/lib/python3.6/dist-packages (from keras_vggface) (2.10.0)\n",
            "Requirement already satisfied: keras-preprocessing>=1.0.5 in /usr/local/lib/python3.6/dist-packages (from keras->keras_vggface) (1.1.2)\n",
            "Requirement already satisfied: keras-applications>=1.0.6 in /usr/local/lib/python3.6/dist-packages (from keras->keras_vggface) (1.0.8)\n",
            "Installing collected packages: keras-vggface\n",
            "Successfully installed keras-vggface-0.6\n"
          ],
          "name": "stdout"
        }
      ]
    },
    {
      "cell_type": "code",
      "metadata": {
        "id": "Bxcy4fLWqpgf",
        "colab_type": "code",
        "colab": {
          "base_uri": "https://localhost:8080/",
          "height": 35
        },
        "outputId": "0487b52e-2254-4c62-9185-292b2fbb9357"
      },
      "source": [
        "import random\n",
        "import numpy as np\n",
        "from keras.models import Model,clone_model\n",
        "from keras.applications.resnet50 import ResNet50\n",
        "from keras.layers import Input, Conv2D, MaxPool2D, Flatten, Dense,Reshape\n",
        "from keras.layers import BatchNormalization, Activation, Dropout\n",
        "from keras_vggface.vggface import VGGFace\n",
        "\n",
        "\n",
        "\n",
        "def build_embedding(param):\n",
        "    inp = Input(shape= param[\"inp_dims\"])\n",
        "    network = eval('VGGFace')\n",
        "    base = network(weights = 'vggface', include_top = False)\n",
        "    # base = network(weights = 'imagenet', include_top = False)\n",
        "    feat = base(inp)\n",
        "    return Model(inp,feat)\n",
        "    # print(feat.shape)\n",
        "    # flat = Flatten()(feat)\n",
        "    # return flat\n",
        "\n",
        "# def build_embedding(param,inp):\n",
        "#     model = VGGFace(model='resnet50', include_top=False, input_shape=(224, 224, 3), weights='vggface', pooling='avg')\n",
        "#     feat = model.get_layer('avg_pool').output\n",
        "#     # return feat\n",
        "#     # print(feat.shape)\n",
        "#     flat = Flatten()(feat)\n",
        "#     # flat = Reshape((-1,))(feat)\n",
        "#     # flat = Flatten()(embedding)\n",
        "#     # print(flat.shape)\n",
        "#     return flat\n",
        "\n",
        "def build_classifier(param, embedding):\n",
        "    # embedding = Input(embedding.shape)\n",
        "    # embedding = Input( (None, 100352) )\n",
        "    # embedding = Input( embedding.output)\n",
        "    # embedding = Reshape((-1,))(embedding)\n",
        "    flat = Flatten()(embedding.output)\n",
        "    dense1 = Dense(400, name = 'class_dense1')(flat)\n",
        "    bn1 = BatchNormalization(name = 'class_bn1')(dense1)\n",
        "    act1 = Activation('relu', name = 'class_act1')(bn1)\n",
        "    drop2 = Dropout(param[\"drop_classifier\"], name = 'class_drop1')(act1)\n",
        "\n",
        "    dense2 = Dense(100, name = 'class_dense2')(drop2)\n",
        "    bn2 = BatchNormalization(name = 'class_bn2')(dense2)\n",
        "    act2 = Activation('relu', name = 'class_act2')(bn2)\n",
        "    drop2 = Dropout(param[\"drop_classifier\"], name = 'class_drop2')(act2)\n",
        "    densel = Dense(param[\"number_of_classe\"], name = 'class_dense_last')(drop2)\n",
        "    # densel = Dense(param[\"source_label\"].shape[1], name = 'class_dense_last')(drop2)\n",
        "    bnl = BatchNormalization(name = 'class_bn_last')(densel)\n",
        "    actl = Activation('softmax', name = 'class_act_last')(bnl)\n",
        "    return Model(inputs=(embedding.input), outputs=(actl))\n",
        "\n",
        "def build_discriminator(param, embedding_shape):\n",
        "    # embedding = Input(embedding.shape)\n",
        "    # embedding = Input( (None, 100352) )\n",
        "    embedding = Input( embedding_shape )\n",
        "    # embedding = Reshape((-1,))(embedding)\n",
        "    flat = Flatten()(embedding)\n",
        "    dense1 = Dense(400, name = 'dis_dense1')(flat)\n",
        "    bn1 = BatchNormalization(name='dis_bn1')(dense1)\n",
        "    act1 = Activation('relu', name = 'dis_act1')(bn1)\n",
        "    drop1 = Dropout(param[\"drop_discriminator\"], name = 'dis_drop1')(act1)\n",
        "\n",
        "    dense2 = Dense(100, name = 'dis_dense2')(drop1)\n",
        "    bn2 = BatchNormalization(name='dis_bn2')(dense2)\n",
        "    act2 = Activation('relu', name = 'dis_act2')(bn2)\n",
        "    drop2 = Dropout(param[\"drop_discriminator\"], name = 'dis_drop2')(act2)\n",
        "\n",
        "    densel = Dense(1, name = 'dis_dense_last')(drop2)\n",
        "    bnl = BatchNormalization(name = 'dis_bn_last')(densel)\n",
        "    actl = Activation('sigmoid', name = 'dis_act_last')(bnl)\n",
        "    return Model(input=embedding, outputs=actl)\n",
        "\n",
        "# def build_combined_classifier(inp, classifier):\n",
        "#     comb_model = Model(inputs = inp, outputs = [classifier])\n",
        "#     return comb_model\n",
        "\n",
        "# def build_combined_discriminator(inp, discriminator):\n",
        "#     comb_model = Model(inputs = inp, outputs = [discriminator])\n",
        "#     return comb_model\n",
        "\n",
        "# def build_combined_model(inp, comb):\n",
        "#     comb_model = Model(inputs = inp, outputs = comb)\n",
        "#     return comb_model"
      ],
      "execution_count": 2,
      "outputs": [
        {
          "output_type": "stream",
          "text": [
            "Using TensorFlow backend.\n"
          ],
          "name": "stderr"
        }
      ]
    },
    {
      "cell_type": "markdown",
      "metadata": {
        "id": "1DrTIu1SqtIe",
        "colab_type": "text"
      },
      "source": [
        "# Optimizer"
      ]
    },
    {
      "cell_type": "code",
      "metadata": {
        "id": "ve8K7kUmqu5W",
        "colab_type": "code",
        "colab": {}
      },
      "source": [
        "import numpy as np\n",
        "from keras.optimizers import Adam\n",
        "\n",
        "def opt_classifier(param):\n",
        "    return Adam(lr=param[\"lr_classifier\"], beta_1=param[\"b1_classifier\"], beta_2=param[\"b2_classifier\"])\n",
        "\n",
        "def opt_discriminator(param):\n",
        "    return Adam(lr=param[\"lr_discriminator\"], beta_1=param[\"b1_discriminator\"], beta_2=param[\"b2_discriminator\"])\n",
        "\n",
        "def opt_combined(param):\n",
        "    return Adam(lr=param[\"lr_combined\"], beta_1=param[\"b1_combined\"], beta_2=param[\"b2_combined\"])\n"
      ],
      "execution_count": 3,
      "outputs": []
    },
    {
      "cell_type": "markdown",
      "metadata": {
        "id": "YHRxvLjYqwvG",
        "colab_type": "text"
      },
      "source": [
        "# Data"
      ]
    },
    {
      "cell_type": "code",
      "metadata": {
        "id": "cxlgU5w6qyJO",
        "colab_type": "code",
        "colab": {
          "base_uri": "https://localhost:8080/",
          "height": 128
        },
        "outputId": "52490cc9-d2c2-49f9-ad2a-fcac4f42892b"
      },
      "source": [
        "from google.colab import drive\n",
        "drive.mount('/content/drive')"
      ],
      "execution_count": 4,
      "outputs": [
        {
          "output_type": "stream",
          "text": [
            "Go to this URL in a browser: https://accounts.google.com/o/oauth2/auth?client_id=947318989803-6bn6qk8qdgf4n4g3pfee6491hc0brc4i.apps.googleusercontent.com&redirect_uri=urn%3aietf%3awg%3aoauth%3a2.0%3aoob&response_type=code&scope=email%20https%3a%2f%2fwww.googleapis.com%2fauth%2fdocs.test%20https%3a%2f%2fwww.googleapis.com%2fauth%2fdrive%20https%3a%2f%2fwww.googleapis.com%2fauth%2fdrive.photos.readonly%20https%3a%2f%2fwww.googleapis.com%2fauth%2fpeopleapi.readonly\n",
            "\n",
            "Enter your authorization code:\n",
            "··········\n",
            "Mounted at /content/drive\n"
          ],
          "name": "stdout"
        }
      ]
    },
    {
      "cell_type": "code",
      "metadata": {
        "id": "JwuSxj4hW9vo",
        "colab_type": "code",
        "colab": {}
      },
      "source": [
        "SEED = 7\n",
        "import os\n",
        "import sys\n",
        "import argparse\n",
        "import random\n",
        "import numpy as np\n",
        "# import tensorflow.python.keras as tf\n",
        "from tensorflow.compat.v1 import set_random_seed\n",
        "# import tensorflow.python.keras as tf\n",
        "from sklearn.model_selection import train_test_split\n",
        "from sklearn import metrics\n",
        "from plotnine import *\n",
        "import pandas as pd\n",
        "                \n",
        "from sklearn.model_selection import train_test_split\n",
        "import matplotlib.pyplot as plt\n",
        "from math import ceil\n",
        "from sklearn.utils import shuffle as skshuffle\n",
        "\n",
        "from imutils import paths\n",
        "from sklearn.preprocessing import LabelEncoder\n",
        "\n",
        "os.environ['PYTHONHASHSEED']=str(SEED)\n",
        "np.random.seed(SEED)\n",
        "set_random_seed(SEED)\n",
        "random.seed(SEED)\n",
        "\n",
        "from PIL import Image\n",
        "from keras.utils import to_categorical\n",
        "from keras.layers import Input\n",
        "from keras.optimizers import Adam\n",
        "from keras.utils import multi_gpu_model\n",
        "from sklearn.metrics import accuracy_score\n",
        "import pickle\n",
        "\n",
        "from keras.preprocessing import image\n",
        "def pil_loader(path):\n",
        "    # print(path)\n",
        "    # Return the RGB variant of input image\n",
        "    with open(path, 'rb') as f:\n",
        "      with Image.open(f) as img:\n",
        "        return img.convert('RGB')\n",
        "\n",
        "def one_hot_encoding(param):\n",
        "    lb = LabelEncoder()\n",
        "    source_labels,target_labels  = lb.fit_transform( param[\"source_label\"]),lb.fit_transform( param[\"target_label\"])\n",
        "    param[\"number_of_classe\"] = len(lb.classes_)\n",
        "    source_labels,target_labels = to_categorical(source_labels),to_categorical(target_labels)\n",
        "    f = open('/content/drive/My Drive/pro_data/‏final_result_B/labels',\"wb\")\n",
        "    f.write(pickle.dumps(lb))\n",
        "    f.close()\n",
        "    return source_labels,target_labels\n",
        "\n",
        "            \n",
        "def data_loader(filepath, inp_dims):\n",
        "\n",
        "    img = []\n",
        "    label = []\n",
        "    detector = dlib.get_frontal_face_detector()\n",
        "    predictor = \"drive/My Drive/pro_data/shape_predictor_5_face_landmarks.dat\"\n",
        "    imagePaths = sorted(list(paths.list_images(filepath)))\n",
        "    # print(imagePaths)\n",
        "    # loop over the input images\n",
        "    for imagePath in imagePaths:\n",
        "        # extract the class label from the image path and update the\n",
        "        # labels list\n",
        "        l = imagePath.split(os.path.sep)[-2]\n",
        "        label.append(l)\n",
        "        # i = pil_loader(imagePath)\n",
        "        i = image.load_img(imagePath)\n",
        "        # keras.preprocessing.image.img_to_array(image)\n",
        "        i = i.resize((inp_dims[0], inp_dims[1]), Image.ANTIALIAS)\n",
        "        frame_1 = align_and_crop(detector, np.array(i), predictor)[0]\n",
        "        frame_1 = cv2.resize(frame_1,(inp_dims[0], inp_dims[1]))\n",
        "        img.append(frame_1)\n",
        "    img = np.array(img)\n",
        "    label = np.array(label)\n",
        "    return img, label\n",
        "    \n",
        "\n",
        "def batch_generator(data, batch_size):\n",
        "    #Generate batches of data.\n",
        "    all_examples_indices = len(data[0])\n",
        "    while True:\n",
        "        mini_batch_indices = np.random.choice(all_examples_indices, size = batch_size, replace = False)\n",
        "        tbr = [k[mini_batch_indices] for k in data]\n",
        "        yield tbr\n"
      ],
      "execution_count": 5,
      "outputs": []
    },
    {
      "cell_type": "code",
      "metadata": {
        "id": "PWhShjI8H1bH",
        "colab_type": "code",
        "colab": {}
      },
      "source": [
        "def _plot_confusion_matrix(cm, classes,\n",
        "                          normalize=False,\n",
        "                          title='Confusion matrix',\n",
        "                          cmap=plt.cm.Greens):\n",
        "    from sklearn.metrics import accuracy_score\n",
        "    from sklearn.metrics import precision_score, recall_score, roc_auc_score, accuracy_score, roc_curve, auc, confusion_matrix\n",
        "    import itertools\n",
        "    \"\"\"\n",
        "    This function prints and plots the confusion matrix.\n",
        "    Normalization can be applied by setting `normalize=True`.\n",
        "    \"\"\"\n",
        "    if normalize:\n",
        "        cm = cm.astype('float') / cm.sum(axis=1)[:, np.newaxis]\n",
        "\n",
        "    plt.imshow(cm, interpolation='nearest', cmap=cmap)\n",
        "    plt.title(title, fontsize = 14)\n",
        "    plt.colorbar()\n",
        "    tick_marks = np.arange(len(classes))\n",
        "    plt.xticks(tick_marks, classes)\n",
        "    plt.yticks(tick_marks, classes)\n",
        "\n",
        "    fmt = '.2f' if normalize else 'd'\n",
        "    thresh = cm.max() / 2.\n",
        "    for i, j in itertools.product(range(cm.shape[0]), range(cm.shape[1])):\n",
        "        plt.text(j, i, format(cm[i, j], fmt),\n",
        "                 horizontalalignment=\"center\",\n",
        "                 color=\"black\")\n",
        "\n",
        "    plt.ylabel('True Class', fontsize = 14)\n",
        "    plt.xlabel('Predicted Class', fontsize = 14)\n",
        "\n",
        "    plt.tick_params(axis='both', which='major', labelsize=14)\n",
        "    plt.tight_layout()"
      ],
      "execution_count": 15,
      "outputs": []
    },
    {
      "cell_type": "markdown",
      "metadata": {
        "id": "XqiFjCePj2a1",
        "colab_type": "text"
      },
      "source": [
        "# Crop"
      ]
    },
    {
      "cell_type": "code",
      "metadata": {
        "id": "oSCoB73kj6ux",
        "colab_type": "code",
        "colab": {}
      },
      "source": [
        "import dlib\n",
        "\n",
        "import os\n",
        "import sys\n",
        "import cv2\n",
        "import glob\n",
        "\n",
        "\n",
        "def align_and_crop(detector, im_to_align, predictor_path):\n",
        "    '''\n",
        "    simply aligns the photo (using the detector to identify the eyes) and crops the face.\n",
        "    :param im_to_align: an address of an image\n",
        "    '''\n",
        "\n",
        "    # a shape predictor to find face landmarks so we can precisely localize\n",
        "    # the face\n",
        "    sp = dlib.shape_predictor(predictor_path)\n",
        "\n",
        "    # Ask the detector to find the bounding boxes of each face. The 1 in the\n",
        "    # second argument indicates that we should upsample the image 1 time.\n",
        "    try:\n",
        "        dets = detector(im_to_align, 1)\n",
        "    except RuntimeError:\n",
        "        return -1\n",
        "\n",
        "    num_faces = len(dets)\n",
        "    if num_faces == 0:\n",
        "        return im_to_align, False\n",
        "\n",
        "    # Find the 5 face landmarks we need to do the alignment.\n",
        "    faces = dlib.full_object_detections()\n",
        "    for detection in dets:\n",
        "        faces.append(sp(im_to_align, detection))\n",
        "\n",
        "    # get a single chip (aligned and cropped)\n",
        "    image = dlib.get_face_chip(im_to_align, faces[0])\n",
        "    # cv2.imshow(\"f\", image) show image for testing\n",
        "    return image, True"
      ],
      "execution_count": 6,
      "outputs": []
    },
    {
      "cell_type": "markdown",
      "metadata": {
        "id": "QCAxthiKjwnr",
        "colab_type": "text"
      },
      "source": [
        "# Augment"
      ]
    },
    {
      "cell_type": "code",
      "metadata": {
        "id": "xD18oqysj0hG",
        "colab_type": "code",
        "colab": {}
      },
      "source": [
        "from imgaug import augmenters as iaa\n",
        "from imgaug import seed\n",
        "def aug_training_set_loader(images,labels,inp_dims):\n",
        "    NUM_COPIES = ceil(1000/len(images))\n",
        "    images = np.array(images)\n",
        "    images=augment(inp_dims[0], inp_dims[1], images, NUM_COPIES)\n",
        "    aug_labels =[]\n",
        "    for x in labels:\n",
        "        for i in range(NUM_COPIES+1):  # NUM_COPIES+1-> numbers of augmentations + 1 original\n",
        "            aug_labels.append(x)\n",
        "    images, labels = skshuffle(images, aug_labels)\n",
        "    images = np.array(images)\n",
        "    # images = np.array(images, dtype=\"float\") / 255.0\n",
        "    labels = np.array(labels)\n",
        "    return images, labels\n",
        "\n",
        "def augment(width, height, data, NUM_COPIES):\n",
        "    \"\"\"\n",
        "    preform augmentetion on the list of photos named 'data'\n",
        "    :param width: width of a single photo\n",
        "    :param height: height of a single photo\n",
        "    :param data: a list of photos to augment\n",
        "    :param NUM_COPIES: number of copies produced from the image\n",
        "    :return: a list of photos that consists from the original photos and their augmentations\n",
        "    \"\"\"\n",
        "    augmented_data = []\n",
        "    sometimes = lambda aug: iaa.Sometimes(0.5, aug)\n",
        "    seq = iaa.Sequential([\n",
        "        sometimes(iaa.Sharpen(alpha=(0.0, 1.0), lightness=(0.75, 2.0))),\n",
        "        sometimes(iaa.Fliplr()),  # horizontal flips\n",
        "        sometimes(iaa.AddElementwise((-50, 50))),\n",
        "        sometimes(iaa.Sometimes(0.5, iaa.GaussianBlur(sigma=(0.0, 2.0)))),\n",
        "        sometimes(iaa.ContrastNormalization((0.8, 1.2))),\n",
        "        sometimes(iaa.Multiply((0.8, 1.2), per_channel=0.2)),\n",
        "        sometimes(iaa.Affine(\n",
        "            scale={\"x\": (0.8, 1.2), \"y\": (0.8, 1.2)},\n",
        "            translate_percent={\"x\": (-0.2, 0.2), \"y\": (-0.2, 0.2)},\n",
        "            shear=(-8, 8)\n",
        "        )),\n",
        "        sometimes(iaa.Superpixels(p_replace=0.1, n_segments=150))\n",
        "    ], random_order=True)  # apply augmenters in random order\n",
        "    for img in data:\n",
        "        copies = augment_image(width, height, img, seq, NUM_COPIES)\n",
        "        copies.append(img.reshape(width, height, 3))\n",
        "        for cpy in copies:\n",
        "            augmented_data.append(cpy)\n",
        "    return augmented_data\n",
        "\n",
        "\n",
        "def augment_image(width, height, image, seq, NUM_COPIES):\n",
        "    \"\"\"\n",
        "        augments a single image\n",
        "    :param width: width of the image\n",
        "    :param height: height of the image\n",
        "    :param image: a matrix representing a rgb image\n",
        "    :param seq: the augmantation sequence preformed\n",
        "    :param NUM_COPIES: number of copies produced from the image\n",
        "    :return: a list of all images made from 'image' not including the original\n",
        "    \"\"\"\n",
        "    seed (1)\n",
        "    copies = []\n",
        "    image = image.reshape(width, height, 3)\n",
        "    for i in range(NUM_COPIES):\n",
        "        copies.append(seq.augment_image(image))\n",
        "\n",
        "    return copies"
      ],
      "execution_count": 7,
      "outputs": []
    },
    {
      "cell_type": "markdown",
      "metadata": {
        "id": "b_dfbPgstK6i",
        "colab_type": "text"
      },
      "source": [
        "# Only Classifier"
      ]
    },
    {
      "cell_type": "code",
      "metadata": {
        "id": "D16kvdCKtRhD",
        "colab_type": "code",
        "colab": {}
      },
      "source": [
        "def train_classifier(param,models):\n",
        "    \n",
        "    inp = Input(shape = ([224, 224, 3]))\n",
        "    # embedding = build_embedding_vgg(param,inp)\n",
        "    # classifier = build_classifier_vgg(param, embedding)\n",
        "    \n",
        "    models[\"combined_classifier\"].compile(optimizer = opt_classifier(param), loss = 'categorical_crossentropy', metrics = ['accuracy'])\n",
        "    Xs_train, ys_train = param[\"Xs_train\"], param[\"ys_train\"]\n",
        "    Xs_test , ys_test =  param[\"Xs_test\"], param[\"ys_test\"]\n",
        "    S_batches = batch_generator([Xs_train, ys_train], param[\"batch_size\"])\n",
        "    # T_batches = batch_generator([Xt_train, np.zeros(shape = (len(Xt_train),))], param[\"batch_size\"])\n",
        "\n",
        "    param[\"target_accuracy\"] = 0\n",
        "\n",
        "    optim = {}\n",
        "    optim[\"iter\"] = 0\n",
        "    optim[\"acc\"] = \"\"\n",
        "    # optim[\"labels\"] = np.array(Xt.shape[0],)\n",
        "    gap_last_snap = 0\n",
        "\n",
        "    acc_source=[]\n",
        "    acc_target=[]\n",
        "    acc_domain_source=[]\n",
        "    acc_domain_target=[]\n",
        "\n",
        "    for i in range(param[\"num_iterations_classifier\"]):        \n",
        "        Xsb, ysb = next(S_batches)\n",
        "        # Xtb, ytb = next(T_batches)\n",
        " \n",
        "        stats1 = models[\"combined_classifier\"].train_on_batch(Xsb, [ysb])\n",
        "\n",
        "        if ((i + 1) % param[\"test_interval\"] == 0):\n",
        "            ys_pred = models[\"combined_classifier\"].predict(Xs_train)\n",
        "            # yt_pred = models[\"combined_classifier\"].predict(Xt_train)\n",
        "\n",
        "            source_accuracy = accuracy_score(ys_train.argmax(1), ys_pred.argmax(1))              \n",
        "            # target_accuracy = accuracy_score(yt_train.argmax(1), yt_pred.argmax(1))\n",
        "\n",
        "\n",
        "            acc_source.append(source_accuracy)\n",
        "            # acc_target.append(target_accuracy)\n",
        "\n",
        "            log_str = \"iter: {:05d}: \\nLABEL CLASSIFICATION: source_accuracy: {:.5f}\"\\\n",
        "                                                         .format(i, source_accuracy*100)\n",
        "            print(log_str)\n",
        "\n",
        "            \n",
        "            \n",
        "    models[\"combined_classifier\"].save('/content/drive/My Drive/pro_data/‏final_result_B/source_classifier.h5')\n",
        "\n",
        "    print(\"Source matrix: \",metrics.confusion_matrix(ys_train.argmax(1), ys_pred.argmax(1)))\n",
        "\n",
        "    ys_test_pred = models[\"combined_classifier\"].predict(Xs_test)\n",
        "    source_accuracy_test = accuracy_score(ys_test.argmax(1), ys_test_pred.argmax(1))              \n",
        "\n",
        "    print(\"source accuracy test\",source_accuracy_test)\n",
        "    cm_s = metrics.confusion_matrix(ys_test.argmax(1), ys_test_pred.argmax(1))\n",
        "    print(\"Source matrix: \",cm_s)\n",
        "    \n",
        "    labels_path = '/content/drive/My Drive/pro_data/‏final_result_B/labels'  \n",
        "    lb = pickle.loads(open(labels_path, \"rb\").read())\n",
        "    classes = lb.classes_\n",
        "    _plot_confusion_matrix(cm_s, classes,title='Classifier Source Confusion matrix')\n",
        "\n",
        "    N = np.arange(0,len(acc_source))\n",
        "\n",
        "    plt.style.use(\"ggplot\")\n",
        "    plt.figure()\n",
        "    plt.plot(N, np.array(acc_source), label=\"Source accuracy\")\n",
        "    plt.title(\"Training Accuracy of Source Classifier \")\n",
        "    plt.xlabel(\"Number of imtervals\")\n",
        "    plt.ylabel(\"Accuracy\")\n",
        "    plt.legend()\n",
        "    plt.savefig('/content/drive/My Drive/pro_data/‏final_result_B/classifier.png')\n",
        "\n",
        "    plt.show()\n",
        "\n",
        "\n"
      ],
      "execution_count": 8,
      "outputs": []
    },
    {
      "cell_type": "markdown",
      "metadata": {
        "id": "Jthvwwiz8qAg",
        "colab_type": "text"
      },
      "source": [
        "# Train target discriminator "
      ]
    },
    {
      "cell_type": "code",
      "metadata": {
        "id": "HF1SV9K5jmUK",
        "colab_type": "code",
        "colab": {}
      },
      "source": [
        "models = {}\n",
        "from keras.applications.vgg16 import preprocess_input\n",
        "def train(param):\n",
        "    inp = Input(shape = (param[\"inp_dims\"]))\n",
        "    models[\"embedding_s\"] = build_embedding(param) \n",
        "    # Build the classifier\n",
        "    models['combined_classifier'] = build_classifier(param,  models[\"embedding_s\"])\n",
        "    train_classifier(param,models)\n",
        "\n",
        "    embedding_t = clone_model( models[\"embedding_s\"])\n",
        "    \n",
        "    # Build and compile the discriminator\n",
        "    discriminator_s = build_discriminator(param,  models[\"embedding_s\"].output_shape[1:])\n",
        "    discriminator_t = build_discriminator(param, embedding_t.output_shape[1:])\n",
        "    models[\"combined_discriminator_s\"] = Model(inputs=( models[\"embedding_s\"].input), outputs=(discriminator_s( models[\"embedding_s\"].output)))\n",
        "    models[\"combined_discriminator_t\"] = Model(inputs=(embedding_t.input), outputs=(discriminator_t(embedding_t.output)))\n",
        "    models[\"combined_discriminator_t\"].compile(optimizer = opt_discriminator(param), loss = 'binary_crossentropy', metrics = ['accuracy'])\n",
        "    #  If you set this flag after compilation - then it will not affect your model at all.\n",
        "    # models[\"embedding_s\"].trainable = False\n",
        "    for layer in param[\"source_encoder\"].layers:\n",
        "        layer.trainable = False\n",
        "    models[\"combined_discriminator_s\"].compile(optimizer = opt_discriminator(param), loss = 'binary_crossentropy', metrics = ['accuracy'])\n",
        "    \n",
        "    \n",
        "    models[\"combined_discriminator_s\"].summary()\n",
        "    models[\"combined_discriminator_t\"].summary()\n",
        "    \n",
        "    Xt, Xt_test, yt, yt_test = param[\"Xt_train\"], param[\"Xt_test\"], param[\"yt_train\"], param[\"yt_test\"] \n",
        "    Xs, Xs_test, ys, ys_test = param[\"Xs_train\"], param[\"Xs_test\"], param[\"ys_train\"], param[\"ys_test\"] \n",
        "\n",
        "    \n",
        "    Xs, ys = aug_training_set_loader(Xs, ys, param[\"inp_dims\"])\n",
        "    Xt, yt = aug_training_set_loader(Xt, yt, param[\"inp_dims\"])\n",
        "\n",
        "\n",
        "    # Source domain is represented by label 0 and Target by 1\n",
        "\n",
        "    S_batches = batch_generator([Xs, ys], param[\"batch_size\"])\n",
        "    T_batches = batch_generator([Xt, np.zeros(shape = (len(Xt),))], param[\"batch_size\"])\n",
        "\n",
        "    param[\"target_accuracy\"] = 0\n",
        "\n",
        "    optim = {}\n",
        "    optim[\"iter\"] = 0\n",
        "    optim[\"acc\"] = \"\"\n",
        "    optim[\"labels\"] = np.array(Xt.shape[0],)\n",
        "    gap_last_snap = 0\n",
        "\n",
        "    acc_domain_source=[]\n",
        "    acc_domain_target=[]\n",
        "    loss_discriminator = []\n",
        "\n",
        "    t_domain_label = np.ones(( param[\"batch_size\"], 1))\n",
        "    s_domain_label = np.zeros(( param[\"batch_size\"], 1))\n",
        "    for i in range(param[\"num_iterations_discriminator\"]):        \n",
        "        Xsb, ysb = next(S_batches)\n",
        "        Xtb, ytb = next(T_batches)\n",
        "        t_domain_label = np.zeros(Xsb.shape[0])\n",
        "        s_domain_label =  np.ones(Xtb.shape[0])\n",
        "        X_adv = np.concatenate([Xsb, Xtb])\n",
        "        y_class = np.concatenate([ysb, np.zeros_like(ysb)])\n",
        "\n",
        "\n",
        "        acc_d_s , d_loss_s = models[\"combined_discriminator_s\"].train_on_batch(Xsb, s_domain_label)\n",
        "        acc_d_t , d_loss_t = models[\"combined_discriminator_t\"].train_on_batch(Xtb, t_domain_label)\n",
        "        acc = acc_d_s + acc_d_t / 2\n",
        "        loss = d_loss_s + d_loss_t\n",
        "\n",
        "        if ((i + 1) % param[\"test_interval\"] == 0):\n",
        "\n",
        "            acc_domain_source.append(acc_d_s)\n",
        "            acc_domain_target.append(acc_d_t)\n",
        "            loss_discriminator.append(loss)\n",
        "\n",
        "            log_str = \"iter: {:05d}: DOMAIN DISCRIMINATION: source_domain_accuracy: {:.5f}, target_domain_accuracy: {:.5f} \\n\"\\\n",
        "                                                         .format(i, acc_d_s*100, acc_d_t*100)\n",
        "            print(log_str)\n",
        "\n",
        "    \n",
        "    discriminator_t.save_weights('/content/drive/My Drive/pro_data/‏final_result_B/disc_target_10000_iter.hdf5')\n",
        "\n",
        "    N = np.arange(0,len(acc_domain_source))\n",
        "\n",
        "    plt.style.use(\"ggplot\")\n",
        "    plt.figure()\n",
        "    plt.plot(N, np.array(acc_domain_source), label=\"Domain Source accuracy\")\n",
        "    plt.plot(N, np.array(acc_domain_target), label=\"Domain Target accuracy\")\n",
        "    plt.title(\"Domain Accuracy of Source and Target \")\n",
        "    plt.xlabel(\"Number of intervals\")\n",
        "    plt.ylabel(\"Accuracy\")\n",
        "    plt.legend()\n",
        "  \n",
        "    plt.savefig('/content/drive/My Drive/pro_data/‏final_result_B/discriminator_graph.png')\n",
        "    plt.show()\n",
        "    \n",
        "    plt.style.use(\"ggplot\")\n",
        "    plt.figure()\n",
        "    # plt.plot(N, np.array(loss_classifier_source), label=\"Combined Model ACC / Loss\")\n",
        "    plt.plot(N, np.array(loss_discriminator), label=\"Discriminator Acc / loss\")\n",
        "    plt.title(\"Discriminator Loss - Average of Source and Target \")\n",
        "    plt.xlabel(\"Number of intervals\")\n",
        "    plt.ylabel(\"Acc/ Loss\")\n",
        "    plt.legend()\n",
        "    \n",
        "    plt.savefig('/content/drive/My Drive/pro_data/‏final_result_B/train_on_batch_graph.png')\n",
        "    plt.show()\n"
      ],
      "execution_count": 9,
      "outputs": []
    },
    {
      "cell_type": "code",
      "metadata": {
        "id": "PcwWtJM26n9P",
        "colab_type": "code",
        "colab": {
          "base_uri": "https://localhost:8080/",
          "height": 526
        },
        "outputId": "03d23e12-670c-45c7-814d-4c8d2162a044"
      },
      "source": [
        "models[\"combined_discriminator_s\"].summary()\n",
        "models[\"combined_discriminator_t\"].summary()"
      ],
      "execution_count": 21,
      "outputs": [
        {
          "output_type": "stream",
          "text": [
            "Model: \"model_7\"\n",
            "_________________________________________________________________\n",
            "Layer (type)                 Output Shape              Param #   \n",
            "=================================================================\n",
            "input_6 (InputLayer)         (None, 224, 224, 3)       0         \n",
            "_________________________________________________________________\n",
            "vggface_vgg16 (Model)        multiple                  14714688  \n",
            "_________________________________________________________________\n",
            "model_5 (Model)              (None, 1)                 10077805  \n",
            "=================================================================\n",
            "Total params: 24,792,493\n",
            "Trainable params: 24,791,491\n",
            "Non-trainable params: 1,002\n",
            "_________________________________________________________________\n",
            "Model: \"model_8\"\n",
            "_________________________________________________________________\n",
            "Layer (type)                 Output Shape              Param #   \n",
            "=================================================================\n",
            "input_6 (InputLayer)         (None, 224, 224, 3)       0         \n",
            "_________________________________________________________________\n",
            "vggface_vgg16 (Model)        multiple                  14714688  \n",
            "_________________________________________________________________\n",
            "model_6 (Model)              (None, 1)                 10077805  \n",
            "=================================================================\n",
            "Total params: 24,792,493\n",
            "Trainable params: 24,791,491\n",
            "Non-trainable params: 1,002\n",
            "_________________________________________________________________\n"
          ],
          "name": "stdout"
        }
      ]
    },
    {
      "cell_type": "markdown",
      "metadata": {
        "id": "ZdnIND2JEHUn",
        "colab_type": "text"
      },
      "source": [
        "# Main"
      ]
    },
    {
      "cell_type": "code",
      "metadata": {
        "id": "Sq_tQgLEEETm",
        "colab_type": "code",
        "colab": {}
      },
      "source": [
        "import argparse\n",
        "if __name__ == \"__main__\":\n",
        "    # Read parameter values from the console\n",
        "    parser = argparse.ArgumentParser(description = 'Domain Adaptation')\n",
        "    parser.add_argument('--number_of_gpus', type = int, nargs = '?', default = '1', help = \"Number of gpus to run\")\n",
        "    parser.add_argument('--network_name', type = str, default = 'ResNet50', help = \"Name of the feature extractor network\")\n",
        "    parser.add_argument('--dataset_name', type = str, default = 'Office', help = \"Name of the source dataset\")\n",
        "    parser.add_argument('--dropout_classifier', type = float, default = 0.25, help = \"Dropout ratio for classifier\")\n",
        "    parser.add_argument('--dropout_discriminator', type = float, default = 0.25, help = \"Dropout ratio for discriminator\")    \n",
        "    parser.add_argument('--source_path', type = str, default = 'amazon_10_list.txt', help = \"Path to source dataset\")\n",
        "    parser.add_argument('--target_path', type = str, default = 'webcam_10_list.txt', help = \"Path to target dataset\")\n",
        "    parser.add_argument('--lr_classifier', type = float, default = 0.0001, help = \"Learning rate for classifier model\")\n",
        "    parser.add_argument('--b1_classifier', type = float, default = 0.9, help = \"Exponential decay rate of first moment \\\n",
        "                                                                                             for classifier model optimizer\")\n",
        "    parser.add_argument('--b2_classifier', type = float, default = 0.999, help = \"Exponential decay rate of second moment \\\n",
        "                                                                                            for classifier model optimizer\")\n",
        "    parser.add_argument('--lr_discriminator', type = float, default = 0.00001, help = \"Learning rate for discriminator model\")\n",
        "    parser.add_argument('--b1_discriminator', type = float, default = 0.9, help = \"Exponential decay rate of first moment \\\n",
        "                                                                                             for discriminator model optimizer\")\n",
        "    parser.add_argument('--b2_discriminator', type = float, default = 0.999, help = \"Exponential decay rate of second moment \\\n",
        "                                                                                            for discriminator model optimizer\")\n",
        "    parser.add_argument('--lr_combined', type = float, default = 0.00001, help = \"Learning rate for combined model\")\n",
        "    parser.add_argument('--b1_combined', type = float, default = 0.9, help = \"Exponential decay rate of first moment \\\n",
        "                                                                                             for combined model optimizer\")\n",
        "    parser.add_argument('--b2_combined', type = float, default = 0.999, help = \"Exponential decay rate of second moment \\\n",
        "                                                                                            for combined model optimizer\")\n",
        "    parser.add_argument('--classifier_loss_weight', type = float, default = 1, help = \"Classifier loss weight\")\n",
        "    parser.add_argument('--discriminator_loss_weight', type = float, default = 4, help = \"Discriminator loss weight\")\n",
        "    parser.add_argument('--batch_size', type = int, default = 32, help = \"Batch size for training\")\n",
        "    parser.add_argument('--test_interval', type = int, default = 3, help = \"Gap between two successive test phases\")\n",
        "    parser.add_argument('--num_iterations', type = int, default = 120, help = \"Number of iterations\")\n",
        "    parser.add_argument('--snapshot_interval', type = int, default = 500, help = \"Minimum gap between saving outputs\")\n",
        "    parser.add_argument('--output_dir', type = str, default = 'Models', help = \"Directory for saving outputs\")\n",
        "    # args = parser.parse_args()\n",
        "\n",
        "    # Set GPU device\n",
        "    # os.environ[\"CUDA_VISIBLE_DEVICES\"] = str(list(np.arange(args.number_of_gpus))).strip('[]')\n",
        "\n",
        "    # Initialize parameters\n",
        "    param = {}\n",
        "    models = {}\n",
        "    param[\"number_of_gpus\"] = 1\n",
        "    # param[\"network_name\"] = 'ResNet50'\n",
        "    param[\"network_name\"] = 'VGGFace'\n",
        "    param[\"inp_dims\"] = [224, 224, 3]\n",
        "    param[\"num_iterations_classifier\"] = 2000\n",
        "    param[\"num_iterations_discriminator\"] = 5000\n",
        "    # param[\"num_iterations\"] = 500\n",
        "    param[\"lr_classifier\"] = 0.0001\n",
        "    param[\"b1_classifier\"] = 0.9\n",
        "    param[\"b2_classifier\"] = 0.999    \n",
        "    param[\"lr_discriminator\"] = 0.00001\n",
        "    param[\"b1_discriminator\"] =  0.9\n",
        "    param[\"b2_discriminator\"] = 0.999\n",
        "    param[\"lr_combined\"] = 0.00001\n",
        "    param[\"b1_combined\"] =  0.9\n",
        "    param[\"b2_combined\"] =  0.999       \n",
        "    # param[\"batch_size\"] = int(32)\n",
        "    param[\"batch_size\"] = int(32/2)\n",
        "    param[\"class_loss_weight\"] = 1\n",
        "    param[\"dis_loss_weight\"] = 4    \n",
        "    param[\"drop_classifier\"] = 0.25\n",
        "    param[\"drop_discriminator\"] = 0.25\n",
        "    param[\"test_interval\"] = 100\n",
        "    # param[\"source_path\"] = 'drive/My Drive/final_proj_dataset/data_file_shelly.txt'\n",
        "    # param[\"target_path\"] = 'drive/My Drive/final_proj_dataset/data_file_yerus.txt' \n",
        "    param[\"source_path\"] = '/content/drive/My Drive/pro_data/source'\n",
        "    param[\"target_path\"] =  '/content/drive/My Drive/pro_data/target'\n",
        "    param[\"snapshot_interval\"] = 500\n",
        "    # param[\"snapshot_interval\"] = 5\n",
        "    param[\"output_path\"] = '/content/drive/My Drive/pro_data/‏final_result_B'\n",
        "    param[\"number_of_classe\"] = 0\n",
        "\n",
        "    # # Create directory for saving models and log files\n",
        "    if not os.path.exists(param[\"output_path\"]):\n",
        "        os.mkdir(param[\"output_path\"])\n",
        "    \n",
        "    # print(\"[INFO] loading images...\")\n",
        "    # # Load source and target data\n",
        "    # param[\"source_data\"], param[\"source_label\"] = data_loader(param[\"source_path\"], param[\"inp_dims\"])\n",
        "    # param[\"target_data\"], param[\"target_label\"] = data_loader(param[\"target_path\"], param[\"inp_dims\"])\n",
        "    # # param[\"source_data\"], param[\"source_label\"],param[\"target_data\"], param[\"target_label\"] =  load_data(param[\"source_path\"],param[\"target_path\"])\n",
        "\n",
        "    # # Encode labels into one-hot format\n",
        "    # param[\"source_label\"], param[\"target_label\"] = one_hot_encoding(param)\n",
        "\n",
        "    \n",
        "\n",
        "   "
      ],
      "execution_count": 12,
      "outputs": []
    },
    {
      "cell_type": "code",
      "metadata": {
        "id": "42msC3B1fJoH",
        "colab_type": "code",
        "colab": {
          "base_uri": "https://localhost:8080/",
          "height": 199
        },
        "outputId": "c98efb8a-7406-4346-b85d-2d50cdd90dc0"
      },
      "source": [
        "print(\"[INFO] loading images...\")\n",
        "# Load source and target data\n",
        "param[\"source_data\"], param[\"source_label\"] = data_loader(param[\"source_path\"], param[\"inp_dims\"])\n",
        "print(\"source images loaded\")\n",
        "print(\"number of images in source domain\", param[\"source_data\"].shape[0])\n",
        "param[\"target_data\"], param[\"target_label\"] = data_loader(param[\"target_path\"], param[\"inp_dims\"])\n",
        "print(\"target images loaded\")\n",
        "print(\"number of images in target domain\", param[\"target_data\"].shape[0])\n",
        "# Encode labels into one-hot format\n",
        "print(\"[INFO] Encode labels into one-hot format\")\n",
        "param[\"source_label\"], param[\"target_label\"] = one_hot_encoding(param)\n",
        "\n",
        "\n",
        "\n",
        "param[\"Xt_train\"], param[\"Xt_test\"], param[\"yt_train\"], param[\"yt_test\"] = train_test_split(param[\"target_data\"], param[\"target_label\"], test_size=0.2, random_state=42)\n",
        "param[\"Xs_train\"], param[\"Xs_test\"], param[\"ys_train\"], param[\"ys_test\"] = train_test_split(param[\"source_data\"], param[\"source_label\"], test_size=0.2, random_state=42)\n",
        "\n",
        "print('Xt_train ',param[\"Xt_train\"].shape[0] )\n",
        "print('Xt_test ',param[\"Xt_test\"].shape[0])\n",
        "print('Xs_train', param[\"Xs_train\"].shape[0] )\n",
        "print('Xs_test', param[\"Xs_test\"].shape[0])"
      ],
      "execution_count": 13,
      "outputs": [
        {
          "output_type": "stream",
          "text": [
            "[INFO] loading images...\n",
            "source images loaded\n",
            "number of images in source domain 1050\n",
            "target images loaded\n",
            "number of images in target domain 1063\n",
            "[INFO] Encode labels into one-hot format\n",
            "Xt_train  850\n",
            "Xt_test  213\n",
            "Xs_train 840\n",
            "Xs_test 210\n"
          ],
          "name": "stdout"
        }
      ]
    },
    {
      "cell_type": "code",
      "metadata": {
        "id": "i1vaKAXuoj3A",
        "colab_type": "code",
        "colab": {
          "base_uri": "https://localhost:8080/",
          "height": 1000
        },
        "outputId": "0f93f7b2-3ef3-4565-f70a-1f7435f787d0"
      },
      "source": [
        "# Train data\n",
        "print(\"[INFO] training network...\")\n",
        "train(param)\n",
        "# param[\"combined_classifier\"].save('drive/My Drive/pro_data/result_vgg_notBmix/_source_model_less_layers.h5')\n"
      ],
      "execution_count": 16,
      "outputs": [
        {
          "output_type": "stream",
          "text": [
            "[INFO] training network...\n",
            "iter: 00099: \n",
            "LABEL CLASSIFICATION: source_accuracy: 99.88095\n",
            "iter: 00199: \n",
            "LABEL CLASSIFICATION: source_accuracy: 100.00000\n",
            "iter: 00299: \n",
            "LABEL CLASSIFICATION: source_accuracy: 100.00000\n",
            "iter: 00399: \n",
            "LABEL CLASSIFICATION: source_accuracy: 100.00000\n",
            "iter: 00499: \n",
            "LABEL CLASSIFICATION: source_accuracy: 100.00000\n",
            "iter: 00599: \n",
            "LABEL CLASSIFICATION: source_accuracy: 100.00000\n",
            "iter: 00699: \n",
            "LABEL CLASSIFICATION: source_accuracy: 100.00000\n",
            "iter: 00799: \n",
            "LABEL CLASSIFICATION: source_accuracy: 100.00000\n",
            "iter: 00899: \n",
            "LABEL CLASSIFICATION: source_accuracy: 100.00000\n",
            "iter: 00999: \n",
            "LABEL CLASSIFICATION: source_accuracy: 100.00000\n",
            "iter: 01099: \n",
            "LABEL CLASSIFICATION: source_accuracy: 100.00000\n",
            "iter: 01199: \n",
            "LABEL CLASSIFICATION: source_accuracy: 100.00000\n",
            "iter: 01299: \n",
            "LABEL CLASSIFICATION: source_accuracy: 100.00000\n",
            "iter: 01399: \n",
            "LABEL CLASSIFICATION: source_accuracy: 100.00000\n",
            "iter: 01499: \n",
            "LABEL CLASSIFICATION: source_accuracy: 100.00000\n",
            "iter: 01599: \n",
            "LABEL CLASSIFICATION: source_accuracy: 100.00000\n",
            "iter: 01699: \n",
            "LABEL CLASSIFICATION: source_accuracy: 100.00000\n",
            "iter: 01799: \n",
            "LABEL CLASSIFICATION: source_accuracy: 100.00000\n",
            "iter: 01899: \n",
            "LABEL CLASSIFICATION: source_accuracy: 100.00000\n",
            "iter: 01999: \n",
            "LABEL CLASSIFICATION: source_accuracy: 100.00000\n",
            "Source matrix:  [[416   0]\n",
            " [  0 424]]\n",
            "source accuracy test 1.0\n",
            "Source matrix:  [[109   0]\n",
            " [  0 101]]\n"
          ],
          "name": "stdout"
        },
        {
          "output_type": "display_data",
          "data": {
            "image/png": "[encoded data removed]",
            "text/plain": [
              "<Figure size 432x288 with 2 Axes>"
            ]
          },
          "metadata": {
            "tags": [],
            "needs_background": "light"
          }
        },
        {
          "output_type": "display_data",
          "data": {
            "image/png": "[encoded data removed]",
            "text/plain": [
              "<Figure size 432x288 with 1 Axes>"
            ]
          },
          "metadata": {
            "tags": []
          }
        },
        {
          "output_type": "stream",
          "text": [
            "/usr/local/lib/python3.6/dist-packages/ipykernel_launcher.py:73: UserWarning: Update your `Model` call to the Keras 2 API: `Model(outputs=Tensor(\"di..., inputs=Tensor(\"in...)`\n"
          ],
          "name": "stderr"
        },
        {
          "output_type": "stream",
          "text": [
            "Model: \"model_6\"\n",
            "_________________________________________________________________\n",
            "Layer (type)                 Output Shape              Param #   \n",
            "=================================================================\n",
            "input_10 (InputLayer)        (None, 7, 7, 512)         0         \n",
            "_________________________________________________________________\n",
            "flatten_4 (Flatten)          (None, 25088)             0         \n",
            "_________________________________________________________________\n",
            "dis_dense1 (Dense)           (None, 400)               10035600  \n",
            "_________________________________________________________________\n",
            "dis_bn1 (BatchNormalization) (None, 400)               1600      \n",
            "_________________________________________________________________\n",
            "dis_act1 (Activation)        (None, 400)               0         \n",
            "_________________________________________________________________\n",
            "dis_drop1 (Dropout)          (None, 400)               0         \n",
            "_________________________________________________________________\n",
            "dis_dense2 (Dense)           (None, 100)               40100     \n",
            "_________________________________________________________________\n",
            "dis_bn2 (BatchNormalization) (None, 100)               400       \n",
            "_________________________________________________________________\n",
            "dis_act2 (Activation)        (None, 100)               0         \n",
            "_________________________________________________________________\n",
            "dis_drop2 (Dropout)          (None, 100)               0         \n",
            "_________________________________________________________________\n",
            "dis_dense_last (Dense)       (None, 1)                 101       \n",
            "_________________________________________________________________\n",
            "dis_bn_last (BatchNormalizat (None, 1)                 4         \n",
            "_________________________________________________________________\n",
            "dis_act_last (Activation)    (None, 1)                 0         \n",
            "=================================================================\n",
            "Total params: 10,077,805\n",
            "Trainable params: 10,076,803\n",
            "Non-trainable params: 1,002\n",
            "_________________________________________________________________\n",
            "Model: \"model_5\"\n",
            "_________________________________________________________________\n",
            "Layer (type)                 Output Shape              Param #   \n",
            "=================================================================\n",
            "input_9 (InputLayer)         (None, 7, 7, 512)         0         \n",
            "_________________________________________________________________\n",
            "flatten_3 (Flatten)          (None, 25088)             0         \n",
            "_________________________________________________________________\n",
            "dis_dense1 (Dense)           (None, 400)               10035600  \n",
            "_________________________________________________________________\n",
            "dis_bn1 (BatchNormalization) (None, 400)               1600      \n",
            "_________________________________________________________________\n",
            "dis_act1 (Activation)        (None, 400)               0         \n",
            "_________________________________________________________________\n",
            "dis_drop1 (Dropout)          (None, 400)               0         \n",
            "_________________________________________________________________\n",
            "dis_dense2 (Dense)           (None, 100)               40100     \n",
            "_________________________________________________________________\n",
            "dis_bn2 (BatchNormalization) (None, 100)               400       \n",
            "_________________________________________________________________\n",
            "dis_act2 (Activation)        (None, 100)               0         \n",
            "_________________________________________________________________\n",
            "dis_drop2 (Dropout)          (None, 100)               0         \n",
            "_________________________________________________________________\n",
            "dis_dense_last (Dense)       (None, 1)                 101       \n",
            "_________________________________________________________________\n",
            "dis_bn_last (BatchNormalizat (None, 1)                 4         \n",
            "_________________________________________________________________\n",
            "dis_act_last (Activation)    (None, 1)                 0         \n",
            "=================================================================\n",
            "Total params: 10,077,805\n",
            "Trainable params: 10,076,803\n",
            "Non-trainable params: 1,002\n",
            "_________________________________________________________________\n",
            "iter: 00099: DOMAIN DISCRIMINATION: source_domain_accuracy: 80.30049, target_domain_accuracy: 79.03732 \n",
            "\n",
            "iter: 00199: DOMAIN DISCRIMINATION: source_domain_accuracy: 78.72348, target_domain_accuracy: 79.57014 \n",
            "\n",
            "iter: 00299: DOMAIN DISCRIMINATION: source_domain_accuracy: 79.42919, target_domain_accuracy: 78.36939 \n",
            "\n",
            "iter: 00399: DOMAIN DISCRIMINATION: source_domain_accuracy: 79.04357, target_domain_accuracy: 79.25513 \n",
            "\n",
            "iter: 00499: DOMAIN DISCRIMINATION: source_domain_accuracy: 79.65372, target_domain_accuracy: 78.26362 \n",
            "\n",
            "iter: 00599: DOMAIN DISCRIMINATION: source_domain_accuracy: 79.52433, target_domain_accuracy: 79.78244 \n",
            "\n",
            "iter: 00699: DOMAIN DISCRIMINATION: source_domain_accuracy: 78.40852, target_domain_accuracy: 77.80073 \n",
            "\n",
            "iter: 00799: DOMAIN DISCRIMINATION: source_domain_accuracy: 79.53339, target_domain_accuracy: 79.53887 \n",
            "\n",
            "iter: 00899: DOMAIN DISCRIMINATION: source_domain_accuracy: 77.82344, target_domain_accuracy: 79.18177 \n",
            "\n",
            "iter: 00999: DOMAIN DISCRIMINATION: source_domain_accuracy: 77.88507, target_domain_accuracy: 78.74679 \n",
            "\n",
            "iter: 01099: DOMAIN DISCRIMINATION: source_domain_accuracy: 79.00290, target_domain_accuracy: 77.53683 \n",
            "\n",
            "iter: 01199: DOMAIN DISCRIMINATION: source_domain_accuracy: 77.42658, target_domain_accuracy: 77.30794 \n",
            "\n",
            "iter: 01299: DOMAIN DISCRIMINATION: source_domain_accuracy: 79.56390, target_domain_accuracy: 79.50537 \n",
            "\n",
            "iter: 01399: DOMAIN DISCRIMINATION: source_domain_accuracy: 77.74242, target_domain_accuracy: 77.76907 \n",
            "\n",
            "iter: 01499: DOMAIN DISCRIMINATION: source_domain_accuracy: 78.90799, target_domain_accuracy: 79.64437 \n",
            "\n",
            "iter: 01599: DOMAIN DISCRIMINATION: source_domain_accuracy: 77.19761, target_domain_accuracy: 77.47042 \n",
            "\n",
            "iter: 01699: DOMAIN DISCRIMINATION: source_domain_accuracy: 77.09976, target_domain_accuracy: 77.16889 \n",
            "\n",
            "iter: 01799: DOMAIN DISCRIMINATION: source_domain_accuracy: 79.41673, target_domain_accuracy: 79.31883 \n",
            "\n",
            "iter: 01899: DOMAIN DISCRIMINATION: source_domain_accuracy: 77.58464, target_domain_accuracy: 78.66240 \n",
            "\n",
            "iter: 01999: DOMAIN DISCRIMINATION: source_domain_accuracy: 79.25243, target_domain_accuracy: 78.22659 \n",
            "\n",
            "iter: 02099: DOMAIN DISCRIMINATION: source_domain_accuracy: 76.93368, target_domain_accuracy: 76.70758 \n",
            "\n",
            "iter: 02199: DOMAIN DISCRIMINATION: source_domain_accuracy: 76.83153, target_domain_accuracy: 76.83428 \n",
            "\n",
            "iter: 02299: DOMAIN DISCRIMINATION: source_domain_accuracy: 77.59385, target_domain_accuracy: 77.39394 \n",
            "\n",
            "iter: 02399: DOMAIN DISCRIMINATION: source_domain_accuracy: 76.66157, target_domain_accuracy: 77.10630 \n",
            "\n",
            "iter: 02499: DOMAIN DISCRIMINATION: source_domain_accuracy: 76.65694, target_domain_accuracy: 77.34635 \n",
            "\n",
            "iter: 02599: DOMAIN DISCRIMINATION: source_domain_accuracy: 76.69572, target_domain_accuracy: 76.48560 \n",
            "\n",
            "iter: 02699: DOMAIN DISCRIMINATION: source_domain_accuracy: 77.04238, target_domain_accuracy: 76.48993 \n",
            "\n",
            "iter: 02799: DOMAIN DISCRIMINATION: source_domain_accuracy: 77.62862, target_domain_accuracy: 78.05974 \n",
            "\n",
            "iter: 02899: DOMAIN DISCRIMINATION: source_domain_accuracy: 76.35527, target_domain_accuracy: 78.21957 \n",
            "\n",
            "iter: 02999: DOMAIN DISCRIMINATION: source_domain_accuracy: 76.42219, target_domain_accuracy: 77.23124 \n",
            "\n",
            "iter: 03099: DOMAIN DISCRIMINATION: source_domain_accuracy: 76.46750, target_domain_accuracy: 77.61208 \n",
            "\n",
            "iter: 03199: DOMAIN DISCRIMINATION: source_domain_accuracy: 76.17115, target_domain_accuracy: 77.89102 \n",
            "\n",
            "iter: 03299: DOMAIN DISCRIMINATION: source_domain_accuracy: 77.66457, target_domain_accuracy: 75.91875 \n",
            "\n",
            "iter: 03399: DOMAIN DISCRIMINATION: source_domain_accuracy: 76.03362, target_domain_accuracy: 75.87792 \n",
            "\n",
            "iter: 03499: DOMAIN DISCRIMINATION: source_domain_accuracy: 76.84828, target_domain_accuracy: 75.78021 \n",
            "\n",
            "iter: 03599: DOMAIN DISCRIMINATION: source_domain_accuracy: 76.57359, target_domain_accuracy: 75.70635 \n",
            "\n",
            "iter: 03699: DOMAIN DISCRIMINATION: source_domain_accuracy: 76.34529, target_domain_accuracy: 77.07626 \n",
            "\n",
            "iter: 03799: DOMAIN DISCRIMINATION: source_domain_accuracy: 75.99663, target_domain_accuracy: 77.45743 \n",
            "\n",
            "iter: 03899: DOMAIN DISCRIMINATION: source_domain_accuracy: 75.79535, target_domain_accuracy: 75.54264 \n",
            "\n",
            "iter: 03999: DOMAIN DISCRIMINATION: source_domain_accuracy: 75.65553, target_domain_accuracy: 76.88911 \n",
            "\n",
            "iter: 04099: DOMAIN DISCRIMINATION: source_domain_accuracy: 75.65126, target_domain_accuracy: 75.40125 \n",
            "\n",
            "iter: 04199: DOMAIN DISCRIMINATION: source_domain_accuracy: 75.75431, target_domain_accuracy: 77.16380 \n",
            "\n",
            "iter: 04299: DOMAIN DISCRIMINATION: source_domain_accuracy: 75.46902, target_domain_accuracy: 75.58734 \n",
            "\n",
            "iter: 04399: DOMAIN DISCRIMINATION: source_domain_accuracy: 75.40953, target_domain_accuracy: 75.35735 \n",
            "\n",
            "iter: 04499: DOMAIN DISCRIMINATION: source_domain_accuracy: 75.42433, target_domain_accuracy: 76.30959 \n",
            "\n",
            "iter: 04599: DOMAIN DISCRIMINATION: source_domain_accuracy: 75.40271, target_domain_accuracy: 76.42378 \n",
            "\n",
            "iter: 04699: DOMAIN DISCRIMINATION: source_domain_accuracy: 75.25330, target_domain_accuracy: 75.16068 \n",
            "\n",
            "iter: 04799: DOMAIN DISCRIMINATION: source_domain_accuracy: 75.22415, target_domain_accuracy: 74.99769 \n",
            "\n",
            "iter: 04899: DOMAIN DISCRIMINATION: source_domain_accuracy: 75.17271, target_domain_accuracy: 74.90658 \n",
            "\n",
            "iter: 04999: DOMAIN DISCRIMINATION: source_domain_accuracy: 75.12316, target_domain_accuracy: 74.96731 \n",
            "\n"
          ],
          "name": "stdout"
        },
        {
          "output_type": "display_data",
          "data": {
            "image/png": "[encoded data removed]",
            "text/plain": [
              "<Figure size 432x288 with 1 Axes>"
            ]
          },
          "metadata": {
            "tags": []
          }
        },
        {
          "output_type": "display_data",
          "data": {
            "image/png": "[encoded data removed]",
            "text/plain": [
              "<Figure size 432x288 with 1 Axes>"
            ]
          },
          "metadata": {
            "tags": []
          }
        }
      ]
    },
    {
      "cell_type": "markdown",
      "metadata": {
        "id": "1pQH37cTxOFF",
        "colab_type": "text"
      },
      "source": [
        "# Target Classifier"
      ]
    },
    {
      "cell_type": "code",
      "metadata": {
        "id": "goRWamsJ95YB",
        "colab_type": "code",
        "colab": {
          "base_uri": "https://localhost:8080/",
          "height": 126
        },
        "outputId": "a09ce91c-3a87-4593-d4e0-9a34afa61a92"
      },
      "source": [
        "from keras.models import load_model\n",
        "path_source_classifier = '/content/drive/My Drive/pro_data/‏final_result_B/source_classifier.h5'\n",
        "model = load_model(path_source_classifier)\n",
        "path_target_discriminator = '/content/drive/My Drive/pro_data/‏final_result_B/disc_target_10000_iter.hdf5'\n",
        "model.load_weights(path_target_discriminator, by_name=True)\n",
        "# model.compile(optimizer = opt_classifier(param), loss = 'categorical_crossentropy', metrics = ['accuracy'])\n",
        "test_xt,test_yt = param[\"Xt_test\"], param[\"yt_test\"]\n",
        "yt_pred = model.predict(test_xt)\n",
        "target_accuracy_test = accuracy_score(test_yt.argmax(1), yt_pred.argmax(1))              \n",
        "\n",
        "cm_t = metrics.confusion_matrix(test_yt.argmax(1), yt_pred.argmax(1))\n",
        "\n",
        "print(\"target accuracy test\",target_accuracy_test)\n",
        "print(\"target Classifier matrix: \",cm_t)\n",
        "\n",
        "\n",
        "test_xs,test_ys = param[\"Xs_test\"], param[\"ys_test\"]\n",
        "ys_pred = model.predict(test_xs)\n",
        "source_accuracy_test = accuracy_score(test_ys.argmax(1), ys_pred.argmax(1))              \n",
        "cm_s = metrics.confusion_matrix(test_ys.argmax(1), ys_pred.argmax(1))\n",
        "\n",
        "print(\"source accuracy test\",source_accuracy_test)\n",
        "print(\"source Classifier matrix: \",cm_s)\n"
      ],
      "execution_count": 17,
      "outputs": [
        {
          "output_type": "stream",
          "text": [
            "target accuracy test 0.5305164319248826\n",
            "target Classifier matrix:  [[21 90]\n",
            " [10 92]]\n",
            "source accuracy test 1.0\n",
            "source Classifier matrix:  [[109   0]\n",
            " [  0 101]]\n"
          ],
          "name": "stdout"
        }
      ]
    },
    {
      "cell_type": "code",
      "metadata": {
        "id": "dzsB2rnFILDi",
        "colab_type": "code",
        "colab": {
          "base_uri": "https://localhost:8080/",
          "height": 297
        },
        "outputId": "25edd8aa-4c82-44e7-b308-74daa1b496d4"
      },
      "source": [
        "labels_path = '/content/drive/My Drive/pro_data/‏final_result_B/labels'  \n",
        "lb = pickle.loads(open(labels_path, \"rb\").read())\n",
        "classes = lb.classes_\n",
        "_plot_confusion_matrix(cm_s, classes,title='Source Confusion matrix')\n"
      ],
      "execution_count": 18,
      "outputs": [
        {
          "output_type": "display_data",
          "data": {
            "image/png": "[encoded data removed]",
            "text/plain": [
              "<Figure size 432x288 with 2 Axes>"
            ]
          },
          "metadata": {
            "tags": []
          }
        }
      ]
    },
    {
      "cell_type": "code",
      "metadata": {
        "id": "J4PIVn3PcSiv",
        "colab_type": "code",
        "colab": {
          "base_uri": "https://localhost:8080/",
          "height": 297
        },
        "outputId": "5f225d1b-0433-4df2-d27f-b19ac71d4666"
      },
      "source": [
        "_plot_confusion_matrix(cm_t, classes,title='Targrt Confusion matrix')"
      ],
      "execution_count": 19,
      "outputs": [
        {
          "output_type": "display_data",
          "data": {
            "image/png": "[encoded data removed]",
            "text/plain": [
              "<Figure size 432x288 with 2 Axes>"
            ]
          },
          "metadata": {
            "tags": []
          }
        }
      ]
    },
    {
      "cell_type": "markdown",
      "metadata": {
        "id": "Sc-UVquCj5P8",
        "colab_type": "text"
      },
      "source": [
        "# Sanity Check"
      ]
    },
    {
      "cell_type": "code",
      "metadata": {
        "id": "fSf_R5OMj1HT",
        "colab_type": "code",
        "colab": {
          "base_uri": "https://localhost:8080/",
          "height": 352
        },
        "outputId": "4db03581-fcb3-4535-eb86-de7fc44de233"
      },
      "source": [
        "from keras.models import load_model\n",
        "path_source_classifier = '/content/drive/My Drive/pro_data/‏final_result_B/source_classifier.h5'\n",
        "source_model = load_model(path_source_classifier)\n",
        "\n",
        "test_xt,test_yt = param[\"Xt_test\"], param[\"yt_test\"]\n",
        "yt_pred = source_model.predict(test_xt)\n",
        "target_accuracy_test = accuracy_score(test_yt.argmax(1), yt_pred.argmax(1))              \n",
        "\n",
        "cm_t_sanity = metrics.confusion_matrix(test_yt.argmax(1), yt_pred.argmax(1))\n",
        "\n",
        "print(\"target accuracy test\",target_accuracy_test)\n",
        "print(\"target Classifier matrix: \",cm_t)\n",
        "\n",
        "_plot_confusion_matrix(cm_t_sanity, classes,title='Target Confusion matrix with Source Classifier')\n"
      ],
      "execution_count": 20,
      "outputs": [
        {
          "output_type": "stream",
          "text": [
            "target accuracy test 0.5305164319248826\n",
            "target Classifier matrix:  [[21 90]\n",
            " [10 92]]\n"
          ],
          "name": "stdout"
        },
        {
          "output_type": "display_data",
          "data": {
            "image/png": "[encoded data removed]",
            "text/plain": [
              "<Figure size 432x288 with 2 Axes>"
            ]
          },
          "metadata": {
            "tags": []
          }
        }
      ]
    }
  ]
}