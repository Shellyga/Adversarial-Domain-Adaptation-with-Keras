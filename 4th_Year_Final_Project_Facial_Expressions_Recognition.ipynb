{
  "nbformat": 4,
  "nbformat_minor": 0,
  "metadata": {
    "colab": {
      "name": "4th Year Final Project Facial Expressions Recognition.ipynb",
      "provenance": [],
      "collapsed_sections": [],
      "toc_visible": true,
      "machine_shape": "hm",
      "include_colab_link": true
    },
    "kernelspec": {
      "name": "python3",
      "display_name": "Python 3"
    },
    "accelerator": "GPU"
  },
  "cells": [
    {
      "cell_type": "markdown",
      "metadata": {
        "id": "view-in-github",
        "colab_type": "text"
      },
      "source": [
        "<a href=\"https://colab.research.google.com/github/Shellyga/Adversarial-Domain-Adaptation-with-Keras/blob/master/4th_Year_Final_Project_Facial_Expressions_Recognition.ipynb\" target=\"_parent\"><img src=\"https://colab.research.google.com/assets/colab-badge.svg\" alt=\"Open In Colab\"/></a>"
      ]
    },
    {
      "cell_type": "markdown",
      "metadata": {
        "id": "iqYXgaotqk_g",
        "colab_type": "text"
      },
      "source": [
        "# Model"
      ]
    },
    {
      "cell_type": "code",
      "metadata": {
        "id": "57CQpjm7OklS",
        "colab_type": "code",
        "colab": {
          "base_uri": "https://localhost:8080/",
          "height": 237
        },
        "outputId": "f53cc63b-63c9-4a64-974d-aea06a2f49d7"
      },
      "source": [
        "pip install keras_vggface"
      ],
      "execution_count": null,
      "outputs": [
        {
          "output_type": "stream",
          "text": [
            "Collecting keras_vggface\n",
            "  Downloading https://files.pythonhosted.org/packages/2f/7d/5f0319ebdc09ac1a2272364fa9583f5067b6f8aff93fbbf8835d81cbaad7/keras_vggface-0.6-py3-none-any.whl\n",
            "Requirement already satisfied: keras in /usr/local/lib/python3.6/dist-packages (from keras_vggface) (2.4.3)\n",
            "Requirement already satisfied: h5py in /usr/local/lib/python3.6/dist-packages (from keras_vggface) (2.10.0)\n",
            "Requirement already satisfied: six>=1.9.0 in /usr/local/lib/python3.6/dist-packages (from keras_vggface) (1.15.0)\n",
            "Requirement already satisfied: pyyaml in /usr/local/lib/python3.6/dist-packages (from keras_vggface) (3.13)\n",
            "Requirement already satisfied: numpy>=1.9.1 in /usr/local/lib/python3.6/dist-packages (from keras_vggface) (1.18.5)\n",
            "Requirement already satisfied: scipy>=0.14 in /usr/local/lib/python3.6/dist-packages (from keras_vggface) (1.4.1)\n",
            "Requirement already satisfied: pillow in /usr/local/lib/python3.6/dist-packages (from keras_vggface) (7.0.0)\n",
            "Installing collected packages: keras-vggface\n",
            "Successfully installed keras-vggface-0.6\n"
          ],
          "name": "stdout"
        }
      ]
    },
    {
      "cell_type": "code",
      "metadata": {
        "id": "F3FWjG2OpLjq",
        "colab_type": "code",
        "colab": {
          "base_uri": "https://localhost:8080/",
          "height": 183
        },
        "outputId": "bc25342e-2c40-4c51-d6ba-fbbf7f829331"
      },
      "source": [
        "pip install keras_applications"
      ],
      "execution_count": null,
      "outputs": [
        {
          "output_type": "stream",
          "text": [
            "Collecting keras_applications\n",
            "\u001b[?25l  Downloading https://files.pythonhosted.org/packages/71/e3/19762fdfc62877ae9102edf6342d71b28fbfd9dea3d2f96a882ce099b03f/Keras_Applications-1.0.8-py3-none-any.whl (50kB)\n",
            "\r\u001b[K     |██████▌                         | 10kB 21.9MB/s eta 0:00:01\r\u001b[K     |█████████████                   | 20kB 2.9MB/s eta 0:00:01\r\u001b[K     |███████████████████▍            | 30kB 3.9MB/s eta 0:00:01\r\u001b[K     |█████████████████████████▉      | 40kB 4.2MB/s eta 0:00:01\r\u001b[K     |████████████████████████████████| 51kB 2.4MB/s \n",
            "\u001b[?25hRequirement already satisfied: h5py in /usr/local/lib/python3.6/dist-packages (from keras_applications) (2.10.0)\n",
            "Requirement already satisfied: numpy>=1.9.1 in /usr/local/lib/python3.6/dist-packages (from keras_applications) (1.18.5)\n",
            "Requirement already satisfied: six in /usr/local/lib/python3.6/dist-packages (from h5py->keras_applications) (1.15.0)\n",
            "Installing collected packages: keras-applications\n",
            "Successfully installed keras-applications-1.0.8\n"
          ],
          "name": "stdout"
        }
      ]
    },
    {
      "cell_type": "code",
      "metadata": {
        "id": "Bxcy4fLWqpgf",
        "colab_type": "code",
        "colab": {}
      },
      "source": [
        "import random\n",
        "import numpy as np\n",
        "from keras.models import Model,clone_model\n",
        "from keras.applications.resnet50 import ResNet50\n",
        "from keras.layers import Input, Conv2D, MaxPool2D, Flatten, Dense,Reshape\n",
        "from keras.layers import BatchNormalization, Activation, Dropout\n",
        "from keras_vggface.vggface import VGGFace\n",
        "from keras.models import load_model\n",
        "\n",
        "def build_embedding(param):\n",
        "    inp = Input(shape= param[\"inp_dims\"])\n",
        "    network = eval('VGGFace')\n",
        "    base = network(weights = 'vggface', include_top = False)\n",
        "    feat = base(inp)\n",
        "    return Model(inp,feat)\n",
        "\n",
        "\n",
        "def build_classifier(param, embedding):\n",
        "    flat = Flatten()(embedding.output)\n",
        "    dense1 = Dense(400, name = 'class_dense1')(flat)\n",
        "    bn1 = BatchNormalization(name = 'class_bn1')(dense1)\n",
        "    act1 = Activation('relu', name = 'class_act1')(bn1)\n",
        "    drop2 = Dropout(param[\"drop_classifier\"], name = 'class_drop1')(act1)\n",
        "\n",
        "    dense2 = Dense(100, name = 'class_dense2')(drop2)\n",
        "    bn2 = BatchNormalization(name = 'class_bn2')(dense2)\n",
        "    act2 = Activation('relu', name = 'class_act2')(bn2)\n",
        "    drop2 = Dropout(param[\"drop_classifier\"], name = 'class_drop2')(act2)\n",
        "    densel = Dense(param[\"number_of_classe\"], name = 'class_dense_last')(drop2)                                                                  \n",
        "    bnl = BatchNormalization(name = 'class_bn_last')(densel)\n",
        "    actl = Activation('softmax', name = 'class_act_last')(bnl)\n",
        "    return Model(inputs=(embedding.input), outputs=(actl))\n",
        "\n",
        "def build_discriminator(param, embedding_shape):\n",
        "    embedding = Input( embedding_shape )\n",
        "    flat = Flatten()(embedding)\n",
        "    dense1 = Dense(400, name = 'dis_dense1')(flat)\n",
        "    bn1 = BatchNormalization(name='dis_bn1')(dense1)\n",
        "    act1 = Activation('relu', name = 'dis_act1')(bn1)\n",
        "    drop1 = Dropout(param[\"drop_discriminator\"], name = 'dis_drop1')(act1)\n",
        "\n",
        "    dense2 = Dense(100, name = 'dis_dense2')(drop1)\n",
        "    bn2 = BatchNormalization(name='dis_bn2')(dense2)\n",
        "    act2 = Activation('relu', name = 'dis_act2')(bn2)\n",
        "    drop2 = Dropout(param[\"drop_discriminator\"], name = 'dis_drop2')(act2)\n",
        "\n",
        "    densel = Dense(1, name = 'dis_dense_last')(drop2)\n",
        "    # densel = Dense(1, name = 'dis_dense_last')(flat)\n",
        "\n",
        "    bnl = BatchNormalization(name = 'dis_bn_last')(densel)\n",
        "    actl = Activation('sigmoid', name = 'dis_act_last')(bnl)\n",
        "    return Model(embedding, actl)"
      ],
      "execution_count": null,
      "outputs": []
    },
    {
      "cell_type": "markdown",
      "metadata": {
        "id": "1DrTIu1SqtIe",
        "colab_type": "text"
      },
      "source": [
        "# Optimizer"
      ]
    },
    {
      "cell_type": "code",
      "metadata": {
        "id": "ve8K7kUmqu5W",
        "colab_type": "code",
        "colab": {}
      },
      "source": [
        "import numpy as np\n",
        "from keras.optimizers import Adam\n",
        "\n",
        "def opt_classifier(param):\n",
        "    return Adam(lr=param[\"lr_classifier\"], beta_1=param[\"b1_classifier\"], beta_2=param[\"b2_classifier\"])\n",
        "\n",
        "def opt_discriminator(param):\n",
        "    return Adam(lr=param[\"lr_discriminator\"], beta_1=param[\"b1_discriminator\"], beta_2=param[\"b2_discriminator\"])\n",
        "\n",
        "def opt_combined(param):\n",
        "    return Adam(lr=param[\"lr_combined\"], beta_1=param[\"b1_combined\"], beta_2=param[\"b2_combined\"])\n"
      ],
      "execution_count": null,
      "outputs": []
    },
    {
      "cell_type": "markdown",
      "metadata": {
        "id": "YHRxvLjYqwvG",
        "colab_type": "text"
      },
      "source": [
        "# Data"
      ]
    },
    {
      "cell_type": "code",
      "metadata": {
        "id": "cxlgU5w6qyJO",
        "colab_type": "code",
        "colab": {
          "base_uri": "https://localhost:8080/",
          "height": 128
        },
        "outputId": "7e7f2484-0190-4cf9-c60a-7cd1375ab027"
      },
      "source": [
        "from google.colab import drive\n",
        "drive.mount('/content/drive')"
      ],
      "execution_count": null,
      "outputs": [
        {
          "output_type": "stream",
          "text": [
            "Go to this URL in a browser: https://accounts.google.com/o/oauth2/auth?client_id=947318989803-6bn6qk8qdgf4n4g3pfee6491hc0brc4i.apps.googleusercontent.com&redirect_uri=urn%3aietf%3awg%3aoauth%3a2.0%3aoob&scope=email%20https%3a%2f%2fwww.googleapis.com%2fauth%2fdocs.test%20https%3a%2f%2fwww.googleapis.com%2fauth%2fdrive%20https%3a%2f%2fwww.googleapis.com%2fauth%2fdrive.photos.readonly%20https%3a%2f%2fwww.googleapis.com%2fauth%2fpeopleapi.readonly&response_type=code\n",
            "\n",
            "Enter your authorization code:\n",
            "··········\n",
            "Mounted at /content/drive\n"
          ],
          "name": "stdout"
        }
      ]
    },
    {
      "cell_type": "code",
      "metadata": {
        "id": "JwuSxj4hW9vo",
        "colab_type": "code",
        "colab": {}
      },
      "source": [
        "SEED = 7\n",
        "import os\n",
        "import sys\n",
        "import argparse\n",
        "import random\n",
        "import numpy as np\n",
        "from sklearn.model_selection import train_test_split\n",
        "from sklearn import metrics\n",
        "from plotnine import *\n",
        "import pandas as pd \n",
        "import matplotlib.pyplot as plt\n",
        "from math import ceil\n",
        "from sklearn.utils import shuffle as skshuffle\n",
        "from sklearn.preprocessing import LabelEncoder\n",
        "from sklearn.metrics import accuracy_score\n",
        "from imutils import paths\n",
        "import pickle\n",
        "from PIL import Image\n",
        "\n",
        "from keras.utils import to_categorical\n",
        "from keras.layers import Input\n",
        "from keras.optimizers import Adam\n",
        "from keras.utils import multi_gpu_model\n",
        "from keras.preprocessing import image\n",
        "\n",
        "def pil_loader(path):\n",
        "    # Return the RGB variant of input image\n",
        "    with open(path, 'rb') as f:\n",
        "      with Image.open(f) as img:\n",
        "        return img.convert('RGB')\n",
        "\n",
        "def one_hot_encoding(param):\n",
        "    lb = LabelEncoder()\n",
        "    source_labels  = lb.fit_transform( param[\"source_label\"])\n",
        "    param[\"number_of_classe\"] = len(lb.classes_)\n",
        "    print(param[\"number_of_classe\"])\n",
        "    source_labels = to_categorical(source_labels)\n",
        "    f = open('/content/drive/My Drive/pro_data/pro_book_res/_labels',\"wb\")\n",
        "    f.write(pickle.dumps(lb))\n",
        "    f.close()\n",
        "    return source_labels\n",
        "\n",
        "            \n",
        "def data_loader(filepath, inp_dims):\n",
        "    img = []\n",
        "    label = []\n",
        "    detector = dlib.get_frontal_face_detector()\n",
        "    predictor = \"drive/My Drive/pro_data/shape_predictor_5_face_landmarks.dat\"\n",
        "    imagePaths = sorted(list(paths.list_images(filepath)))\n",
        "    # loop over the input images\n",
        "    for imagePath in imagePaths:\n",
        "        # extract the class label from the image path and update the\n",
        "        # labels list\n",
        "        l = imagePath.split(os.path.sep)[-2]\n",
        "        label.append(l)\n",
        "        # i = pil_loader(imagePath)\n",
        "        i = image.load_img(imagePath)\n",
        "        # keras.preprocessing.image.img_to_array(image)\n",
        "        i = i.resize((inp_dims[0], inp_dims[1]), Image.ANTIALIAS)\n",
        "        frame_1 = align_and_crop(detector, np.array(i), predictor)[0]\n",
        "        frame_1 = cv2.resize(frame_1,(inp_dims[0], inp_dims[1]))\n",
        "        img.append(frame_1)\n",
        "    img = np.array(img)\n",
        "    label = np.array(label)\n",
        "    return img, label\n",
        "    \n",
        "\n",
        "def batch_generator(data, batch_size):\n",
        "    #Generate batches of data.\n",
        "    all_examples_indices = len(data[0])\n",
        "    while True:\n",
        "        mini_batch_indices = np.random.choice(all_examples_indices, size = batch_size, replace = False)\n",
        "        tbr = [k[mini_batch_indices] for k in data]\n",
        "        yield tbr\n"
      ],
      "execution_count": null,
      "outputs": []
    },
    {
      "cell_type": "code",
      "metadata": {
        "id": "PWhShjI8H1bH",
        "colab_type": "code",
        "colab": {}
      },
      "source": [
        "import matplotlib.pyplot as plt\n",
        "from sklearn.metrics import accuracy_score\n",
        "from sklearn.metrics import precision_score, recall_score, roc_auc_score, accuracy_score, roc_curve, auc, confusion_matrix\n",
        "import itertools\n",
        "def _plot_confusion_matrix(cm, classes,normalize=False,title='Confusion matrix',cmap=plt.cm.Greens):\n",
        "\n",
        "    \"\"\"\n",
        "    This function prints and plots the confusion matrix.\n",
        "    Normalization can be applied by setting `normalize=True`.\n",
        "    \"\"\"\n",
        "    if normalize:\n",
        "        cm = cm.astype('float') / cm.sum(axis=1)[:, np.newaxis]\n",
        "\n",
        "    plt.imshow(cm, interpolation='nearest', cmap=cmap)\n",
        "    plt.title(title, fontsize = 14)\n",
        "    plt.colorbar()\n",
        "    tick_marks = np.arange(len(classes))\n",
        "    plt.xticks(tick_marks, classes)\n",
        "    plt.yticks(tick_marks, classes)\n",
        "\n",
        "    fmt = '.2f' if normalize else 'd'\n",
        "    thresh = cm.max() / 2.\n",
        "    for i, j in itertools.product(range(cm.shape[0]), range(cm.shape[1])):\n",
        "        plt.text(j, i, format(cm[i, j], fmt),\n",
        "                 horizontalalignment=\"center\",\n",
        "                 color=\"black\")\n",
        "\n",
        "    plt.ylabel('True Class', fontsize = 14)\n",
        "    plt.xlabel('Predicted Class', fontsize = 14)\n",
        "\n",
        "    plt.tick_params(axis='both', which='major', labelsize=14)\n",
        "    plt.tight_layout()"
      ],
      "execution_count": null,
      "outputs": []
    },
    {
      "cell_type": "markdown",
      "metadata": {
        "id": "XqiFjCePj2a1",
        "colab_type": "text"
      },
      "source": [
        "# Crop"
      ]
    },
    {
      "cell_type": "code",
      "metadata": {
        "id": "oSCoB73kj6ux",
        "colab_type": "code",
        "colab": {}
      },
      "source": [
        "import dlib\n",
        "import os\n",
        "import sys\n",
        "import cv2\n",
        "import glob\n",
        "\n",
        "def align_and_crop(detector, im_to_align, predictor_path):\n",
        "    '''\n",
        "    simply aligns the photo (using the detector to identify the eyes) and crops the face.\n",
        "    :param im_to_align: an address of an image\n",
        "    '''\n",
        "\n",
        "    # a shape predictor to find face landmarks so we can precisely localize\n",
        "    # the face\n",
        "    sp = dlib.shape_predictor(predictor_path)\n",
        "\n",
        "    # Ask the detector to find the bounding boxes of each face. The 1 in the\n",
        "    # second argument indicates that we should upsample the image 1 time.\n",
        "    try:\n",
        "        dets = detector(im_to_align, 1)\n",
        "    except RuntimeError:\n",
        "        return -1\n",
        "\n",
        "    num_faces = len(dets)\n",
        "    if num_faces == 0:\n",
        "        return im_to_align, False\n",
        "\n",
        "    # Find the 5 face landmarks we need to do the alignment.\n",
        "    faces = dlib.full_object_detections()\n",
        "    for detection in dets:\n",
        "        faces.append(sp(im_to_align, detection))\n",
        "\n",
        "    # get a single chip (aligned and cropped)\n",
        "    image = dlib.get_face_chip(im_to_align, faces[0])\n",
        "    # cv2.imshow(\"f\", image) show image for testing\n",
        "    return image, True"
      ],
      "execution_count": null,
      "outputs": []
    },
    {
      "cell_type": "markdown",
      "metadata": {
        "id": "QCAxthiKjwnr",
        "colab_type": "text"
      },
      "source": [
        "# Augment"
      ]
    },
    {
      "cell_type": "code",
      "metadata": {
        "id": "xD18oqysj0hG",
        "colab_type": "code",
        "colab": {}
      },
      "source": [
        "from imgaug import augmenters as iaa\n",
        "from imgaug import seed\n",
        "def aug_training_set_loader(images,labels,inp_dims):\n",
        "    NUM_COPIES = ceil(1000/len(images))\n",
        "    images = np.array(images)\n",
        "    images=augment(inp_dims[0], inp_dims[1], images, NUM_COPIES)\n",
        "    aug_labels =[]\n",
        "    for x in labels:\n",
        "        for i in range(NUM_COPIES+1):  # NUM_COPIES+1-> numbers of augmentations + 1 original\n",
        "            aug_labels.append(x)\n",
        "    images, labels = skshuffle(images, aug_labels)\n",
        "    images = np.array(images)\n",
        "    # images = np.array(images, dtype=\"float\") / 255.0\n",
        "    labels = np.array(labels)\n",
        "    return images, labels\n",
        "\n",
        "def augment(width, height, data, NUM_COPIES):\n",
        "    \"\"\"\n",
        "    preform augmentetion on the list of photos named 'data'\n",
        "    :param width: width of a single photo\n",
        "    :param height: height of a single photo\n",
        "    :param data: a list of photos to augment\n",
        "    :param NUM_COPIES: number of copies produced from the image\n",
        "    :return: a list of photos that consists from the original photos and their augmentations\n",
        "    \"\"\"\n",
        "    augmented_data = []\n",
        "    sometimes = lambda aug: iaa.Sometimes(0.5, aug)\n",
        "    seq = iaa.Sequential([\n",
        "        sometimes(iaa.Sharpen(alpha=(0.0, 1.0), lightness=(0.75, 2.0))),\n",
        "        sometimes(iaa.Fliplr()),  # horizontal flips\n",
        "        sometimes(iaa.AddElementwise((-50, 50))),\n",
        "        sometimes(iaa.Sometimes(0.5, iaa.GaussianBlur(sigma=(0.0, 2.0)))),\n",
        "        sometimes(iaa.ContrastNormalization((0.8, 1.2))),\n",
        "        sometimes(iaa.Multiply((0.8, 1.2), per_channel=0.2)),\n",
        "        sometimes(iaa.Affine(\n",
        "            scale={\"x\": (0.8, 1.2), \"y\": (0.8, 1.2)},\n",
        "            translate_percent={\"x\": (-0.2, 0.2), \"y\": (-0.2, 0.2)},\n",
        "            shear=(-8, 8)\n",
        "        )),\n",
        "        sometimes(iaa.Superpixels(p_replace=0.1, n_segments=150))\n",
        "    ], random_order=True)  # apply augmenters in random order\n",
        "    for img in data:\n",
        "        copies = augment_image(width, height, img, seq, NUM_COPIES)\n",
        "        copies.append(img.reshape(width, height, 3))\n",
        "        for cpy in copies:\n",
        "            augmented_data.append(cpy)\n",
        "    return augmented_data\n",
        "\n",
        "\n",
        "def augment_image(width, height, image, seq, NUM_COPIES):\n",
        "    \"\"\"\n",
        "        augments a single image\n",
        "    :param width: width of the image\n",
        "    :param height: height of the image\n",
        "    :param image: a matrix representing a rgb image\n",
        "    :param seq: the augmantation sequence preformed\n",
        "    :param NUM_COPIES: number of copies produced from the image\n",
        "    :return: a list of all images made from 'image' not including the original\n",
        "    \"\"\"\n",
        "    seed (1)\n",
        "    copies = []\n",
        "    image = image.reshape(width, height, 3)\n",
        "    for i in range(NUM_COPIES):\n",
        "        copies.append(seq.augment_image(image))\n",
        "\n",
        "    return copies"
      ],
      "execution_count": null,
      "outputs": []
    },
    {
      "cell_type": "markdown",
      "metadata": {
        "id": "b_dfbPgstK6i",
        "colab_type": "text"
      },
      "source": [
        "# Only Classifier"
      ]
    },
    {
      "cell_type": "code",
      "metadata": {
        "id": "D16kvdCKtRhD",
        "colab_type": "code",
        "colab": {}
      },
      "source": [
        "from keras.losses import CategoricalCrossentropy\n",
        "def train_classifier(param,models):\n",
        "    \n",
        "    inp = Input(shape = ([224, 224, 3]))\n",
        "    # embedding = build_embedding_vgg(param,inp)\n",
        "    # classifier = build_classifier_vgg(param, embedding)\n",
        "    \n",
        "    models[\"combined_classifier\"].compile(optimizer = opt_classifier(param), loss =CategoricalCrossentropy(), metrics = ['accuracy'])\n",
        "    Xs_train, ys_train = param[\"Xs_train\"], param[\"ys_train\"]\n",
        "    Xs_test , ys_test =  param[\"Xs_test\"], param[\"ys_test\"]\n",
        "    S_batches = batch_generator([Xs_train, ys_train], param[\"batch_size\"])\n",
        "    # T_batches = batch_generator([Xt_train, np.zeros(shape = (len(Xt_train),))], param[\"batch_size\"])\n",
        "\n",
        "    # param[\"target_accuracy\"] = 0\n",
        "\n",
        "    optim = {}\n",
        "    optim[\"iter\"] = 0\n",
        "    optim[\"acc\"] = \"\"\n",
        "    # optim[\"labels\"] = np.array(Xt.shape[0],)\n",
        "    gap_last_snap = 0\n",
        "\n",
        "    acc_source=[]\n",
        "    acc_target=[]\n",
        "    acc_domain_source=[]\n",
        "    acc_domain_target=[]\n",
        "\n",
        "    for i in range(param[\"num_iterations_classifier\"]):        \n",
        "        Xsb, ysb = next(S_batches)\n",
        "        # Xtb, ytb = next(T_batches)\n",
        "        plt.imshow(Xsb[0])\n",
        "        plt.show()\n",
        "        print(ysb)\n",
        "        # print(Xsb.shape)\n",
        "        # print(ysb.shape)\n",
        "        stats1 = models[\"combined_classifier\"].train_on_batch(Xsb, [ysb])\n",
        "\n",
        "        if ((i + 1) % param[\"test_interval\"] == 0):\n",
        "            ys_pred = models[\"combined_classifier\"].predict(Xs_train)\n",
        "            # yt_pred = models[\"combined_classifier\"].predict(Xt_train)\n",
        "\n",
        "            source_accuracy = accuracy_score(ys_train.argmax(1), ys_pred.argmax(1))              \n",
        "            # target_accuracy = accuracy_score(yt_train.argmax(1), yt_pred.argmax(1))\n",
        "\n",
        "\n",
        "            acc_source.append(source_accuracy)\n",
        "            # acc_target.append(target_accuracy)\n",
        "\n",
        "            log_str = \"iter: {:05d}: \\nLABEL CLASSIFICATION: source_accuracy: {:.5f}\"\\\n",
        "                                                         .format(i, source_accuracy*100)\n",
        "            print(log_str)\n",
        "\n",
        "            \n",
        "            \n",
        "    models[\"combined_classifier\"].save('/content/drive/My Drive/pro_data/pro_book_res/source_classifier.h5')\n",
        "\n",
        "    print(\"Source matrix: \",metrics.confusion_matrix(ys_train.argmax(1), ys_pred.argmax(1)))\n",
        "\n",
        "    ys_test_pred = models[\"combined_classifier\"].predict(Xs_test)\n",
        "    source_accuracy_test = accuracy_score(ys_test.argmax(1), ys_test_pred.argmax(1))              \n",
        "\n",
        "    print(\"source accuracy test\",source_accuracy_test)\n",
        "    cm_s = metrics.confusion_matrix(ys_test.argmax(1), ys_test_pred.argmax(1))\n",
        "    print(\"Source matrix: \",cm_s)\n",
        "    \n",
        "    labels_path = '/content/drive/My Drive/pro_data/pro_book_res/labels'  \n",
        "    lb = pickle.loads(open(labels_path, \"rb\").read())\n",
        "    classes = lb.classes_\n",
        "    _plot_confusion_matrix(cm_s, classes,title='Classifier Source Confusion matrix')\n",
        "\n",
        "    N = np.arange(0,len(acc_source))\n",
        "\n",
        "    plt.style.use(\"ggplot\")\n",
        "    plt.figure()\n",
        "    plt.plot(N, np.array(acc_source), label=\"Source accuracy\")\n",
        "    plt.title(\"Training Accuracy of Source Classifier \")\n",
        "    plt.xlabel(\"Number of imtervals\")\n",
        "    plt.ylabel(\"Accuracy\")\n",
        "    plt.legend()\n",
        "    plt.savefig('/content/drive/My Drive/pro_data/pro_book_res/classifier.png')\n",
        "\n",
        "    plt.show()\n",
        "\n",
        "\n"
      ],
      "execution_count": null,
      "outputs": []
    },
    {
      "cell_type": "markdown",
      "metadata": {
        "id": "Jthvwwiz8qAg",
        "colab_type": "text"
      },
      "source": [
        "# Train target discriminator "
      ]
    },
    {
      "cell_type": "code",
      "metadata": {
        "id": "HF1SV9K5jmUK",
        "colab_type": "code",
        "colab": {}
      },
      "source": [
        "models = {}\n",
        "from keras.applications.vgg16 import preprocess_input\n",
        "def train(param):\n",
        "    inp = Input(shape = (param[\"inp_dims\"]))\n",
        "    models[\"embedding_s\"] = build_embedding(param) \n",
        "    # Build the classifier\n",
        "    models['combined_classifier'] = build_classifier(param,  models[\"embedding_s\"])\n",
        "    train_classifier(param,models)\n",
        "\n",
        "    # models[\"embedding_s\"] = load_model('/content/drive/My Drive/pro_data/‏final_result_notB/source_classifier.h5')\n",
        "    embedding_t = clone_model( models[\"embedding_s\"])\n",
        "   \n",
        "    # Build and compile the discriminator\n",
        "    discriminator_s = build_discriminator(param,  models[\"embedding_s\"].output_shape[1:])\n",
        "    discriminator_t = build_discriminator(param, embedding_t.output_shape[1:])\n",
        "    \n",
        "    # discriminator_t.trainable = False\n",
        "    \n",
        "    models[\"combined_discriminator_s\"] = Model(inputs=( models[\"embedding_s\"].input), outputs=(discriminator_s( models[\"embedding_s\"].output)))\n",
        "    models[\"combined_discriminator_t\"] = Model(inputs=(embedding_t.input), outputs=(discriminator_t(embedding_t.output)))\n",
        "    models[\"combined_discriminator_t\"].compile(optimizer = opt_discriminator(param), loss = 'binary_crossentropy', metrics = ['accuracy'])\n",
        "    #  If you set this flag after compilation - then it will not affect your model at all.\n",
        "    # models[\"embedding_s\"].trainable = False\n",
        "    for layer in models[\"embedding_s\"].layers:\n",
        "        layer.trainable = False\n",
        "    models[\"combined_discriminator_s\"].compile(optimizer = opt_discriminator(param), loss = 'binary_crossentropy', metrics = ['accuracy'])\n",
        "    \n",
        "    \n",
        "    models[\"combined_discriminator_s\"].summary()\n",
        "    models[\"combined_discriminator_t\"].summary()\n",
        "    \n",
        "    Xt = param[\"Xt_train\"]\n",
        "    yt = np.zeros(shape = (len(Xt),))\n",
        "    # Xt, Xt_test, yt, yt_test = param[\"Xt_train\"], param[\"Xt_test\"], param[\"yt_train\"], param[\"yt_test\"] \n",
        "    Xs, Xs_test, ys, ys_test = param[\"Xs_train\"], param[\"Xs_test\"], param[\"ys_train\"], param[\"ys_test\"] \n",
        "\n",
        "    \n",
        "    Xs, ys = aug_training_set_loader(Xs, ys, param[\"inp_dims\"])\n",
        "    Xt, yt = aug_training_set_loader(Xt, yt, param[\"inp_dims\"])\n",
        "\n",
        "\n",
        "    # Source domain is represented by label 0 and Target by 1\n",
        "\n",
        "    S_batches = batch_generator([Xs, ys], param[\"batch_size\"])\n",
        "    T_batches = batch_generator([Xt, np.zeros(shape = (len(Xt),))], param[\"batch_size\"])\n",
        "\n",
        "    param[\"target_accuracy\"] = 0\n",
        "\n",
        "    optim = {}\n",
        "    optim[\"iter\"] = 0\n",
        "    optim[\"acc\"] = \"\"\n",
        "    optim[\"labels\"] = np.array(Xt.shape[0],)\n",
        "    gap_last_snap = 0\n",
        "\n",
        "    acc_domain_source=[]\n",
        "    acc_domain_target=[]\n",
        "    loss_discriminator = []\n",
        "\n",
        "    t_domain_label = np.ones(( param[\"batch_size\"], 1))\n",
        "    s_domain_label = np.zeros(( param[\"batch_size\"], 1))\n",
        "    for i in range(param[\"num_iterations_discriminator\"]):        \n",
        "        Xsb, ysb = next(S_batches)\n",
        "        Xtb, ytb = next(T_batches)\n",
        "        t_domain_label = np.zeros(Xsb.shape[0])\n",
        "        s_domain_label =  np.ones(Xtb.shape[0])\n",
        "        X_adv = np.concatenate([Xsb, Xtb])\n",
        "        y_class = np.concatenate([ysb, np.zeros_like(ysb)])\n",
        "\n",
        "\n",
        "        acc_d_s , d_loss_s = models[\"combined_discriminator_s\"].train_on_batch(Xsb, s_domain_label)\n",
        "        acc_d_t , d_loss_t = models[\"combined_discriminator_t\"].train_on_batch(Xtb, t_domain_label)\n",
        "        acc = acc_d_s + acc_d_t / 2\n",
        "        loss = d_loss_s + d_loss_t\n",
        "\n",
        "        if ((i + 1) % param[\"test_interval\"] == 0):\n",
        "\n",
        "            acc_domain_source.append(acc_d_s)\n",
        "            acc_domain_target.append(acc_d_t)\n",
        "            loss_discriminator.append(loss)\n",
        "\n",
        "            log_str = \"iter: {:05d}: DOMAIN DISCRIMINATION: source_domain_accuracy: {:.5f}, target_domain_accuracy: {:.5f} \\n\"\\\n",
        "                                                         .format(i, acc_d_s*100, acc_d_t*100)\n",
        "            print(log_str)\n",
        "\n",
        "    \n",
        "    models[\"combined_discriminator_t\"].save_weights('/content/drive/My Drive/pro_data/pro_book_res/disc_target_10000_iter.hdf5')\n",
        "\n",
        "    N = np.arange(0,len(acc_domain_source))\n",
        "\n",
        "    plt.style.use(\"ggplot\")\n",
        "    plt.figure()\n",
        "    plt.plot(N, np.array(acc_domain_source), label=\"Domain Source accuracy\")\n",
        "    plt.plot(N, np.array(acc_domain_target), label=\"Domain Target accuracy\")\n",
        "    plt.title(\"Domain Accuracy of Source and Target \")\n",
        "    plt.xlabel(\"Number of intervals\")\n",
        "    plt.ylabel(\"Accuracy\")\n",
        "    plt.legend()\n",
        "  \n",
        "    plt.savefig('/content/drive/My Drive/pro_data/pro_book_res/discriminator_graph.png')\n",
        "    plt.show()\n",
        "    \n",
        "    plt.style.use(\"ggplot\")\n",
        "    plt.figure()\n",
        "    # plt.plot(N, np.array(loss_classifier_source), label=\"Combined Model ACC / Loss\")\n",
        "    plt.plot(N, np.array(loss_discriminator), label=\"Discriminator Acc / loss\")\n",
        "    plt.title(\"Discriminator Loss - Average of Source and Target \")\n",
        "    plt.xlabel(\"Number of intervals\")\n",
        "    plt.ylabel(\"Acc/ Loss\")\n",
        "    plt.legend()\n",
        "    \n",
        "    plt.savefig('/content/drive/My Drive/pro_data/pro_book_res/train_on_batch_graph.png')\n",
        "    plt.show()\n"
      ],
      "execution_count": null,
      "outputs": []
    },
    {
      "cell_type": "markdown",
      "metadata": {
        "id": "MmayyXlBaslf",
        "colab_type": "text"
      },
      "source": [
        "train the discriminator with saved models"
      ]
    },
    {
      "cell_type": "code",
      "metadata": {
        "id": "_F0WUuyParep",
        "colab_type": "code",
        "colab": {}
      },
      "source": [
        "models = {}\n",
        "from keras.applications.vgg16 import preprocess_input\n",
        "def train(param):\n",
        "    inp = Input(shape = (param[\"inp_dims\"]))\n",
        "    models[\"embedding_s\"] = build_embedding(param) \n",
        "    # # # Build the classifier\n",
        "    # models['combined_classifier'] = build_classifier(param,  models[\"embedding_s\"])\n",
        "    # train_classifier(param,models)\n",
        "    models[\"embedding_s\"].load_weights('/content/drive/My Drive/pro_data/pro_book_res/encoder_s_weights.hdf5')\n",
        "    models['combined_classifier']= load_model('/content/drive/My Drive/pro_data/pro_book_res/source_model.h5')\n",
        "    # models[\"embedding_s\"] = load_model('/content/drive/My Drive/pro_data/‏final_result_notB/source_classifier.h5')\n",
        "    embedding_t = clone_model( models[\"embedding_s\"])\n",
        "   \n",
        "    # Build and compile the discriminator\n",
        "    discriminator_s = build_discriminator(param,  models[\"embedding_s\"].output_shape[1:])\n",
        "    discriminator_t = build_discriminator(param, embedding_t.output_shape[1:])\n",
        "    \n",
        "    # discriminator_t.trainable = False\n",
        "    \n",
        "    models[\"combined_discriminator_s\"] = Model(inputs=( models[\"embedding_s\"].input), outputs=(discriminator_s( models[\"embedding_s\"].output)))\n",
        "    models[\"combined_discriminator_t\"] = Model(inputs=(embedding_t.input), outputs=(discriminator_t(embedding_t.output)))\n",
        "    models[\"combined_discriminator_t\"].compile(optimizer = opt_discriminator(param), loss = 'binary_crossentropy', metrics = ['accuracy'])\n",
        "    #  If you set this flag after compilation - then it will not affect your model at all.\n",
        "    # models[\"embedding_s\"].trainable = False\n",
        "    for layer in models[\"embedding_s\"].layers:\n",
        "        layer.trainable = False\n",
        "    models[\"combined_discriminator_s\"].compile(optimizer = opt_discriminator(param), loss = 'binary_crossentropy', metrics = ['accuracy'])\n",
        "    \n",
        "    \n",
        "    models[\"combined_discriminator_s\"].summary()\n",
        "    models[\"combined_discriminator_t\"].summary()\n",
        "    \n",
        "    Xt = param[\"Xt_train\"]\n",
        "    yt = np.zeros(shape = (len(Xt),))\n",
        "    # Xt, Xt_test, yt, yt_test = param[\"Xt_train\"], param[\"Xt_test\"], param[\"yt_train\"], param[\"yt_test\"] \n",
        "    Xs, Xs_test, ys, ys_test = param[\"Xs_train\"], param[\"Xs_test\"], param[\"ys_train\"], param[\"ys_test\"] \n",
        "\n",
        "    \n",
        "    Xs, ys = aug_training_set_loader(Xs, ys, param[\"inp_dims\"])\n",
        "    Xt, yt = aug_training_set_loader(Xt, yt, param[\"inp_dims\"])\n",
        "\n",
        "\n",
        "    # Source domain is represented by label 0 and Target by 1\n",
        "\n",
        "    S_batches = batch_generator([Xs, ys], param[\"batch_size\"])\n",
        "    T_batches = batch_generator([Xt, np.zeros(shape = (len(Xt),))], param[\"batch_size\"])\n",
        "\n",
        "    param[\"target_accuracy\"] = 0\n",
        "\n",
        "    optim = {}\n",
        "    optim[\"iter\"] = 0\n",
        "    optim[\"acc\"] = \"\"\n",
        "    optim[\"labels\"] = np.array(Xt.shape[0],)\n",
        "    gap_last_snap = 0\n",
        "\n",
        "    acc_domain_source=[]\n",
        "    acc_domain_target=[]\n",
        "    loss_discriminator = []\n",
        "\n",
        "    t_domain_label = np.ones(( param[\"batch_size\"], 1))\n",
        "    s_domain_label = np.zeros(( param[\"batch_size\"], 1))\n",
        "    for i in range(param[\"num_iterations_discriminator\"]):        \n",
        "        Xsb, ysb = next(S_batches)\n",
        "        Xtb, ytb = next(T_batches)\n",
        "        t_domain_label = np.zeros(Xsb.shape[0])\n",
        "        s_domain_label =  np.ones(Xtb.shape[0])\n",
        "        X_adv = np.concatenate([Xsb, Xtb])\n",
        "        y_class = np.concatenate([ysb, np.zeros_like(ysb)])\n",
        "\n",
        "\n",
        "        acc_d_s , d_loss_s = models[\"combined_discriminator_s\"].train_on_batch(Xsb, s_domain_label)\n",
        "        acc_d_t , d_loss_t = models[\"combined_discriminator_t\"].train_on_batch(Xtb, t_domain_label)\n",
        "        acc = acc_d_s + acc_d_t / 2\n",
        "        loss = d_loss_s + d_loss_t\n",
        "\n",
        "        if ((i + 1) % param[\"test_interval\"] == 0):\n",
        "\n",
        "            acc_domain_source.append(acc_d_s)\n",
        "            acc_domain_target.append(acc_d_t)\n",
        "            loss_discriminator.append(loss)\n",
        "\n",
        "            log_str = \"iter: {:05d}: DOMAIN DISCRIMINATION: source_domain_accuracy: {:.5f}, target_domain_accuracy: {:.5f} \\n\"\\\n",
        "                                                         .format(i, acc_d_s*100, acc_d_t*100)\n",
        "            print(log_str)\n",
        "\n",
        "    \n",
        "    models[\"combined_discriminator_t\"].save_weights('/content/drive/My Drive/pro_data/pro_book_res/disc_target_10000_iter.hdf5')\n",
        "\n",
        "    N = np.arange(0,len(acc_domain_source))\n",
        "\n",
        "    plt.style.use(\"ggplot\")\n",
        "    plt.figure()\n",
        "    plt.plot(N, np.array(acc_domain_source), label=\"Domain Source accuracy\")\n",
        "    plt.plot(N, np.array(acc_domain_target), label=\"Domain Target accuracy\")\n",
        "    plt.title(\"Domain Accuracy of Source and Target \")\n",
        "    plt.xlabel(\"Number of intervals\")\n",
        "    plt.ylabel(\"Accuracy\")\n",
        "    plt.legend()\n",
        "  \n",
        "    plt.savefig('/content/drive/My Drive/pro_data/pro_book_res/discriminator_graph.png')\n",
        "    plt.show()\n",
        "    \n",
        "    plt.style.use(\"ggplot\")\n",
        "    plt.figure()\n",
        "    # plt.plot(N, np.array(loss_classifier_source), label=\"Combined Model ACC / Loss\")\n",
        "    plt.plot(N, np.array(loss_discriminator), label=\"Discriminator Acc / loss\")\n",
        "    plt.title(\"Discriminator Loss - Average of Source and Target \")\n",
        "    plt.xlabel(\"Number of intervals\")\n",
        "    plt.ylabel(\"Acc/ Loss\")\n",
        "    plt.legend()\n",
        "    \n",
        "    plt.savefig('/content/drive/My Drive/pro_data/pro_book_res/train_on_batch_graph.png')\n",
        "    plt.show()\n"
      ],
      "execution_count": null,
      "outputs": []
    },
    {
      "cell_type": "markdown",
      "metadata": {
        "id": "ZdnIND2JEHUn",
        "colab_type": "text"
      },
      "source": [
        "# Main"
      ]
    },
    {
      "cell_type": "code",
      "metadata": {
        "id": "Sq_tQgLEEETm",
        "colab_type": "code",
        "colab": {}
      },
      "source": [
        "import argparse\n",
        "if __name__ == \"__main__\":\n",
        "    # Read parameter values from the console\n",
        "    parser = argparse.ArgumentParser(description = 'Domain Adaptation')\n",
        "    parser.add_argument('--number_of_gpus', type = int, nargs = '?', default = '1', help = \"Number of gpus to run\")\n",
        "    parser.add_argument('--network_name', type = str, default = 'ResNet50', help = \"Name of the feature extractor network\")\n",
        "    parser.add_argument('--dataset_name', type = str, default = 'Office', help = \"Name of the source dataset\")\n",
        "    parser.add_argument('--dropout_classifier', type = float, default = 0.25, help = \"Dropout ratio for classifier\")\n",
        "    parser.add_argument('--dropout_discriminator', type = float, default = 0.25, help = \"Dropout ratio for discriminator\")    \n",
        "    parser.add_argument('--source_path', type = str, default = 'amazon_10_list.txt', help = \"Path to source dataset\")\n",
        "    parser.add_argument('--target_path', type = str, default = 'webcam_10_list.txt', help = \"Path to target dataset\")\n",
        "    parser.add_argument('--lr_classifier', type = float, default = 0.0001, help = \"Learning rate for classifier model\")\n",
        "    parser.add_argument('--b1_classifier', type = float, default = 0.9, help = \"Exponential decay rate of first moment \\\n",
        "                                                                                             for classifier model optimizer\")\n",
        "    parser.add_argument('--b2_classifier', type = float, default = 0.999, help = \"Exponential decay rate of second moment \\\n",
        "                                                                                            for classifier model optimizer\")\n",
        "    parser.add_argument('--lr_discriminator', type = float, default = 0.00001, help = \"Learning rate for discriminator model\")\n",
        "    parser.add_argument('--b1_discriminator', type = float, default = 0.9, help = \"Exponential decay rate of first moment \\\n",
        "                                                                                             for discriminator model optimizer\")\n",
        "    parser.add_argument('--b2_discriminator', type = float, default = 0.999, help = \"Exponential decay rate of second moment \\\n",
        "                                                                                            for discriminator model optimizer\")\n",
        "    parser.add_argument('--lr_combined', type = float, default = 0.00001, help = \"Learning rate for combined model\")\n",
        "    parser.add_argument('--b1_combined', type = float, default = 0.9, help = \"Exponential decay rate of first moment \\\n",
        "                                                                                             for combined model optimizer\")\n",
        "    parser.add_argument('--b2_combined', type = float, default = 0.999, help = \"Exponential decay rate of second moment \\\n",
        "                                                                                            for combined model optimizer\")\n",
        "    parser.add_argument('--classifier_loss_weight', type = float, default = 1, help = \"Classifier loss weight\")\n",
        "    parser.add_argument('--discriminator_loss_weight', type = float, default = 4, help = \"Discriminator loss weight\")\n",
        "    parser.add_argument('--batch_size', type = int, default = 32, help = \"Batch size for training\")\n",
        "    parser.add_argument('--test_interval', type = int, default = 3, help = \"Gap between two successive test phases\")\n",
        "    parser.add_argument('--num_iterations', type = int, default = 120, help = \"Number of iterations\")\n",
        "    parser.add_argument('--snapshot_interval', type = int, default = 500, help = \"Minimum gap between saving outputs\")\n",
        "    parser.add_argument('--output_dir', type = str, default = 'Models', help = \"Directory for saving outputs\")\n",
        "    # args = parser.parse_args()\n",
        "\n",
        "    # Set GPU device\n",
        "    # os.environ[\"CUDA_VISIBLE_DEVICES\"] = str(list(np.arange(args.number_of_gpus))).strip('[]')\n",
        "\n",
        "    # Initialize parameters\n",
        "    param = {}\n",
        "    models = {}\n",
        "    param[\"number_of_gpus\"] = 1\n",
        "    # param[\"network_name\"] = 'ResNet50'\n",
        "    param[\"network_name\"] = 'VGGFace'\n",
        "    param[\"inp_dims\"] = [224, 224, 3]\n",
        "    param[\"num_iterations_classifier\"] = 100\n",
        "    param[\"num_iterations_discriminator\"] = 500\n",
        "    # param[\"num_iterations\"] = 500\n",
        "    param[\"lr_classifier\"] = 0.0001\n",
        "    param[\"b1_classifier\"] = 0.9\n",
        "    param[\"b2_classifier\"] = 0.999    \n",
        "    param[\"lr_discriminator\"] = 0.000001\n",
        "    param[\"b1_discriminator\"] =  0.9\n",
        "    param[\"b2_discriminator\"] = 0.999\n",
        "    param[\"lr_combined\"] = 0.00001\n",
        "    param[\"b1_combined\"] =  0.9\n",
        "    param[\"b2_combined\"] =  0.999       \n",
        "    # param[\"batch_size\"] = int(32)\n",
        "    param[\"batch_size\"] = int(32/2)\n",
        "    param[\"class_loss_weight\"] = 1\n",
        "    param[\"dis_loss_weight\"] = 4    \n",
        "    param[\"drop_classifier\"] = 0.25\n",
        "    param[\"drop_discriminator\"] = 0.25\n",
        "    param[\"test_interval\"] = 100\n",
        "    # param[\"source_path\"] = 'drive/My Drive/final_proj_dataset/data_file_shelly.txt'\n",
        "    # param[\"target_path\"] = 'drive/My Drive/final_proj_dataset/data_file_yerus.txt' \n",
        "    param[\"source_path\"] = '/content/drive/My Drive/pro_data/Student_source'\n",
        "    param[\"target_path\"] =  '/content/drive/My Drive/pro_data/alyn_target'\n",
        "    param[\"snapshot_interval\"] = 500\n",
        "    # param[\"snapshot_interval\"] = 5\n",
        "    param[\"output_path\"] = '/content/drive/My Drive/pro_data/pro_book_res'\n",
        "    param[\"number_of_classe\"] = 0\n",
        "\n",
        "    # # Create directory for saving models and log files\n",
        "    # if not os.path.exists(param[\"output_path\"]):\n",
        "    #     os.mkdir(param[\"output_path\"])\n",
        "    \n",
        "    # print(\"[INFO] loading images...\")\n",
        "    # # Load source and target data\n",
        "    # param[\"source_data\"], param[\"source_label\"] = data_loader(param[\"source_path\"], param[\"inp_dims\"])\n",
        "    # param[\"target_data\"], param[\"target_label\"] = data_loader(param[\"target_path\"], param[\"inp_dims\"])\n",
        "    # # param[\"source_data\"], param[\"source_label\"],param[\"target_data\"], param[\"target_label\"] =  load_data(param[\"source_path\"],param[\"target_path\"])\n",
        "\n",
        "    # # Encode labels into one-hot format\n",
        "    # param[\"source_label\"], param[\"target_label\"] = one_hot_encoding(param)\n",
        "\n",
        "    \n",
        "\n",
        "   "
      ],
      "execution_count": null,
      "outputs": []
    },
    {
      "cell_type": "code",
      "metadata": {
        "id": "42msC3B1fJoH",
        "colab_type": "code",
        "colab": {
          "base_uri": "https://localhost:8080/",
          "height": 254
        },
        "outputId": "1a645dae-8ca0-41cf-ed71-e5c5476f2237"
      },
      "source": [
        "print(\"[INFO] loading images...\")\n",
        "# Load source and target data\n",
        "param[\"source_data\"], param[\"source_label\"] = data_loader(param[\"source_path\"], param[\"inp_dims\"])\n",
        "print(param[\"source_label\"])\n",
        "print(\"source images loaded\")\n",
        "\n",
        "print(\"number of images in source domain\", param[\"source_data\"].shape[0])\n",
        "param[\"target_data\"], param[\"target_label\"] = data_loader(param[\"target_path\"], param[\"inp_dims\"])\n",
        "print(param[\"target_label\"])\n",
        "\n",
        "print(\"target images loaded\")\n",
        "print(\"number of images in target domain\", param[\"target_data\"].shape[0])\n",
        "# Encode labels into one-hot format\n",
        "print(\"[INFO] Encode labels into one-hot format\")\n",
        "param[\"source_label\"] = one_hot_encoding(param)\n",
        "# param[\"source_label\"], param[\"target_label\"] = one_hot_encoding(param)\n",
        "\n",
        "\n",
        "# param[\"Xt_train\"], param[\"Xt_test\"], param[\"yt_train\"], param[\"yt_test\"] = train_test_split(param[\"target_data\"], param[\"target_label\"], test_size=0.2, random_state=42)\n",
        "# param[\"Xs_train\"], param[\"Xs_test\"], param[\"ys_train\"], param[\"ys_test\"] = train_test_split(param[\"source_data\"], param[\"source_label\"], test_size=0.2, random_state=42)\n",
        "\n",
        "# print('Xt_train ',param[\"Xt_train\"].shape[0] )\n",
        "# print('Xt_test ',param[\"Xt_test\"].shape[0])\n",
        "# print('Xs_train', param[\"Xs_train\"].shape[0] )\n",
        "# print('Xs_test', param[\"Xs_test\"].shape[0])\n",
        "\n",
        "param[\"Xt_train\"] = param[\"target_data\"]\n",
        "param[\"Xs_train\"], param[\"Xs_test\"], param[\"ys_train\"], param[\"ys_test\"] = train_test_split(param[\"source_data\"], param[\"source_label\"], test_size=0.2, random_state=42)\n",
        "\n",
        "print('Xt_train ',param[\"Xt_train\"].shape[0] )\n",
        "# print('Xt_test ',param[\"Xt_test\"].shape[0])\n",
        "print('Xs_train', param[\"Xs_train\"].shape[0] )\n",
        "print('Xs_test', param[\"Xs_test\"].shape[0])"
      ],
      "execution_count": null,
      "outputs": [
        {
          "output_type": "stream",
          "text": [
            "[INFO] loading images...\n",
            "['brows' 'brows' 'brows' ... 'neutral' 'neutral' 'neutral']\n",
            "source images loaded\n",
            "number of images in source domain 1449\n",
            "['alyn_target' 'alyn_target' 'alyn_target' ... 'alyn_target' 'alyn_target'\n",
            " 'alyn_target']\n",
            "target images loaded\n",
            "number of images in target domain 1440\n",
            "[INFO] Encode labels into one-hot format\n",
            "3\n",
            "Xt_train  1440\n",
            "Xs_train 1159\n",
            "Xs_test 290\n"
          ],
          "name": "stdout"
        }
      ]
    },
    {
      "cell_type": "code",
      "metadata": {
        "id": "MyarR43yAdnO",
        "colab_type": "code",
        "colab": {}
      },
      "source": [
        "print(param[\"number_of_classe\"])\n",
        "print(param[\"source_label\"])\n",
        "print(param[\"target_label\"])"
      ],
      "execution_count": null,
      "outputs": []
    },
    {
      "cell_type": "code",
      "metadata": {
        "id": "i1vaKAXuoj3A",
        "colab_type": "code",
        "colab": {
          "base_uri": "https://localhost:8080/",
          "height": 1000
        },
        "outputId": "99550acd-0546-4bfd-fa1d-61183ba4dd29"
      },
      "source": [
        "from keras.models import load_model\n",
        "# Train data\n",
        "print(\"[INFO] training network...\")\n",
        "train(param)\n",
        "# param[\"combined_classifier\"].save('drive/My Drive/pro_data/result_vgg_notBmix/_source_model_less_layers.h5')\n"
      ],
      "execution_count": null,
      "outputs": [
        {
          "output_type": "stream",
          "text": [
            "[INFO] training network...\n",
            "Downloading data from https://github.com/rcmalli/keras-vggface/releases/download/v2.0/rcmalli_vggface_tf_notop_vgg16.h5\n",
            "58916864/58909280 [==============================] - 1s 0us/step\n",
            "Model: \"functional_7\"\n",
            "_________________________________________________________________\n",
            "Layer (type)                 Output Shape              Param #   \n",
            "=================================================================\n",
            "input_4 (InputLayer)         [(None, 224, 224, 3)]     0         \n",
            "_________________________________________________________________\n",
            "vggface_vgg16 (Functional)   (None, None, None, 512)   14714688  \n",
            "_________________________________________________________________\n",
            "functional_3 (Functional)    (None, 1)                 25093     \n",
            "=================================================================\n",
            "Total params: 14,739,781\n",
            "Trainable params: 25,091\n",
            "Non-trainable params: 14,714,690\n",
            "_________________________________________________________________\n",
            "Model: \"functional_9\"\n",
            "_________________________________________________________________\n",
            "Layer (type)                 Output Shape              Param #   \n",
            "=================================================================\n",
            "input_4 (InputLayer)         [(None, 224, 224, 3)]     0         \n",
            "_________________________________________________________________\n",
            "vggface_vgg16 (Functional)   (None, None, None, 512)   14714688  \n",
            "_________________________________________________________________\n",
            "functional_5 (Functional)    (None, 1)                 25093     \n",
            "=================================================================\n",
            "Total params: 14,739,781\n",
            "Trainable params: 14,739,779\n",
            "Non-trainable params: 2\n",
            "_________________________________________________________________\n",
            "iter: 00099: DOMAIN DISCRIMINATION: source_domain_accuracy: 80.92120, target_domain_accuracy: 71.88745 \n",
            "\n",
            "iter: 00199: DOMAIN DISCRIMINATION: source_domain_accuracy: 80.96652, target_domain_accuracy: 70.40603 \n",
            "\n",
            "iter: 00299: DOMAIN DISCRIMINATION: source_domain_accuracy: 79.56105, target_domain_accuracy: 70.81989 \n",
            "\n",
            "iter: 00399: DOMAIN DISCRIMINATION: source_domain_accuracy: 80.94528, target_domain_accuracy: 70.11193 \n",
            "\n",
            "iter: 00499: DOMAIN DISCRIMINATION: source_domain_accuracy: 80.72896, target_domain_accuracy: 69.85773 \n",
            "\n"
          ],
          "name": "stdout"
        },
        {
          "output_type": "display_data",
          "data": {
            "image/png": "[encoded data removed]",
            "text/plain": [
              "<Figure size 432x288 with 1 Axes>"
            ]
          },
          "metadata": {
            "tags": []
          }
        },
        {
          "output_type": "display_data",
          "data": {
            "image/png": "[encoded data removed]",
            "text/plain": [
              "<Figure size 432x288 with 1 Axes>"
            ]
          },
          "metadata": {
            "tags": []
          }
        }
      ]
    },
    {
      "cell_type": "code",
      "metadata": {
        "id": "MfontvwMffqM",
        "colab_type": "code",
        "colab": {}
      },
      "source": [
        "# !pip install git+https://github.com/keras-team/autokeras.git@master\n",
        "# !pip install git+https://github.com/keras-team/keras-tuner.git@master\n",
        "# !pip install tensorflow==2.2.0\n",
        "\n",
        "!pip3 install git+https://github.com/keras-team/keras-tuner.git@1.0.2rc0\n",
        "!pip3 install autokeras==1.0.3"
      ],
      "execution_count": null,
      "outputs": []
    },
    {
      "cell_type": "markdown",
      "metadata": {
        "id": "1pQH37cTxOFF",
        "colab_type": "text"
      },
      "source": [
        "# Target Classifier"
      ]
    },
    {
      "cell_type": "code",
      "metadata": {
        "id": "goRWamsJ95YB",
        "colab_type": "code",
        "colab": {
          "base_uri": "https://localhost:8080/",
          "height": 163
        },
        "outputId": "da77ce18-81b2-4542-e3b4-c84ef3cc322c"
      },
      "source": [
        "from keras.models import load_model\n",
        "# path_source_classifier = '/content/drive/My Drive/pro_data/‏final_result_notB/source_classifier.h5'\n",
        "# model = load_model(path_source_classifier)\n",
        "# path_target_discriminator = '/content/drive/My Drive/pro_data/‏final_result_notB/disc_target_10000_iter.hdf5'\n",
        "# model.load_weights(path_target_discriminator, by_name=True)\n",
        "# # model.compile(optimizer = opt_classifier(param), loss = 'categorical_crossentropy', metrics = ['accuracy'])\n",
        "models[\"combined_discriminator_t\"].save_weights('/content/drive/My Drive/pro_data/pro_book_res/disc_target.hdf5')\n",
        "model = load_model('/content/drive/My Drive/pro_data/pro_book_res/source_model.h5')\n",
        "model.load_weights('/content/drive/My Drive/pro_data/pro_book_res/disc_target.hdf5', by_name=True)\n",
        "\n",
        "param[\"Xt_test\"], yt_test = data_loader('/content/drive/My Drive/pro_data/testset', param[\"inp_dims\"])\n",
        "lb = LabelEncoder()\n",
        "source_labels  = lb.fit_transform(yt_test)\n",
        "param[\"yt_test\"] = to_categorical(source_labels)\n",
        "f = open('/content/drive/My Drive/pro_data/pro_book_res/_labels',\"wb\")\n",
        "f.write(pickle.dumps(lb))\n",
        "f.close()\n",
        "\n",
        "test_xt,test_yt = param[\"Xt_test\"], param[\"yt_test\"]\n",
        "yt_pred = model.predict(test_xt)\n",
        "target_accuracy_test = accuracy_score(test_yt.argmax(1), yt_pred.argmax(1))              \n",
        "\n",
        "cm_t = metrics.confusion_matrix(test_yt.argmax(1), yt_pred.argmax(1))\n",
        "\n",
        "print(\"target accuracy test\",target_accuracy_test)\n",
        "print(\"target Classifier matrix: \",cm_t)\n",
        "\n",
        "\n",
        "test_xs,test_ys = param[\"Xs_test\"], param[\"ys_test\"]\n",
        "ys_pred = model.predict(test_xs)\n",
        "source_accuracy_test = accuracy_score(test_ys.argmax(1), ys_pred.argmax(1))              \n",
        "cm_s = metrics.confusion_matrix(test_ys.argmax(1), ys_pred.argmax(1))\n",
        "\n",
        "print(\"source accuracy test\",source_accuracy_test)\n",
        "print(\"source Classifier matrix: \",cm_s)\n"
      ],
      "execution_count": null,
      "outputs": [
        {
          "output_type": "stream",
          "text": [
            "target accuracy test 0.225\n",
            "target Classifier matrix:  [[ 9  0  0]\n",
            " [16  0  0]\n",
            " [15  0  0]]\n",
            "source accuracy test 0.31724137931034485\n",
            "source Classifier matrix:  [[ 92   0   0]\n",
            " [117   0   0]\n",
            " [ 81   0   0]]\n"
          ],
          "name": "stdout"
        }
      ]
    },
    {
      "cell_type": "code",
      "metadata": {
        "id": "dzsB2rnFILDi",
        "colab_type": "code",
        "colab": {
          "base_uri": "https://localhost:8080/",
          "height": 297
        },
        "outputId": "2e7f50e1-4a39-47a1-f388-ac7ddccf7cf3"
      },
      "source": [
        "labels_path = '/content/drive/My Drive/pro_data/pro_book_res/_labels'  \n",
        "lb = pickle.loads(open(labels_path, \"rb\").read())\n",
        "classes = lb.classes_\n",
        "_plot_confusion_matrix(cm_s, classes,title='Source Confusion matrix')\n"
      ],
      "execution_count": null,
      "outputs": [
        {
          "output_type": "display_data",
          "data": {
            "image/png": "[encoded data removed]",
            "text/plain": [
              "<Figure size 432x288 with 2 Axes>"
            ]
          },
          "metadata": {
            "tags": []
          }
        }
      ]
    },
    {
      "cell_type": "code",
      "metadata": {
        "id": "J4PIVn3PcSiv",
        "colab_type": "code",
        "colab": {
          "base_uri": "https://localhost:8080/",
          "height": 297
        },
        "outputId": "2389d8cb-e9a4-4b16-9215-cbd2dfe49121"
      },
      "source": [
        "_plot_confusion_matrix(cm_t, classes,title='Targrt Confusion matrix')"
      ],
      "execution_count": null,
      "outputs": [
        {
          "output_type": "display_data",
          "data": {
            "image/png": "[encoded data removed]",
            "text/plain": [
              "<Figure size 432x288 with 2 Axes>"
            ]
          },
          "metadata": {
            "tags": []
          }
        }
      ]
    },
    {
      "cell_type": "markdown",
      "metadata": {
        "id": "Sc-UVquCj5P8",
        "colab_type": "text"
      },
      "source": [
        "# Sanity Check"
      ]
    },
    {
      "cell_type": "code",
      "metadata": {
        "id": "fSf_R5OMj1HT",
        "colab_type": "code",
        "colab": {
          "base_uri": "https://localhost:8080/",
          "height": 370
        },
        "outputId": "c927d0f6-276c-4b5b-f3fc-00d0f6999951"
      },
      "source": [
        "from keras.models import load_model\n",
        "path_source_classifier = '/content/drive/My Drive/pro_data/pro_book_res/source_model.h5'\n",
        "source_model = load_model(path_source_classifier)\n",
        "\n",
        "# test_xt,test_yt = param[\"Xt_test\"], param[\"yt_test\"]\n",
        "yt_pred = source_model.predict(test_xt)\n",
        "target_accuracy_test = accuracy_score(test_yt.argmax(1), yt_pred.argmax(1))              \n",
        "\n",
        "cm_t_sanity = metrics.confusion_matrix(test_yt.argmax(1), yt_pred.argmax(1))\n",
        "\n",
        "print(\"target accuracy test\",target_accuracy_test)\n",
        "print(\"target Classifier matrix: \",cm_t_sanity)\n",
        "\n",
        "_plot_confusion_matrix(cm_t_sanity, classes,title='Target Confusion matrix with Source Classifier')\n"
      ],
      "execution_count": null,
      "outputs": [
        {
          "output_type": "stream",
          "text": [
            "target accuracy test 0.225\n",
            "target Classifier matrix:  [[ 9  0  0]\n",
            " [14  0  2]\n",
            " [15  0  0]]\n"
          ],
          "name": "stdout"
        },
        {
          "output_type": "display_data",
          "data": {
            "image/png": "[encoded data removed]",
            "text/plain": [
              "<Figure size 432x288 with 2 Axes>"
            ]
          },
          "metadata": {
            "tags": []
          }
        }
      ]
    },
    {
      "cell_type": "code",
      "metadata": {
        "id": "zeJTfWlRN-Ga",
        "colab_type": "code",
        "colab": {
          "base_uri": "https://localhost:8080/",
          "height": 370
        },
        "outputId": "fb8b9e0e-640e-4bdb-965e-78bcc813026c"
      },
      "source": [
        "\n",
        "\n",
        "xs,ys = param[\"source_data\"], param[\"source_label\"]\n",
        "ys_pred = source_model.predict(xs)\n",
        "source_accuracy = accuracy_score(ys.argmax(1), ys_pred.argmax(1))              \n",
        "\n",
        "cm_s_sanity = metrics.confusion_matrix(ys.argmax(1), ys_pred.argmax(1))\n",
        "\n",
        "print(\"source accuracy\",source_accuracy)\n",
        "print(\"source Classifier matrix: \",cm_s_sanity)\n",
        "\n"
      ],
      "execution_count": null,
      "outputs": [
        {
          "output_type": "stream",
          "text": [
            "source accuracy 0.6576949620427881\n",
            "source Classifier matrix:  [[480   0   0]\n",
            " [320  27 133]\n",
            " [ 43   0 446]]\n"
          ],
          "name": "stdout"
        },
        {
          "output_type": "display_data",
          "data": {
            "image/png": "[encoded data removed]",
            "text/plain": [
              "<Figure size 432x288 with 2 Axes>"
            ]
          },
          "metadata": {
            "tags": []
          }
        }
      ]
    },
    {
      "cell_type": "code",
      "metadata": {
        "id": "1ag2PV5SP7QM",
        "colab_type": "code",
        "colab": {
          "base_uri": "https://localhost:8080/",
          "height": 297
        },
        "outputId": "84ef3a74-ad45-4b6e-c9d4-085cfbc6c770"
      },
      "source": [
        "_plot_confusion_matrix(cm_s_sanity, classes,title='Source Confusion matrix with Source Classifier')"
      ],
      "execution_count": null,
      "outputs": [
        {
          "output_type": "display_data",
          "data": {
            "image/png": "[encoded data removed]",
            "text/plain": [
              "<Figure size 432x288 with 2 Axes>"
            ]
          },
          "metadata": {
            "tags": []
          }
        }
      ]
    },
    {
      "cell_type": "markdown",
      "metadata": {
        "id": "Odtr5EQ5QMuZ",
        "colab_type": "text"
      },
      "source": [
        "# VGGFACE as classifier"
      ]
    },
    {
      "cell_type": "code",
      "metadata": {
        "id": "FEuTMZRNQTw9",
        "colab_type": "code",
        "colab": {
          "base_uri": "https://localhost:8080/",
          "height": 910
        },
        "outputId": "1d7e069a-87aa-4055-ed21-6a1477c153ab"
      },
      "source": [
        "vggface = VGGFace(weights='vggface',include_top = False,input_shape=(224, 224, 3))\n",
        "vggface.summary()\n"
      ],
      "execution_count": null,
      "outputs": [
        {
          "output_type": "stream",
          "text": [
            "Downloading data from https://github.com/rcmalli/keras-vggface/releases/download/v2.0/rcmalli_vggface_tf_notop_vgg16.h5\n",
            "58916864/58909280 [==============================] - 1s 0us/step\n",
            "Model: \"vggface_vgg16\"\n",
            "_________________________________________________________________\n",
            "Layer (type)                 Output Shape              Param #   \n",
            "=================================================================\n",
            "input_1 (InputLayer)         [(None, 224, 224, 3)]     0         \n",
            "_________________________________________________________________\n",
            "conv1_1 (Conv2D)             (None, 224, 224, 64)      1792      \n",
            "_________________________________________________________________\n",
            "conv1_2 (Conv2D)             (None, 224, 224, 64)      36928     \n",
            "_________________________________________________________________\n",
            "pool1 (MaxPooling2D)         (None, 112, 112, 64)      0         \n",
            "_________________________________________________________________\n",
            "conv2_1 (Conv2D)             (None, 112, 112, 128)     73856     \n",
            "_________________________________________________________________\n",
            "conv2_2 (Conv2D)             (None, 112, 112, 128)     147584    \n",
            "_________________________________________________________________\n",
            "pool2 (MaxPooling2D)         (None, 56, 56, 128)       0         \n",
            "_________________________________________________________________\n",
            "conv3_1 (Conv2D)             (None, 56, 56, 256)       295168    \n",
            "_________________________________________________________________\n",
            "conv3_2 (Conv2D)             (None, 56, 56, 256)       590080    \n",
            "_________________________________________________________________\n",
            "conv3_3 (Conv2D)             (None, 56, 56, 256)       590080    \n",
            "_________________________________________________________________\n",
            "pool3 (MaxPooling2D)         (None, 28, 28, 256)       0         \n",
            "_________________________________________________________________\n",
            "conv4_1 (Conv2D)             (None, 28, 28, 512)       1180160   \n",
            "_________________________________________________________________\n",
            "conv4_2 (Conv2D)             (None, 28, 28, 512)       2359808   \n",
            "_________________________________________________________________\n",
            "conv4_3 (Conv2D)             (None, 28, 28, 512)       2359808   \n",
            "_________________________________________________________________\n",
            "pool4 (MaxPooling2D)         (None, 14, 14, 512)       0         \n",
            "_________________________________________________________________\n",
            "conv5_1 (Conv2D)             (None, 14, 14, 512)       2359808   \n",
            "_________________________________________________________________\n",
            "conv5_2 (Conv2D)             (None, 14, 14, 512)       2359808   \n",
            "_________________________________________________________________\n",
            "conv5_3 (Conv2D)             (None, 14, 14, 512)       2359808   \n",
            "_________________________________________________________________\n",
            "pool5 (MaxPooling2D)         (None, 7, 7, 512)         0         \n",
            "=================================================================\n",
            "Total params: 14,714,688\n",
            "Trainable params: 14,714,688\n",
            "Non-trainable params: 0\n",
            "_________________________________________________________________\n"
          ],
          "name": "stdout"
        }
      ]
    },
    {
      "cell_type": "code",
      "metadata": {
        "id": "-_5Ll8PGcdsG",
        "colab_type": "code",
        "colab": {}
      },
      "source": [
        "    flat = Flatten()(vggface.output)\n",
        "    # dense1 = Dense(400, name = 'class_dense1')(flat)\n",
        "    # bn1 = BatchNormalization(name = 'class_bn1')(dense1)\n",
        "    # act1 = Activation('relu', name = 'class_act1')(bn1)\n",
        "    # drop2 = Dropout(param[\"drop_classifier\"], name = 'class_drop1')(act1)\n",
        "\n",
        "    dense2 = Dense(100, name = 'class_dense2')(flat)\n",
        "    bn2 = BatchNormalization(name = 'class_bn2')(dense2)\n",
        "    act2 = Activation('relu', name = 'class_act2')(bn2)\n",
        "    drop2 = Dropout(param[\"drop_classifier\"], name = 'class_drop2')(act2)\n",
        "    densel = Dense(param[\"number_of_classe\"], name = 'class_dense_last')(drop2)\n",
        "    # densel = Dense(param[\"number_of_classe\"], name = 'class_dense_last')(flat)\n",
        "                                                                         \n",
        "    bnl = BatchNormalization(name = 'class_bn_last')(densel)\n",
        "    actl = Activation('softmax', name = 'class_act_last')(bnl)\n",
        "\n",
        "    model = Model(inputs=(vggface.input), outputs=(actl))"
      ],
      "execution_count": null,
      "outputs": []
    },
    {
      "cell_type": "code",
      "metadata": {
        "id": "U5GwNE0HdmEx",
        "colab_type": "code",
        "colab": {
          "base_uri": "https://localhost:8080/",
          "height": 1000
        },
        "outputId": "8a1b98fb-31a5-4c30-ad39-1549eb473ef8"
      },
      "source": [
        "from keras.callbacks import ModelCheckpoint, EarlyStopping\n",
        "from keras.preprocessing.image import ImageDataGenerator\n",
        "\n",
        "\n",
        "checkpoint = ModelCheckpoint(\"drive/My Drive/pro_data/pro_book_res/source_model_only.h5\", monitor='val_accuracy', verbose=1, \n",
        "                             save_best_only=True, save_weights_only=False, mode='auto')\n",
        "early = EarlyStopping(monitor='val_accuracy', min_delta=0, patience=15, verbose=1, mode='auto')\n",
        "\n",
        "datagen = ImageDataGenerator(data_format='channels_last', \n",
        "                                rescale=1./255, \n",
        "                                rotation_range=40, \n",
        "                                width_shift_range=0.2, \n",
        "                                height_shift_range=0.2)\n",
        "       \n",
        "evalgen = ImageDataGenerator(data_format='channels_last', \n",
        "                                rescale=1./255)\n",
        "train_x, train_y = param[\"Xs_train\"], param[\"ys_train\"]\n",
        "test_x, test_y = param[\"Xs_test\"], param[\"ys_test\"]\n",
        "model.compile(optimizer = opt_classifier(param), loss = 'categorical_crossentropy', metrics = ['accuracy'])\n",
        "train_generator  = datagen.flow(train_x, train_y, batch_size=64, shuffle=True)\n",
        "hist = model.fit(train_generator ,\n",
        "                            steps_per_epoch=15, \n",
        "                            epochs=60, \n",
        "                            validation_data=evalgen.flow(test_x, test_y, batch_size=128), \n",
        "                            initial_epoch=0,callbacks=[checkpoint,early])\n",
        "        \n",
        "\n",
        "y_pred = model.predict(test_x)\n",
        "source_accuracy_test = accuracy_score(test_y.argmax(1), y_pred.argmax(1))              \n",
        "\n",
        "print(\"source accuracy test\",source_accuracy_test)\n",
        "print(\"Source Classifier matrix: \",metrics.confusion_matrix(test_y.argmax(1), y_pred.argmax(1)))"
      ],
      "execution_count": null,
      "outputs": [
        {
          "output_type": "stream",
          "text": [
            "Epoch 1/60\n",
            " 2/15 [===>..........................] - ETA: 2s - loss: 1.3265 - accuracy: 0.3672WARNING:tensorflow:Callbacks method `on_train_batch_end` is slow compared to the batch time (batch time: 0.1195s vs `on_train_batch_end` time: 0.2721s). Check your callbacks.\n",
            "15/15 [==============================] - ETA: 0s - loss: 0.9782 - accuracy: 0.5396\n",
            "Epoch 00001: val_accuracy improved from -inf to 0.62414, saving model to drive/My Drive/pro_data/pro_book_res/source_model_only.h5\n",
            "15/15 [==============================] - 15s 1s/step - loss: 0.9782 - accuracy: 0.5396 - val_loss: 0.9958 - val_accuracy: 0.6241\n",
            "Epoch 2/60\n",
            "15/15 [==============================] - ETA: 0s - loss: 0.6626 - accuracy: 0.7309\n",
            "Epoch 00002: val_accuracy did not improve from 0.62414\n",
            "15/15 [==============================] - 11s 709ms/step - loss: 0.6626 - accuracy: 0.7309 - val_loss: 0.9439 - val_accuracy: 0.5862\n",
            "Epoch 3/60\n",
            "15/15 [==============================] - ETA: 0s - loss: 0.5548 - accuracy: 0.8151\n",
            "Epoch 00003: val_accuracy improved from 0.62414 to 0.86207, saving model to drive/My Drive/pro_data/pro_book_res/source_model_only.h5\n",
            "15/15 [==============================] - 12s 817ms/step - loss: 0.5548 - accuracy: 0.8151 - val_loss: 0.8788 - val_accuracy: 0.8621\n",
            "Epoch 4/60\n",
            "15/15 [==============================] - ETA: 0s - loss: 0.4581 - accuracy: 0.8804\n",
            "Epoch 00004: val_accuracy did not improve from 0.86207\n",
            "15/15 [==============================] - 10s 689ms/step - loss: 0.4581 - accuracy: 0.8804 - val_loss: 0.8618 - val_accuracy: 0.7310\n",
            "Epoch 5/60\n",
            "15/15 [==============================] - ETA: 0s - loss: 0.3951 - accuracy: 0.9167\n",
            "Epoch 00005: val_accuracy improved from 0.86207 to 0.89310, saving model to drive/My Drive/pro_data/pro_book_res/source_model_only.h5\n",
            "15/15 [==============================] - 12s 816ms/step - loss: 0.3951 - accuracy: 0.9167 - val_loss: 0.8651 - val_accuracy: 0.8931\n",
            "Epoch 6/60\n",
            "15/15 [==============================] - ETA: 0s - loss: 0.3858 - accuracy: 0.9158\n",
            "Epoch 00006: val_accuracy did not improve from 0.89310\n",
            "15/15 [==============================] - 11s 731ms/step - loss: 0.3858 - accuracy: 0.9158 - val_loss: 0.8397 - val_accuracy: 0.8483\n",
            "Epoch 7/60\n",
            "15/15 [==============================] - ETA: 0s - loss: 0.3413 - accuracy: 0.9535\n",
            "Epoch 00007: val_accuracy improved from 0.89310 to 0.91379, saving model to drive/My Drive/pro_data/pro_book_res/source_model_only.h5\n",
            "15/15 [==============================] - 12s 804ms/step - loss: 0.3413 - accuracy: 0.9535 - val_loss: 0.8306 - val_accuracy: 0.9138\n",
            "Epoch 8/60\n",
            "15/15 [==============================] - ETA: 0s - loss: 0.3188 - accuracy: 0.9590\n",
            "Epoch 00008: val_accuracy did not improve from 0.91379\n",
            "15/15 [==============================] - 11s 731ms/step - loss: 0.3188 - accuracy: 0.9590 - val_loss: 0.8131 - val_accuracy: 0.8483\n",
            "Epoch 9/60\n",
            "15/15 [==============================] - ETA: 0s - loss: 0.3225 - accuracy: 0.9513\n",
            "Epoch 00009: val_accuracy did not improve from 0.91379\n",
            "15/15 [==============================] - 10s 677ms/step - loss: 0.3225 - accuracy: 0.9513 - val_loss: 0.8279 - val_accuracy: 0.7931\n",
            "Epoch 10/60\n",
            "15/15 [==============================] - ETA: 0s - loss: 0.3197 - accuracy: 0.9668\n",
            "Epoch 00010: val_accuracy improved from 0.91379 to 0.94138, saving model to drive/My Drive/pro_data/pro_book_res/source_model_only.h5\n",
            "15/15 [==============================] - 12s 805ms/step - loss: 0.3197 - accuracy: 0.9668 - val_loss: 0.7632 - val_accuracy: 0.9414\n",
            "Epoch 11/60\n",
            "15/15 [==============================] - ETA: 0s - loss: 0.3154 - accuracy: 0.9573\n",
            "Epoch 00011: val_accuracy improved from 0.94138 to 0.96207, saving model to drive/My Drive/pro_data/pro_book_res/source_model_only.h5\n",
            "15/15 [==============================] - 11s 764ms/step - loss: 0.3154 - accuracy: 0.9573 - val_loss: 0.7083 - val_accuracy: 0.9621\n",
            "Epoch 12/60\n",
            "15/15 [==============================] - ETA: 0s - loss: 0.3068 - accuracy: 0.9657\n",
            "Epoch 00012: val_accuracy did not improve from 0.96207\n",
            "15/15 [==============================] - 10s 689ms/step - loss: 0.3068 - accuracy: 0.9657 - val_loss: 0.7187 - val_accuracy: 0.9483\n",
            "Epoch 13/60\n",
            "15/15 [==============================] - ETA: 0s - loss: 0.3029 - accuracy: 0.9712\n",
            "Epoch 00013: val_accuracy improved from 0.96207 to 0.96897, saving model to drive/My Drive/pro_data/pro_book_res/source_model_only.h5\n",
            "15/15 [==============================] - 12s 801ms/step - loss: 0.3029 - accuracy: 0.9712 - val_loss: 0.6918 - val_accuracy: 0.9690\n",
            "Epoch 14/60\n",
            "15/15 [==============================] - ETA: 0s - loss: 0.2931 - accuracy: 0.9756\n",
            "Epoch 00014: val_accuracy did not improve from 0.96897\n",
            "15/15 [==============================] - 11s 701ms/step - loss: 0.2931 - accuracy: 0.9756 - val_loss: 0.6646 - val_accuracy: 0.9621\n",
            "Epoch 15/60\n",
            "15/15 [==============================] - ETA: 0s - loss: 0.3031 - accuracy: 0.9712\n",
            "Epoch 00015: val_accuracy did not improve from 0.96897\n",
            "15/15 [==============================] - 10s 682ms/step - loss: 0.3031 - accuracy: 0.9712 - val_loss: 0.6804 - val_accuracy: 0.9517\n",
            "Epoch 16/60\n",
            "15/15 [==============================] - ETA: 0s - loss: 0.2944 - accuracy: 0.9760\n",
            "Epoch 00016: val_accuracy did not improve from 0.96897\n",
            "15/15 [==============================] - 10s 697ms/step - loss: 0.2944 - accuracy: 0.9760 - val_loss: 0.6390 - val_accuracy: 0.9690\n",
            "Epoch 17/60\n",
            "15/15 [==============================] - ETA: 0s - loss: 0.2746 - accuracy: 0.9745\n",
            "Epoch 00017: val_accuracy did not improve from 0.96897\n",
            "15/15 [==============================] - 10s 676ms/step - loss: 0.2746 - accuracy: 0.9745 - val_loss: 0.6148 - val_accuracy: 0.9655\n",
            "Epoch 18/60\n",
            "15/15 [==============================] - ETA: 0s - loss: 0.2855 - accuracy: 0.9701\n",
            "Epoch 00018: val_accuracy did not improve from 0.96897\n",
            "15/15 [==============================] - 10s 657ms/step - loss: 0.2855 - accuracy: 0.9701 - val_loss: 0.5954 - val_accuracy: 0.9655\n",
            "Epoch 19/60\n",
            "15/15 [==============================] - ETA: 0s - loss: 0.2738 - accuracy: 0.9756\n",
            "Epoch 00019: val_accuracy did not improve from 0.96897\n",
            "15/15 [==============================] - 10s 649ms/step - loss: 0.2738 - accuracy: 0.9756 - val_loss: 0.5677 - val_accuracy: 0.9690\n",
            "Epoch 20/60\n",
            "15/15 [==============================] - ETA: 0s - loss: 0.2761 - accuracy: 0.9823\n",
            "Epoch 00020: val_accuracy did not improve from 0.96897\n",
            "15/15 [==============================] - 10s 672ms/step - loss: 0.2761 - accuracy: 0.9823 - val_loss: 0.5635 - val_accuracy: 0.9379\n",
            "Epoch 21/60\n",
            "15/15 [==============================] - ETA: 0s - loss: 0.2798 - accuracy: 0.9779\n",
            "Epoch 00021: val_accuracy did not improve from 0.96897\n",
            "15/15 [==============================] - 10s 679ms/step - loss: 0.2798 - accuracy: 0.9779 - val_loss: 0.5041 - val_accuracy: 0.9621\n",
            "Epoch 22/60\n",
            "15/15 [==============================] - ETA: 0s - loss: 0.2805 - accuracy: 0.9767\n",
            "Epoch 00022: val_accuracy improved from 0.96897 to 0.97241, saving model to drive/My Drive/pro_data/pro_book_res/source_model_only.h5\n",
            "15/15 [==============================] - 12s 808ms/step - loss: 0.2805 - accuracy: 0.9767 - val_loss: 0.5019 - val_accuracy: 0.9724\n",
            "Epoch 23/60\n",
            "15/15 [==============================] - ETA: 0s - loss: 0.2688 - accuracy: 0.9801\n",
            "Epoch 00023: val_accuracy did not improve from 0.97241\n",
            "15/15 [==============================] - 10s 687ms/step - loss: 0.2688 - accuracy: 0.9801 - val_loss: 0.5340 - val_accuracy: 0.9621\n",
            "Epoch 24/60\n",
            "15/15 [==============================] - ETA: 0s - loss: 0.2731 - accuracy: 0.9760\n",
            "Epoch 00024: val_accuracy did not improve from 0.97241\n",
            "15/15 [==============================] - 10s 697ms/step - loss: 0.2731 - accuracy: 0.9760 - val_loss: 0.4454 - val_accuracy: 0.9690\n",
            "Epoch 25/60\n",
            "15/15 [==============================] - ETA: 0s - loss: 0.2678 - accuracy: 0.9779\n",
            "Epoch 00025: val_accuracy did not improve from 0.97241\n",
            "15/15 [==============================] - 10s 672ms/step - loss: 0.2678 - accuracy: 0.9779 - val_loss: 0.4456 - val_accuracy: 0.9690\n",
            "Epoch 26/60\n",
            "15/15 [==============================] - ETA: 0s - loss: 0.2634 - accuracy: 0.9802\n",
            "Epoch 00026: val_accuracy did not improve from 0.97241\n",
            "15/15 [==============================] - 10s 699ms/step - loss: 0.2634 - accuracy: 0.9802 - val_loss: 0.4139 - val_accuracy: 0.9552\n",
            "Epoch 27/60\n",
            "15/15 [==============================] - ETA: 0s - loss: 0.2562 - accuracy: 0.9812\n",
            "Epoch 00027: val_accuracy improved from 0.97241 to 0.97586, saving model to drive/My Drive/pro_data/pro_book_res/source_model_only.h5\n",
            "15/15 [==============================] - 12s 797ms/step - loss: 0.2562 - accuracy: 0.9812 - val_loss: 0.3884 - val_accuracy: 0.9759\n",
            "Epoch 28/60\n",
            "15/15 [==============================] - ETA: 0s - loss: 0.2653 - accuracy: 0.9823\n",
            "Epoch 00028: val_accuracy did not improve from 0.97586\n",
            "15/15 [==============================] - 10s 681ms/step - loss: 0.2653 - accuracy: 0.9823 - val_loss: 0.3808 - val_accuracy: 0.9724\n",
            "Epoch 29/60\n",
            "15/15 [==============================] - ETA: 0s - loss: 0.2776 - accuracy: 0.9767\n",
            "Epoch 00029: val_accuracy improved from 0.97586 to 0.97931, saving model to drive/My Drive/pro_data/pro_book_res/source_model_only.h5\n",
            "15/15 [==============================] - 13s 845ms/step - loss: 0.2776 - accuracy: 0.9767 - val_loss: 0.4484 - val_accuracy: 0.9793\n",
            "Epoch 30/60\n",
            "15/15 [==============================] - ETA: 0s - loss: 0.2563 - accuracy: 0.9823\n",
            "Epoch 00030: val_accuracy did not improve from 0.97931\n",
            "15/15 [==============================] - 10s 677ms/step - loss: 0.2563 - accuracy: 0.9823 - val_loss: 0.3870 - val_accuracy: 0.9586\n",
            "Epoch 31/60\n",
            "15/15 [==============================] - ETA: 0s - loss: 0.2563 - accuracy: 0.9856\n",
            "Epoch 00031: val_accuracy did not improve from 0.97931\n",
            "15/15 [==============================] - 10s 672ms/step - loss: 0.2563 - accuracy: 0.9856 - val_loss: 0.3579 - val_accuracy: 0.9793\n",
            "Epoch 32/60\n",
            "15/15 [==============================] - ETA: 0s - loss: 0.2487 - accuracy: 0.9812\n",
            "Epoch 00032: val_accuracy improved from 0.97931 to 0.98276, saving model to drive/My Drive/pro_data/pro_book_res/source_model_only.h5\n",
            "15/15 [==============================] - 12s 806ms/step - loss: 0.2487 - accuracy: 0.9812 - val_loss: 0.3450 - val_accuracy: 0.9828\n",
            "Epoch 33/60\n",
            "15/15 [==============================] - ETA: 0s - loss: 0.2517 - accuracy: 0.9779\n",
            "Epoch 00033: val_accuracy did not improve from 0.98276\n",
            "15/15 [==============================] - 10s 680ms/step - loss: 0.2517 - accuracy: 0.9779 - val_loss: 0.3138 - val_accuracy: 0.9793\n",
            "Epoch 34/60\n",
            "15/15 [==============================] - ETA: 0s - loss: 0.2528 - accuracy: 0.9834\n",
            "Epoch 00034: val_accuracy did not improve from 0.98276\n",
            "15/15 [==============================] - 10s 665ms/step - loss: 0.2528 - accuracy: 0.9834 - val_loss: 0.3458 - val_accuracy: 0.9690\n",
            "Epoch 35/60\n",
            "15/15 [==============================] - ETA: 0s - loss: 0.2512 - accuracy: 0.9833\n",
            "Epoch 00035: val_accuracy did not improve from 0.98276\n",
            "15/15 [==============================] - 10s 694ms/step - loss: 0.2512 - accuracy: 0.9833 - val_loss: 0.3155 - val_accuracy: 0.9655\n",
            "Epoch 36/60\n",
            "15/15 [==============================] - ETA: 0s - loss: 0.2501 - accuracy: 0.9801\n",
            "Epoch 00036: val_accuracy did not improve from 0.98276\n",
            "15/15 [==============================] - 10s 653ms/step - loss: 0.2501 - accuracy: 0.9801 - val_loss: 0.2879 - val_accuracy: 0.9655\n",
            "Epoch 37/60\n",
            "15/15 [==============================] - ETA: 0s - loss: 0.2651 - accuracy: 0.9823\n",
            "Epoch 00037: val_accuracy did not improve from 0.98276\n",
            "15/15 [==============================] - 10s 676ms/step - loss: 0.2651 - accuracy: 0.9823 - val_loss: 0.3020 - val_accuracy: 0.9724\n",
            "Epoch 38/60\n",
            "15/15 [==============================] - ETA: 0s - loss: 0.2414 - accuracy: 0.9878\n",
            "Epoch 00038: val_accuracy did not improve from 0.98276\n",
            "15/15 [==============================] - 10s 676ms/step - loss: 0.2414 - accuracy: 0.9878 - val_loss: 0.2944 - val_accuracy: 0.9793\n",
            "Epoch 39/60\n",
            "15/15 [==============================] - ETA: 0s - loss: 0.2444 - accuracy: 0.9845\n",
            "Epoch 00039: val_accuracy did not improve from 0.98276\n",
            "15/15 [==============================] - 10s 669ms/step - loss: 0.2444 - accuracy: 0.9845 - val_loss: 0.2901 - val_accuracy: 0.9793\n",
            "Epoch 40/60\n",
            "15/15 [==============================] - ETA: 0s - loss: 0.2610 - accuracy: 0.9812\n",
            "Epoch 00040: val_accuracy did not improve from 0.98276\n",
            "15/15 [==============================] - 10s 669ms/step - loss: 0.2610 - accuracy: 0.9812 - val_loss: 0.3041 - val_accuracy: 0.9690\n",
            "Epoch 41/60\n",
            "15/15 [==============================] - ETA: 0s - loss: 0.2417 - accuracy: 0.9875\n",
            "Epoch 00041: val_accuracy did not improve from 0.98276\n",
            "15/15 [==============================] - 10s 690ms/step - loss: 0.2417 - accuracy: 0.9875 - val_loss: 0.2614 - val_accuracy: 0.9793\n",
            "Epoch 42/60\n",
            "15/15 [==============================] - ETA: 0s - loss: 0.2457 - accuracy: 0.9867\n",
            "Epoch 00042: val_accuracy did not improve from 0.98276\n",
            "15/15 [==============================] - 10s 659ms/step - loss: 0.2457 - accuracy: 0.9867 - val_loss: 0.2915 - val_accuracy: 0.9724\n",
            "Epoch 43/60\n",
            "15/15 [==============================] - ETA: 0s - loss: 0.2482 - accuracy: 0.9865\n",
            "Epoch 00043: val_accuracy did not improve from 0.98276\n",
            "15/15 [==============================] - 10s 683ms/step - loss: 0.2482 - accuracy: 0.9865 - val_loss: 0.3063 - val_accuracy: 0.9724\n",
            "Epoch 44/60\n",
            "15/15 [==============================] - ETA: 0s - loss: 0.2389 - accuracy: 0.9834\n",
            "Epoch 00044: val_accuracy did not improve from 0.98276\n",
            "15/15 [==============================] - 10s 664ms/step - loss: 0.2389 - accuracy: 0.9834 - val_loss: 0.3206 - val_accuracy: 0.9655\n",
            "Epoch 45/60\n",
            "15/15 [==============================] - ETA: 0s - loss: 0.2311 - accuracy: 0.9878\n",
            "Epoch 00045: val_accuracy did not improve from 0.98276\n",
            "15/15 [==============================] - 10s 665ms/step - loss: 0.2311 - accuracy: 0.9878 - val_loss: 0.2628 - val_accuracy: 0.9759\n",
            "Epoch 46/60\n",
            "15/15 [==============================] - ETA: 0s - loss: 0.2371 - accuracy: 0.9889\n",
            "Epoch 00046: val_accuracy did not improve from 0.98276\n",
            "15/15 [==============================] - 10s 666ms/step - loss: 0.2371 - accuracy: 0.9889 - val_loss: 0.2642 - val_accuracy: 0.9655\n",
            "Epoch 47/60\n",
            "15/15 [==============================] - ETA: 0s - loss: 0.2383 - accuracy: 0.9856\n",
            "Epoch 00047: val_accuracy did not improve from 0.98276\n",
            "15/15 [==============================] - 10s 657ms/step - loss: 0.2383 - accuracy: 0.9856 - val_loss: 0.2871 - val_accuracy: 0.9690\n",
            "Epoch 00047: early stopping\n",
            "source accuracy test 0.9689655172413794\n",
            "Source Classifier matrix:  [[ 91   0   1]\n",
            " [  0 117   0]\n",
            " [  7   1  73]]\n"
          ],
          "name": "stdout"
        }
      ]
    },
    {
      "cell_type": "code",
      "metadata": {
        "id": "Dm-lvFHHrQyf",
        "colab_type": "code",
        "colab": {}
      },
      "source": [
        "plt.figure(figsize = (15,5))\n",
        "plt.subplot(1,2,1)\n",
        "plt.title('Accuracy')\n",
        "plt.plot(hist.history['accuracy'], label = 'train')\n",
        "plt.plot(hist.history['val_accuracy'], label = 'val')\n",
        "plt.legend()\n",
        "plt.subplot(1,2,2)\n",
        "plt.plot(hist.history['loss'], label = 'train')\n",
        "plt.plot(hist.history['val_loss'], label = 'val')\n",
        "plt.legend()\n",
        "plt.title('Loss')"
      ],
      "execution_count": null,
      "outputs": []
    },
    {
      "cell_type": "code",
      "metadata": {
        "id": "qFzlz9cmNs-V",
        "colab_type": "code",
        "colab": {}
      },
      "source": [
        "param[\"Xt_test\"], yt_test = data_loader('/content/drive/My Drive/pro_data/testset', param[\"inp_dims\"])\n",
        "lb = LabelEncoder()\n",
        "source_labels  = lb.fit_transform(yt_test)\n",
        "param[\"yt_test\"] = to_categorical(source_labels)"
      ],
      "execution_count": null,
      "outputs": []
    },
    {
      "cell_type": "code",
      "metadata": {
        "id": "POYyDFPSM2kC",
        "colab_type": "code",
        "colab": {
          "base_uri": "https://localhost:8080/",
          "height": 298
        },
        "outputId": "17c50a70-5ad6-495d-fc78-94572377f6d5"
      },
      "source": [
        "from keras.models import load_model\n",
        "path_source_classifier = '/content/drive/My Drive/pro_data/pro_book_res/source_model_only.h5'\n",
        "source_model = load_model(path_source_classifier)\n",
        "\n",
        "test_xt,test_yt = param[\"Xt_test\"], param[\"yt_test\"]\n",
        "yt_pred = source_model.predict(test_xt)\n",
        "target_accuracy_test = accuracy_score(test_yt.argmax(1), yt_pred.argmax(1))              \n",
        "\n",
        "cm_t_sanity = metrics.confusion_matrix(test_yt.argmax(1), yt_pred.argmax(1))\n",
        "\n",
        "print(\"target accuracy test\",target_accuracy_test)\n",
        "print(\"target Classifier matrix: \",cm_t_sanity)\n",
        "\n"
      ],
      "execution_count": null,
      "outputs": [
        {
          "output_type": "stream",
          "text": [
            "target accuracy test 0.475\n",
            "target Classifier matrix:  [[ 8  0  1]\n",
            " [ 0  5 11]\n",
            " [ 6  3  6]]\n"
          ],
          "name": "stdout"
        },
        {
          "output_type": "error",
          "ename": "NameError",
          "evalue": "ignored",
          "traceback": [
            "\u001b[0;31m---------------------------------------------------------------------------\u001b[0m",
            "\u001b[0;31mNameError\u001b[0m                                 Traceback (most recent call last)",
            "\u001b[0;32m<ipython-input-15-341eed50019c>\u001b[0m in \u001b[0;36m<module>\u001b[0;34m()\u001b[0m\n\u001b[1;32m     12\u001b[0m \u001b[0mprint\u001b[0m\u001b[0;34m(\u001b[0m\u001b[0;34m\"target Classifier matrix: \"\u001b[0m\u001b[0;34m,\u001b[0m\u001b[0mcm_t_sanity\u001b[0m\u001b[0;34m)\u001b[0m\u001b[0;34m\u001b[0m\u001b[0;34m\u001b[0m\u001b[0m\n\u001b[1;32m     13\u001b[0m \u001b[0;34m\u001b[0m\u001b[0m\n\u001b[0;32m---> 14\u001b[0;31m \u001b[0m_plot_confusion_matrix\u001b[0m\u001b[0;34m(\u001b[0m\u001b[0mcm_t_sanity\u001b[0m\u001b[0;34m,\u001b[0m \u001b[0mclasses\u001b[0m\u001b[0;34m,\u001b[0m\u001b[0mtitle\u001b[0m\u001b[0;34m=\u001b[0m\u001b[0;34m'Target Confusion matrix with Source Classifier'\u001b[0m\u001b[0;34m)\u001b[0m\u001b[0;34m\u001b[0m\u001b[0;34m\u001b[0m\u001b[0m\n\u001b[0m",
            "\u001b[0;31mNameError\u001b[0m: name 'classes' is not defined"
          ]
        }
      ]
    },
    {
      "cell_type": "code",
      "metadata": {
        "id": "xy9MGVTUO0tg",
        "colab_type": "code",
        "colab": {
          "base_uri": "https://localhost:8080/",
          "height": 297
        },
        "outputId": "bc0fab50-6ab1-49c9-a609-ff6ec797a453"
      },
      "source": [
        "lb = pickle.loads(open('/content/drive/My Drive/pro_data/pro_book_res/_labels', \"rb\").read())\n",
        "classes = lb.classes_\n",
        "_plot_confusion_matrix(cm_t_sanity, classes,title='Target Confusion matrix with Source Classifier')\n"
      ],
      "execution_count": null,
      "outputs": [
        {
          "output_type": "display_data",
          "data": {
            "image/png": "[encoded data removed]",
            "text/plain": [
              "<Figure size 432x288 with 2 Axes>"
            ]
          },
          "metadata": {
            "tags": [],
            "needs_background": "light"
          }
        }
      ]
    },
    {
      "cell_type": "code",
      "metadata": {
        "id": "GazU-eidQgqS",
        "colab_type": "code",
        "colab": {
          "base_uri": "https://localhost:8080/",
          "height": 90
        },
        "outputId": "d778f712-0f33-4e35-8722-dc7e3aa98a3f"
      },
      "source": [
        "\n",
        "test_xs,test_ys = param[\"Xs_test\"], param[\"ys_test\"]\n",
        "ys_pred = source_model.predict(test_xs)\n",
        "source_accuracy_test = accuracy_score(test_ys.argmax(1), ys_pred.argmax(1))              \n",
        "\n",
        "cm_s_sanity = metrics.confusion_matrix(test_ys.argmax(1), ys_pred.argmax(1))\n",
        "\n",
        "print(\"source accuracy test\",source_accuracy_test)\n",
        "print(\"source Classifier matrix: \",cm_s_sanity)"
      ],
      "execution_count": null,
      "outputs": [
        {
          "output_type": "stream",
          "text": [
            "target accuracy test 0.9758620689655172\n",
            "target Classifier matrix:  [[ 91   0   1]\n",
            " [  1 114   2]\n",
            " [  3   0  78]]\n"
          ],
          "name": "stdout"
        }
      ]
    },
    {
      "cell_type": "code",
      "metadata": {
        "id": "40_p7E7FevNa",
        "colab_type": "code",
        "colab": {
          "base_uri": "https://localhost:8080/",
          "height": 297
        },
        "outputId": "6fe06a56-0e77-4b39-f8f4-f6274721e738"
      },
      "source": [
        "_plot_confusion_matrix(cm_s_sanity, classes,title='Source Confusion matrix with Source Classifier')\n"
      ],
      "execution_count": null,
      "outputs": [
        {
          "output_type": "display_data",
          "data": {
            "image/png": "[encoded data removed]",
            "text/plain": [
              "<Figure size 432x288 with 2 Axes>"
            ]
          },
          "metadata": {
            "tags": [],
            "needs_background": "light"
          }
        }
      ]
    },
    {
      "cell_type": "markdown",
      "metadata": {
        "id": "u5z2eD2wipzA",
        "colab_type": "text"
      },
      "source": [
        "Plot of a ROC curve for a specific class"
      ]
    },
    {
      "cell_type": "code",
      "metadata": {
        "id": "P2uDq0PNeEyZ",
        "colab_type": "code",
        "colab": {}
      },
      "source": [
        "# Compute ROC curve and ROC area for each class\n",
        "fpr = dict()\n",
        "tpr = dict()\n",
        "roc_auc = dict()\n",
        "\n",
        "for i in range(3):\n",
        "    fpr[i], tpr[i], _ = roc_curve(test_yt[:, i], yt_pred[:, i])\n",
        "    roc_auc[i] = auc(fpr[i], tpr[i])\n",
        "\n",
        "# Compute micro-average ROC curve and ROC area\n",
        "fpr[\"micro\"], tpr[\"micro\"], _ = roc_curve(test_yt.ravel(), yt_pred.ravel())\n",
        "roc_auc[\"micro\"] = auc(fpr[\"micro\"], tpr[\"micro\"])"
      ],
      "execution_count": null,
      "outputs": []
    },
    {
      "cell_type": "code",
      "metadata": {
        "id": "o8pWEJE5hD6-",
        "colab_type": "code",
        "colab": {
          "base_uri": "https://localhost:8080/",
          "height": 295
        },
        "outputId": "5fe20566-ef92-4951-b5ab-0c3690de6882"
      },
      "source": [
        "plt.figure()\n",
        "lw = 2\n",
        "plt.plot(fpr[2], tpr[2], color='darkorange',\n",
        "         lw=lw, label='ROC curve (area = %0.2f)' % roc_auc[2])\n",
        "plt.plot([0, 1], [0, 1], color='navy', lw=lw, linestyle='--')\n",
        "plt.xlim([0.0, 1.0])\n",
        "plt.ylim([0.0, 1.05])\n",
        "plt.xlabel('False Positive Rate')\n",
        "plt.ylabel('True Positive Rate')\n",
        "plt.title('Receiver operating characteristic example')\n",
        "plt.legend(loc=\"lower right\")\n",
        "plt.show()"
      ],
      "execution_count": null,
      "outputs": [
        {
          "output_type": "display_data",
          "data": {
            "image/png": "[encoded data removed]",
            "text/plain": [
              "<Figure size 432x288 with 1 Axes>"
            ]
          },
          "metadata": {
            "tags": [],
            "needs_background": "light"
          }
        }
      ]
    },
    {
      "cell_type": "code",
      "metadata": {
        "id": "opAJCIC2hsWq",
        "colab_type": "code",
        "colab": {
          "base_uri": "https://localhost:8080/",
          "height": 295
        },
        "outputId": "d6402650-3b2d-4b2c-e040-de739033d005"
      },
      "source": [
        "plt.figure()\n",
        "lw = 2\n",
        "plt.plot(fpr[1], tpr[1], color='darkorange',\n",
        "         lw=lw, label='ROC curve (area = %0.2f)' % roc_auc[1])\n",
        "plt.plot([0, 1], [0, 1], color='navy', lw=lw, linestyle='--')\n",
        "plt.xlim([0.0, 1.0])\n",
        "plt.ylim([0.0, 1.05])\n",
        "plt.xlabel('False Positive Rate')\n",
        "plt.ylabel('True Positive Rate')\n",
        "plt.title('Receiver operating characteristic example')\n",
        "plt.legend(loc=\"lower right\")\n",
        "plt.show()"
      ],
      "execution_count": null,
      "outputs": [
        {
          "output_type": "display_data",
          "data": {
            "image/png": "[encoded data removed]",
            "text/plain": [
              "<Figure size 432x288 with 1 Axes>"
            ]
          },
          "metadata": {
            "tags": [],
            "needs_background": "light"
          }
        }
      ]
    },
    {
      "cell_type": "code",
      "metadata": {
        "id": "U2pqbdU7h2af",
        "colab_type": "code",
        "colab": {
          "base_uri": "https://localhost:8080/",
          "height": 295
        },
        "outputId": "00c81a41-18d6-4022-a4ec-4b711b5228e4"
      },
      "source": [
        "plt.figure()\n",
        "lw = 2\n",
        "plt.plot(fpr[0], tpr[0], color='darkorange',\n",
        "         lw=lw, label='ROC curve (area = %0.2f)' % roc_auc[0])\n",
        "plt.plot([0, 1], [0, 1], color='navy', lw=lw, linestyle='--')\n",
        "plt.xlim([0.0, 1.0])\n",
        "plt.ylim([0.0, 1.05])\n",
        "plt.xlabel('False Positive Rate')\n",
        "plt.ylabel('True Positive Rate')\n",
        "plt.title('Receiver operating characteristic example')\n",
        "plt.legend(loc=\"lower right\")\n",
        "plt.show()"
      ],
      "execution_count": null,
      "outputs": [
        {
          "output_type": "display_data",
          "data": {
            "image/png": "[encoded data removed]",
            "text/plain": [
              "<Figure size 432x288 with 1 Axes>"
            ]
          },
          "metadata": {
            "tags": [],
            "needs_background": "light"
          }
        }
      ]
    },
    {
      "cell_type": "markdown",
      "metadata": {
        "id": "dY2NlcS1mADC",
        "colab_type": "text"
      },
      "source": [
        "Compute macro-average ROC curve and ROC area"
      ]
    },
    {
      "cell_type": "code",
      "metadata": {
        "id": "ooqRNjoTi8tC",
        "colab_type": "code",
        "colab": {
          "base_uri": "https://localhost:8080/",
          "height": 295
        },
        "outputId": "d705fff0-b39f-4621-8d53-27f2b66ea039"
      },
      "source": [
        "import itertools \n",
        "\n",
        "# First aggregate all false positive rates\n",
        "n_classes = 3\n",
        "all_fpr = np.unique(np.concatenate([fpr[i] for i in range(n_classes)]))\n",
        "\n",
        "# Then interpolate all ROC curves at this points\n",
        "mean_tpr = np.zeros_like(all_fpr)\n",
        "for i in range(n_classes):\n",
        "    mean_tpr += np.interp(all_fpr, fpr[i], tpr[i])\n",
        "\n",
        "# Finally average it and compute AUC\n",
        "mean_tpr /= n_classes\n",
        "\n",
        "fpr[\"macro\"] = all_fpr\n",
        "tpr[\"macro\"] = mean_tpr\n",
        "roc_auc[\"macro\"] = auc(fpr[\"macro\"], tpr[\"macro\"])\n",
        "\n",
        "# Plot all ROC curves\n",
        "plt.figure()\n",
        "plt.plot(fpr[\"micro\"], tpr[\"micro\"],\n",
        "         label='micro-average ROC curve (area = {0:0.2f})'\n",
        "               ''.format(roc_auc[\"micro\"]),\n",
        "         color='deeppink', linestyle=':', linewidth=4)\n",
        "\n",
        "plt.plot(fpr[\"macro\"], tpr[\"macro\"],\n",
        "         label='macro-average ROC curve (area = {0:0.2f})'\n",
        "               ''.format(roc_auc[\"macro\"]),\n",
        "         color='navy', linestyle=':', linewidth=4)\n",
        "\n",
        "colors = itertools.cycle(['aqua', 'darkorange', 'cornflowerblue'])\n",
        "for i, color in zip(range(n_classes), colors):\n",
        "    plt.plot(fpr[i], tpr[i], color=color, lw=lw,\n",
        "             label='ROC curve of class {0} (area = {1:0.2f})'\n",
        "             ''.format(i, roc_auc[i]))\n",
        "\n",
        "plt.plot([0, 1], [0, 1], 'k--', lw=lw)\n",
        "plt.xlim([0.0, 1.0])\n",
        "plt.ylim([0.0, 1.05])\n",
        "plt.xlabel('False Positive Rate')\n",
        "plt.ylabel('True Positive Rate')\n",
        "plt.title('Some extension of Receiver operating characteristic to multi-class')\n",
        "plt.legend(loc=\"lower right\")\n",
        "plt.show()"
      ],
      "execution_count": null,
      "outputs": [
        {
          "output_type": "display_data",
          "data": {
            "image/png": "[encoded data removed]",
            "text/plain": [
              "<Figure size 432x288 with 1 Axes>"
            ]
          },
          "metadata": {
            "tags": [],
            "needs_background": "light"
          }
        }
      ]
    },
    {
      "cell_type": "markdown",
      "metadata": {
        "id": "U5F-Z7UhmDeU",
        "colab_type": "text"
      },
      "source": [
        "Area under ROC for the multiclass problem"
      ]
    },
    {
      "cell_type": "code",
      "metadata": {
        "id": "9w6VZ1CSkvY7",
        "colab_type": "code",
        "colab": {
          "base_uri": "https://localhost:8080/",
          "height": 126
        },
        "outputId": "82c42af8-c374-43c8-b6cf-596a605c9544"
      },
      "source": [
        "y_prob = source_model.predict(test_xt)\n",
        "\n",
        "macro_roc_auc_ovo = roc_auc_score(test_yt, y_prob, multi_class=\"ovo\",\n",
        "                                  average=\"macro\")\n",
        "weighted_roc_auc_ovo = roc_auc_score(test_yt, y_prob, multi_class=\"ovo\",\n",
        "                                     average=\"weighted\")\n",
        "macro_roc_auc_ovr = roc_auc_score(test_yt, y_prob, multi_class=\"ovr\",\n",
        "                                  average=\"macro\")\n",
        "weighted_roc_auc_ovr = roc_auc_score(test_yt, y_prob, multi_class=\"ovr\",\n",
        "                                     average=\"weighted\")\n",
        "print(\"One-vs-One ROC AUC scores:\\n{:.6f} (macro),\\n{:.6f} \"\n",
        "      \"(weighted by prevalence)\"\n",
        "      .format(macro_roc_auc_ovo, weighted_roc_auc_ovo))\n",
        "print(\"One-vs-Rest ROC AUC scores:\\n{:.6f} (macro),\\n{:.6f} \"\n",
        "      \"(weighted by prevalence)\"\n",
        "      .format(macro_roc_auc_ovr, weighted_roc_auc_ovr))"
      ],
      "execution_count": null,
      "outputs": [
        {
          "output_type": "stream",
          "text": [
            "One-vs-One ROC AUC scores:\n",
            "0.683943 (macro),\n",
            "0.649781 (weighted by prevalence)\n",
            "One-vs-Rest ROC AUC scores:\n",
            "0.683943 (macro),\n",
            "0.649781 (weighted by prevalence)\n"
          ],
          "name": "stdout"
        }
      ]
    },
    {
      "cell_type": "markdown",
      "metadata": {
        "id": "S_P0HGW_ruBw",
        "colab_type": "text"
      },
      "source": [
        "# Plot features"
      ]
    },
    {
      "cell_type": "code",
      "metadata": {
        "id": "w3oUcTiISV9P",
        "colab_type": "code",
        "colab": {}
      },
      "source": [
        "from sklearn.manifold import TSNE\n",
        "# from keras.models import load_weights\n",
        "# start = time.process_time()\n",
        "tsne = TSNE(n_components=3, verbose=1, perplexity=40, n_iter=300)\n",
        "# x = models[\"embedding_s\"].predict(param[\"Xt_train\"])\n",
        "path_source_classifier = '/content/drive/My Drive/pro_data/‏final_result_notB/disc_target_10000_iter.hdf5'\n",
        "models[\"embedding_s\"].load_weights(path_source_classifier,True)\n",
        "flat = models[\"embedding_s\"].predict(param[\"Xt_train\"])\n",
        "\n",
        "flat = Flatten()(flat)\n",
        "\n",
        "# x=x.reshape(0,)\n",
        "X_tsne = tsne.fit_transform(flat)\n",
        "\n",
        "# df_subset['tsne-2d-one'] = X_tsne[:,0]\n",
        "# df_subset['tsne-2d-two'] = X_tsne[:,1]\n",
        "# plt.figure(figsize=(16,10))\n",
        "# sns.scatterplot(\n",
        "#     x=\"tsne-2d-one\", y=\"tsne-2d-two\",\n",
        "#     hue=\"y\",\n",
        "#     palette=sns.color_palette(\"hls\", 10),\n",
        "#     data=df_subset,\n",
        "#     legend=\"full\",\n",
        "#     alpha=0.3\n",
        "# )\n",
        "# print(time.process_time() - start)"
      ],
      "execution_count": null,
      "outputs": []
    },
    {
      "cell_type": "code",
      "metadata": {
        "id": "rQdznvWpB_aR",
        "colab_type": "code",
        "colab": {}
      },
      "source": [
        "def extract_and_plot_pca_feats(sess, feat_tensor_name='feature'):\n",
        "    F = sess.graph.get_tensor_by_name(feat_tensor_name + ':0')\n",
        "    emb_s = sess.run(F, feed_dict={'X:0': Xs})\n",
        "    emb_t = sess.run(F, feed_dict={'X:0': Xt})\n",
        "    emb_all = np.vstack([emb_s, emb_t])\n",
        "\n",
        "    pca = PCA(n_components=2)\n",
        "    pca_emb = pca.fit_transform(emb_all)\n",
        "\n",
        "    num = pca_emb.shape[0] // 2\n",
        "    plt.scatter(pca_emb[:num,0], pca_emb[:num,1], c=ys, cmap='coolwarm', alpha=0.4)\n",
        "    plt.scatter(pca_emb[num:,0], pca_emb[num:,1], c=yt, cmap='cool', alpha=0.4)"
      ],
      "execution_count": null,
      "outputs": []
    }
  ]
}