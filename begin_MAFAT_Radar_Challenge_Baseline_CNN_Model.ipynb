{
  "nbformat": 4,
  "nbformat_minor": 0,
  "metadata": {
    "kernelspec": {
      "display_name": "Python 3",
      "language": "python",
      "name": "python3"
    },
    "language_info": {
      "codemirror_mode": {
        "name": "ipython",
        "version": 3
      },
      "file_extension": ".py",
      "mimetype": "text/x-python",
      "name": "python",
      "nbconvert_exporter": "python",
      "pygments_lexer": "ipython3",
      "version": "3.7.4"
    },
    "colab": {
      "name": "begin MAFAT Radar Challenge - Baseline CNN Model.ipynb",
      "provenance": [],
      "collapsed_sections": [],
      "toc_visible": true,
      "include_colab_link": true
    },
    "accelerator": "GPU"
  },
  "cells": [
    {
      "cell_type": "markdown",
      "metadata": {
        "id": "view-in-github",
        "colab_type": "text"
      },
      "source": [
        "<a href=\"https://colab.research.google.com/github/Shellyga/Adversarial-Domain-Adaptation-with-Keras/blob/master/begin_MAFAT_Radar_Challenge_Baseline_CNN_Model.ipynb\" target=\"_parent\"><img src=\"https://colab.research.google.com/assets/colab-badge.svg\" alt=\"Open In Colab\"/></a>"
      ]
    },
    {
      "cell_type": "markdown",
      "metadata": {
        "id": "Pp9FJgl5VfPx",
        "colab_type": "text"
      },
      "source": [
        "#**MAFAT Radar Challenge - Baseline Model**\n",
        "\n",
        "In this notebook, a Convolutional Neural Network (CNN) baseline model is presented. \n",
        "\n",
        "The model is trained on the training and auxiliary datasets.   \n",
        "In the end, a submission file with predictions for the public test set is being created and downloaded.\n",
        "\n",
        "The raw input for the model is the segments I/Q matrices.   \n",
        "Note that this is a simplistic baseline model. The model should only be used as a boilerplate code to boost development and to accelerate participants' orientation phase. Participants are encouraged to explore different, more creative, approaches, such as data augmentation, unsupervised pre-training/autoencoders, RNNs/transformers, signal processing, feature engineering, transfer learning, etc.   \n",
        "   \n",
        "To learn more about signals, I/Q, Doppler and other terms please go to [Resources](https://competitions.codalab.org/competitions/25389#learn_the_details-resources) on the competition website.    \n",
        "Please read the [Descriptive Statistics notebook](https://colab.research.google.com/drive/11Lzihg2vKIbo4KAIIJxW5CRZIncoWgtL?usp=sharing) to get familiar with the data.\n",
        "   \n",
        "Submissions are evaluated on the area under the Receiver Operating Characteristic Curve ([ROC AUC](https://en.wikipedia.org/wiki/Receiver_operating_characteristic)).   \n",
        "**The baseline model final result on the public test set is:   \n",
        " 0.73 ROC AUC.**\n",
        "\n",
        "[Competition website](https://competitions.codalab.org/competitions/25389)   \n",
        "[MAFAT Challenge homepage](https://mafatchallenge.mod.gov.il/)"
      ]
    },
    {
      "cell_type": "markdown",
      "metadata": {
        "id": "6AaZtlvVZ-2T",
        "colab_type": "text"
      },
      "source": [
        "## **Setup**"
      ]
    },
    {
      "cell_type": "code",
      "metadata": {
        "id": "BTKVzcpr55s7",
        "colab_type": "code",
        "colab": {
          "base_uri": "https://localhost:8080/",
          "height": 190
        },
        "outputId": "6ed380b8-f6c6-4b10-f4c3-c255d44baf66"
      },
      "source": [
        "!pip install tensorflow-determinism"
      ],
      "execution_count": null,
      "outputs": [
        {
          "output_type": "stream",
          "text": [
            "Collecting tensorflow-determinism\n",
            "  Downloading https://files.pythonhosted.org/packages/76/56/79d74f25b326d8719753172496abc524980fa67d1d98bb247021376e370a/tensorflow-determinism-0.3.0.tar.gz\n",
            "Building wheels for collected packages: tensorflow-determinism\n",
            "  Building wheel for tensorflow-determinism (setup.py) ... \u001b[?25l\u001b[?25hdone\n",
            "  Created wheel for tensorflow-determinism: filename=tensorflow_determinism-0.3.0-cp36-none-any.whl size=9156 sha256=8aa0236e57f791e85a71b5e0c57e31b956ac5b6c5eb101467a325addd9f6576a\n",
            "  Stored in directory: /root/.cache/pip/wheels/66/c3/18/13959a90d3e0d10182a99866d6ff4d0119e9daed6ce014b54c\n",
            "Successfully built tensorflow-determinism\n",
            "Installing collected packages: tensorflow-determinism\n",
            "Successfully installed tensorflow-determinism-0.3.0\n"
          ],
          "name": "stdout"
        }
      ]
    },
    {
      "cell_type": "code",
      "metadata": {
        "id": "kSMa29SfVfPy",
        "colab_type": "code",
        "colab": {
          "base_uri": "https://localhost:8080/",
          "height": 35
        },
        "outputId": "eecb7237-0a4a-417c-e4fd-8c773be668ef"
      },
      "source": [
        "import os\n",
        "import random\n",
        "import pickle\n",
        "import pandas as pd\n",
        "import matplotlib.pyplot as plt\n",
        "import numpy as np\n",
        "import tensorflow as tf\n",
        "\n",
        "from tensorflow.keras import backend as K\n",
        "from tensorflow.keras.models import Sequential, load_model\n",
        "from tensorflow.keras.layers import Dense, Flatten, Conv2D, MaxPooling2D, Dropout\n",
        "from tensorflow.keras.losses import BinaryCrossentropy\n",
        "from tensorflow.keras.optimizers import Adam\n",
        "from tensorflow.keras.metrics import AUC\n",
        "from sklearn.metrics import roc_auc_score, roc_curve, auc\n",
        "from matplotlib.colors import LinearSegmentedColormap\n",
        "from termcolor import colored\n",
        "\n",
        "# Set seed for reproducibility of results\n",
        "seed_value = 0\n",
        "os.environ['PYTHONHASHSEED']=str(seed_value)\n",
        "os.environ['TF_CUDNN_DETERMINISTIC'] = '1'\n",
        "\n",
        "tf.compat.v1.reset_default_graph()\n",
        "\n",
        "random.seed(seed_value)\n",
        "np.random.seed(seed_value)\n",
        "tf.random.set_seed(seed_value)\n",
        "tf.compat.v1.set_random_seed(seed_value)\n",
        "\n",
        "# Configure a new global `tensorflow` session\n",
        "session_conf = tf.compat.v1.ConfigProto(intra_op_parallelism_threads=1, inter_op_parallelism_threads=1)\n",
        "sess = tf.compat.v1.Session(graph=tf.compat.v1.get_default_graph(), config=session_conf)\n",
        "tf.compat.v1.keras.backend.set_session(sess)\n",
        "\n",
        "tf.__version__"
      ],
      "execution_count": null,
      "outputs": [
        {
          "output_type": "execute_result",
          "data": {
            "application/vnd.google.colaboratory.intrinsic": {
              "type": "string"
            },
            "text/plain": [
              "'2.2.0'"
            ]
          },
          "metadata": {
            "tags": []
          },
          "execution_count": 2
        }
      ]
    },
    {
      "cell_type": "code",
      "metadata": {
        "id": "gy41fxj9N3Nr",
        "colab_type": "code",
        "colab": {}
      },
      "source": [
        "import os\n",
        "import random\n",
        "import pickle\n",
        "import pandas as pd\n",
        "import matplotlib.pyplot as plt\n",
        "import numpy as np\n",
        "from sklearn.metrics import roc_auc_score, roc_curve, auc\n",
        "from matplotlib.colors import LinearSegmentedColormap\n",
        "from termcolor import colored\n",
        "from collections import Counter\n",
        "from plotnine import *\n",
        "from sklearn.metrics import roc_auc_score, roc_curve, auc,confusion_matrix\n",
        "from sklearn import metrics\n",
        "\n",
        "from keras.layers import Dense, Flatten, Conv2D, MaxPooling2D, Dropout,MaxPool2D,BatchNormalization,Activation\n",
        "from keras.applications.vgg16 import VGG16\n",
        "from keras.models import Model\n",
        "from keras.models import Sequential, load_model\n",
        "from keras.optimizers import Adam\n",
        "from keras import losses\n",
        "from keras.metrics import AUC\n",
        "from keras.utils import to_categorical\n",
        "from keras.callbacks import ModelCheckpoint, EarlyStopping\n",
        "from keras.models import load_model"
      ],
      "execution_count": 1,
      "outputs": []
    },
    {
      "cell_type": "code",
      "metadata": {
        "id": "U4CQDksDbfl_",
        "colab_type": "code",
        "colab": {
          "base_uri": "https://localhost:8080/",
          "height": 128
        },
        "outputId": "e0c57651-2501-4396-caa4-1725e3e0b1a9"
      },
      "source": [
        "from google.colab import drive\n",
        "mount_path = '/content/gdrive/'\n",
        "drive.mount(mount_path)"
      ],
      "execution_count": 2,
      "outputs": [
        {
          "output_type": "stream",
          "text": [
            "Go to this URL in a browser: https://accounts.google.com/o/oauth2/auth?client_id=947318989803-6bn6qk8qdgf4n4g3pfee6491hc0brc4i.apps.googleusercontent.com&redirect_uri=urn%3aietf%3awg%3aoauth%3a2.0%3aoob&scope=email%20https%3a%2f%2fwww.googleapis.com%2fauth%2fdocs.test%20https%3a%2f%2fwww.googleapis.com%2fauth%2fdrive%20https%3a%2f%2fwww.googleapis.com%2fauth%2fdrive.photos.readonly%20https%3a%2f%2fwww.googleapis.com%2fauth%2fpeopleapi.readonly&response_type=code\n",
            "\n",
            "Enter your authorization code:\n",
            "··········\n",
            "Mounted at /content/gdrive/\n"
          ],
          "name": "stdout"
        }
      ]
    },
    {
      "cell_type": "code",
      "metadata": {
        "id": "f5ZPU_OAXlFl",
        "colab_type": "code",
        "colab": {
          "base_uri": "https://localhost:8080/",
          "height": 35
        },
        "outputId": "0cf29a0c-a548-4f29-95de-53276cc76109"
      },
      "source": [
        "# Set and test path to competition data files\n",
        "# competition_path = 'INSERT HERE'\n",
        "competition_path = '/My Drive/Data'\n",
        "try:\n",
        "  if competition_path == 'INSERT HERE':\n",
        "    print('Please enter path to competition data files:')\n",
        "    competition_path = input()\n",
        "  file_path = 'MAFAT RADAR Challenge - Training Set V1.csv'\n",
        "  with open(f'{mount_path}/{competition_path}/{file_path}') as f:\n",
        "    f.readlines()\n",
        "  print(colored('Everything is setup correctly', color='green'))\n",
        "except:\n",
        "  print(colored('Please mount drive and set competition_path correctly',\n",
        "                color='red'))"
      ],
      "execution_count": 3,
      "outputs": [
        {
          "output_type": "stream",
          "text": [
            "\u001b[32mEverything is setup correctly\u001b[0m\n"
          ],
          "name": "stdout"
        }
      ]
    },
    {
      "cell_type": "markdown",
      "metadata": {
        "id": "TXzT9M3g8BFF",
        "colab_type": "text"
      },
      "source": [
        "## **Functions**\n",
        "\n",
        "All functions will be used in the \"Training the Model\" section."
      ]
    },
    {
      "cell_type": "markdown",
      "metadata": {
        "id": "3wXAsRDv7noG",
        "colab_type": "text"
      },
      "source": [
        "### **Data loading**"
      ]
    },
    {
      "cell_type": "code",
      "metadata": {
        "id": "XUyOVa6OVfP3",
        "colab_type": "code",
        "colab": {}
      },
      "source": [
        "# Functions for loading the data\n",
        "def load_data(file_path):\n",
        "  \"\"\"\n",
        "  Reads all data files (metadata and signal matrix data) as python dictionary,\n",
        "  the pkl and csv files must have the same file name.\n",
        "\n",
        "  Arguments:\n",
        "    file_path -- {str} -- path to the iq_matrix file and metadata file\n",
        "\n",
        "  Returns:\n",
        "    Python dictionary\n",
        "  \"\"\"\n",
        "  pkl = load_pkl_data(file_path)\n",
        "  meta = load_csv_metadata(file_path)\n",
        "  data_dictionary = {**meta, **pkl}\n",
        "  \n",
        "  for key in data_dictionary.keys():\n",
        "    data_dictionary[key] = np.array(data_dictionary[key])\n",
        "\n",
        "  return data_dictionary\n",
        "\n",
        "\n",
        "def load_pkl_data(file_path):\n",
        "  \"\"\"\n",
        "  Reads pickle file as a python dictionary (only Signal data).\n",
        "\n",
        "  Arguments:\n",
        "    file_path -- {str} -- path to pickle iq_matrix file\n",
        "\n",
        "  Returns:\n",
        "    Python dictionary\n",
        "  \"\"\"\n",
        "  # path = os.path.join(mount_path, competition_path, file_path + '.pkl')\n",
        "  # print(mount_path)\n",
        "  # print(path)\n",
        "  part_path = '/content/gdrive/My Drive/Data/'\n",
        "  path = os.path.join(part_path, file_path + '.pkl')\n",
        "  with open(path, 'rb') as data:\n",
        "    output = pickle.load(data)\n",
        "  return output\n",
        "\n",
        "\n",
        "def load_csv_metadata(file_path):\n",
        "  \"\"\"\n",
        "  Reads csv as pandas DataFrame (only Metadata).\n",
        "\n",
        "  Arguments:\n",
        "    file_path -- {str} -- path to csv metadata file\n",
        "\n",
        "  Returns:\n",
        "    Pandas DataFarme\n",
        "  \"\"\"\n",
        "  # path = os.path.join(mount_path, competition_path, file_path + '.csv')\n",
        "  part_path = '/content/gdrive/My Drive/Data/'\n",
        "  path = os.path.join(part_path, file_path + '.csv')\n",
        "  with open(path, 'rb') as data:\n",
        "    output = pd.read_csv(data)\n",
        "  return output"
      ],
      "execution_count": 4,
      "outputs": []
    },
    {
      "cell_type": "markdown",
      "metadata": {
        "id": "D1xzWMMFVfP2",
        "colab_type": "text"
      },
      "source": [
        "## **Data Preprocessing**\n",
        "**The preprocessing main steps:**   \n",
        "1. Applying [DFT](https://en.wikipedia.org/wiki/Discrete_Fourier_transform) (Discrete Fourier transform) by using the fast Fourier transform algorithm ([FFT](https://en.wikipedia.org/wiki/Fast_Fourier_transform)) and [Hann function](https://www.mathworks.com/help/signal/ref/hann.html) to smooth the I/Q matrix. Afterward, calculating the absolute value of the I/Q matrix complex numbers.   \n",
        "More information about Windowing and Hann function:   \n",
        "[Wikipedia Hann](https://en.wikipedia.org/wiki/Hann_function#:~:text=The%20Hann%20function%20of%20length,can%20be%20even%20or%20odd.)   \n",
        "[Wikipedia Window function](https://en.wikipedia.org/wiki/Window_function)   \n",
        "2. Set max value on the center of the target's mass.   \n",
        "The doppler burst is a vector (1 x 32) that marks the center of the target's mass on each I/Q matrix in every time unit (32 time-units).   \n",
        "The preprocess sets the maximum value of each I/Q matrix in-place of the values at the center of the target's mass.\n",
        "3. Normalization - Transforming I/Q matrix values to standardized values.   \n",
        "Subtraction of the mean and division by the standard deviation.\n",
        "\n",
        "**Preprocessing main steps explained:**   \n",
        "The DFT converts a signal from its original domain (often time or space) to a representation in the frequency domain and vice versa.   \n",
        "The I/Q matrix in this challenge is being converted from the velocity domain to the frequency domain.\n",
        "Windows (like \"Hann\") are used to reduce spectral leakage when performing a Fourier Transform on time data and converting it into the frequency domain.\n",
        "\n",
        "The purpose of switching the values of the center of the target's mass in the I/Q matrix with the max value of the matrix is to enhance this part of the matrix and focus the model on this part.\n",
        "\n",
        "\n",
        "Finally, the normalization is used for scaling all the I/Q matrices.\n",
        "\n",
        "* *Note: the target_type lables are strings (\"human\" and \"animal\"), the data_preprocess function replaces them to \"human\" = 1 and \"animal\" = 0.*   \n",
        "   \n",
        "\n",
        "\n",
        "**The FFT Process Explained:**   \n",
        "The IQ matrix contains 32 x 128 elements being 128 I/Q time data samples within a single radar processing time frame and 32 consecutive such time units. The X-axis represents the pulse transmission time, also known as “slow-time”. The Y-axis represents the reception time of signals with respect to pulse transmission time divided into 128 equal sized bins, also known as “fast-time”. The reason FFT is performed on the ‘fast time’ axis (i.e. 128 samples) rather than on the ‘slow time’ axis (i.e. 32 samples) is a matter of scale. An underlying assumption for an effective FFT analysis is that ‘acceleration’ during the time frame represented by the data is very low. Given the type of motion presented by humans and animals only the ‘fast time’ axis complies with this assumption.\n",
        "Therefore, FFT processing should be applied over the dimension of 128 I/Q time samples to get the frequency content of the returned radar signal at each time frame. A spectrogram (as shown in the samples) is generated by attaching together 32 consecutive FFT results (please note that besides FFT processing some additional manipulation is required to properly display a spectrogram – like taking a LOG of the absolute value and passing a threshold – this is well detailed in the ‘Processing’ section of the competition notebook). Therefore, a spectrogram would eventually provide a display of how the frequency content of the returned signal is changing along time."
      ]
    },
    {
      "cell_type": "code",
      "metadata": {
        "id": "ySJCkwAe76KB",
        "colab_type": "code",
        "colab": {}
      },
      "source": [
        "# Functions for preprocessing and preprocess function\n",
        "def fft(iq, axis=0):\n",
        "  \"\"\"\n",
        "  Computes the log of discrete Fourier Transform (DFT).\n",
        "     \n",
        "  Arguments:\n",
        "    iq_burst -- {ndarray} -- 'iq_sweep_burst' array\n",
        "    axis -- {int} -- axis to perform fft in (Default = 0)\n",
        "\n",
        "  Returns:\n",
        "    log of DFT on iq_burst array\n",
        "  \"\"\"\n",
        "  iq = np.log(np.abs(np.fft.fft(hann(iq), axis=axis)))\n",
        "  return iq\n",
        "\n",
        "\n",
        "def hann(iq, window=None):\n",
        "    \"\"\"\n",
        "    Preformes Hann smoothing of 'iq_sweep_burst'.\n",
        "\n",
        "    Arguments:\n",
        "      iq {ndarray} -- 'iq_sweep_burst' array\n",
        "      window -{range} -- range of hann window indices (Default=None)\n",
        "               if None the whole column is taken\n",
        "\n",
        "    Returns:\n",
        "      Regulazied iq in shape - (window[1] - window[0] - 2, iq.shape[1])\n",
        "    \"\"\"\n",
        "    if window is None:\n",
        "        window = [0, len(iq)]\n",
        "\n",
        "    N = window[1] - window[0] - 1\n",
        "    n = np.arange(window[0], window[1])\n",
        "    n = n.reshape(len(n), 1)\n",
        "    hannCol = 0.5 * (1 - np.cos(2 * np.pi * (n / N)))\n",
        "    return (hannCol * iq[window[0]:window[1]])[1:-1]\n",
        "\n",
        "\n",
        "def max_value_on_doppler(iq, doppler_burst):\n",
        "  \"\"\"\n",
        "  Set max value on I/Q matrix using doppler burst vector. \n",
        "     \n",
        "  Arguments:\n",
        "    iq_burst -- {ndarray} -- 'iq_sweep_burst' array\n",
        "    doppler_burst -- {ndarray} -- 'doppler_burst' array (center of mass)\n",
        "               \n",
        "  Returns:\n",
        "    I/Q matrix with the max value instead of the original values\n",
        "    The doppler burst marks the matrix values to change by max value\n",
        "  \"\"\"\n",
        "  iq_max_value = np.max(iq)\n",
        "  for i in range(iq.shape[1]):\n",
        "    if doppler_burst[i]>=len(iq):\n",
        "       continue\n",
        "    iq[doppler_burst[i], i] = iq_max_value\n",
        "  return iq\n",
        "\n",
        "\n",
        "def normalize(iq):\n",
        "  \"\"\"\n",
        "  Calculates normalized values for iq_sweep_burst matrix:\n",
        "  (vlaue-mean)/std.\n",
        "  \"\"\"\n",
        "  m = iq.mean()\n",
        "  s = iq.std()\n",
        "  return (iq-m)/s\n",
        "\n",
        "\n",
        "def data_preprocess(data):\n",
        "  \"\"\"\n",
        "  Preforms data preprocessing.\n",
        "  Change target_type lables from string to integer:\n",
        "  'human'  --> 1\n",
        "  'animal' --> 0\n",
        "\n",
        "  Arguments:\n",
        "    data -- {ndarray} -- the data set\n",
        "\n",
        "  Returns:\n",
        "    processed data (max values by doppler burst, DFT, normalization)\n",
        "  \"\"\"\n",
        "  X=[]\n",
        "  for i in range(len(data['iq_sweep_burst'])):\n",
        "    iq = fft(data['iq_sweep_burst'][i])\n",
        "    iq = max_value_on_doppler(iq,data['doppler_burst'][i])\n",
        "    iq = normalize(iq)\n",
        "    X.append(iq)\n",
        "\n",
        "  data['iq_sweep_burst'] = np.array(X)\n",
        "  if 'target_type' in data:\n",
        "    data['target_type'][data['target_type'] == 'animal'] = 0\n",
        "    data['target_type'][data['target_type'] == 'human'] = 1\n",
        "  return data"
      ],
      "execution_count": 5,
      "outputs": []
    },
    {
      "cell_type": "markdown",
      "metadata": {
        "id": "-j6KvZouVfP6",
        "colab_type": "text"
      },
      "source": [
        "### **Splitting the Training set**\n",
        "\n",
        "The functions below split the training set into Train and Validation sets.\n",
        "\n",
        "* Validation Set.   \n",
        "The validation set is constructed from segments from geolocation_ids 1 and 4.   \n",
        "These geolocations' target_type distributions are balanced.\n",
        "To create a fair representation of the test set   \n",
        "(one segment form each track) every sixth segment was taken to the validation set.   \n",
        "The reason is that approximately 75% of the tracks have less than 6 segments (see the [Descriptive Statistics notebook](https://colab.research.google.com/drive/11Lzihg2vKIbo4KAIIJxW5CRZIncoWgtL?usp=sharing)),   \n",
        "it guarantees that most of the segments in the validation set are not from the same track.   \n",
        "   \n",
        "* Adding \"human\" segments to the training set.   \n",
        "The training set is imbalanced (more animals than humans, see the [Descriptive Statistics notebook](https://colab.research.google.com/drive/11Lzihg2vKIbo4KAIIJxW5CRZIncoWgtL?usp=sharing).   \n",
        "One can address this issue by taking segements of humans from the \"Auxiliary Experiment Set\".   \n",
        "The first 3 segments from each track are taken into the training set (or less if the track is shorter than 3 segments)."
      ]
    },
    {
      "cell_type": "code",
      "metadata": {
        "id": "foTpFmn9VfP7",
        "colab_type": "code",
        "colab": {}
      },
      "source": [
        "# Function for splitting the data to training and validation\n",
        "# and function for selecting samples of segments from the Auxiliary dataset\n",
        "def split_train_val(data):\n",
        "  \"\"\"\n",
        "  Split the data to train and validation set.\n",
        "  The validation set is built from training set segments of \n",
        "  geolocation_id 1 and 4. \n",
        "  Use the function only after the training set is complete and preprocessed. \n",
        "\n",
        "  Arguments:\n",
        "    data -- {ndarray} -- the data set to split\n",
        "\n",
        "  Returns:\n",
        "    iq_sweep_burst ndarray matrices\n",
        "    target_type vector \n",
        "    for training and validation sets\n",
        "  \"\"\"\n",
        "  idx = ((data['geolocation_id'] == 4) | (data['geolocation_id'] == 1))\\\n",
        "   & (data['segment_id'] % 6 == 0)\n",
        "  training_x = data['iq_sweep_burst'][np.logical_not(idx)]\n",
        "  training_y = data['target_type'][np.logical_not(idx)]\n",
        "  validation_x = data['iq_sweep_burst'][idx]\n",
        "  validation_y = data['target_type'][idx]\n",
        "  return training_x, training_y, validation_x, validation_y\n",
        "\n",
        "def aux_split(data):\n",
        "  \"\"\"\n",
        "  Selects segments from the auxilary set for training set.\n",
        "  Takes the first 3 segments (or less) from each track.\n",
        "\n",
        "  Arguments:\n",
        "    data {dataframe} -- the auxilary data\n",
        "\n",
        "  Returns:\n",
        "    The auxilary data for the training\n",
        "  \"\"\"\n",
        "  idx = np.bool_(np.zeros(len(data['track_id'])))\n",
        "  for track in np.unique(data['track_id']):\n",
        "    idx |= data['segment_id']==(data['segment_id'][data['track_id'] == track][:3])\n",
        "  \n",
        "  for key in data:\n",
        "    data[key] = data[key][idx]\n",
        "  return data"
      ],
      "execution_count": 6,
      "outputs": []
    },
    {
      "cell_type": "markdown",
      "metadata": {
        "id": "170f5Pcgk5gF",
        "colab_type": "text"
      },
      "source": [
        "## **Model**"
      ]
    },
    {
      "cell_type": "markdown",
      "metadata": {
        "id": "QrGpOOCGgVdz",
        "colab_type": "text"
      },
      "source": [
        "### **CNN Model**\n",
        "The model has two convolutional layers, both followed by max-pooling layers.    \n",
        "Those layers are followed by 2 fully-connected (dense) layers, activated with a ReLU function and regularized with   \n",
        "L2 regularization, followed by a final output layer with a single neuron with a Sigmoid activation function,   \n",
        "used for final binary classification."
      ]
    },
    {
      "cell_type": "code",
      "metadata": {
        "id": "Fm-o5mr6gT7i",
        "colab_type": "code",
        "colab": {}
      },
      "source": [
        "# Building the model\n",
        "def create_model(input_shape, init):\n",
        "  \"\"\"\n",
        "  CNN model.\n",
        "\n",
        "  Arguments:\n",
        "    input_shape -- the shape of our input\n",
        "    init -- the weight initialization\n",
        "\n",
        "  Returns:\n",
        "    CNN model    \n",
        "  \"\"\"\n",
        "  # model = Sequential()\n",
        "  # model.add(Conv2D(16, kernel_size=(3, 3), activation='relu', kernel_initializer = init, bias_regularizer='l2', input_shape=input_shape))\n",
        "  # model.add(MaxPooling2D(pool_size=(2, 2)))\n",
        "  # model.add(Conv2D(32, kernel_size=(3, 3), activation='relu', kernel_initializer = init, bias_regularizer='l2'))\n",
        "  # model.add(MaxPooling2D(pool_size=(2, 2)))\n",
        "  # model.add(Flatten())\n",
        "  # model.add(Dense(128, kernel_regularizer = 'l2', activation='relu', kernel_initializer = init))\n",
        "  # model.add(Dense(32, kernel_regularizer = 'l2', activation='relu', kernel_initializer = init))\n",
        "  # model.add(Dense(1, activation='sigmoid', kernel_initializer = init))\n",
        "  # return model\n",
        "\n",
        "  # Creating and running the model\n",
        "  model = Sequential()\n",
        "  # model.add(Conv2D(16, kernel_size=(3, 3), activation='relu', kernel_initializer = init, bias_regularizer='l2', input_shape=input_shape))\n",
        "  # model.add(MaxPooling2D(pool_size=(2, 2)))\n",
        "  model.add(Conv2D(input_shape=(126,32,1),filters=64,kernel_size=(3,3),padding=\"same\", activation=\"relu\"))\n",
        "  model.add(Conv2D(filters=64,kernel_size=(3,3),padding=\"same\", activation=\"relu\"))\n",
        "  model.add(MaxPool2D(pool_size=(2,2),strides=(2,2)))\n",
        "  model.add(Conv2D(32, kernel_size=(3, 3), activation='relu', kernel_initializer = init, bias_regularizer='l2'))\n",
        "  model.add(MaxPooling2D(pool_size=(2, 2)))\n",
        "  model.add(Flatten())\n",
        "  model.add(Dense(512, kernel_regularizer = 'l2', activation='relu', kernel_initializer = init))\n",
        "\n",
        "  model.add(Dense(128, kernel_regularizer = 'l2', activation='relu', kernel_initializer = init))\n",
        "  model.add(layers.LeakyReLU(alpha=0.1))\n",
        "\n",
        "  model.add(BatchNormalization())\n",
        "  model.add(Dropout(0.25))\n",
        "\n",
        "  model.add(Dense(32, kernel_regularizer = 'l2', activation='relu', kernel_initializer = init))\n",
        "  model.add(BatchNormalization())\n",
        "  model.add(Dense(1, activation='sigmoid', kernel_initializer = init))\n",
        "\n",
        "  # # model.add(Dense(400))\n",
        "  # model.add(BatchNormalization())\n",
        "  # model.add(Activation('relu'))\n",
        "  # model.add(Dropout(0.25))\n",
        "  # model.add(Dense(32))\n",
        "  # model.add(BatchNormalization())\n",
        "  # model.add(Activation('relu'))\n",
        "  # model.add(Dropout(0.25))\n",
        "  # model.add(Dense(1))\n",
        "  #   # densel = Dense(param[\"number_of_classe\"], name = 'class_dense_last')(flat)\n",
        "                                                                         \n",
        "  # model.add(BatchNormalization())\n",
        "  # model.add(Activation('softmax'))\n",
        "  return model"
      ],
      "execution_count": 34,
      "outputs": []
    },
    {
      "cell_type": "code",
      "metadata": {
        "id": "pv544OyCbpEp",
        "colab_type": "code",
        "colab": {}
      },
      "source": [
        "def create_best_model(input_shape, init):\n",
        "\n",
        "  # Creating and running the model\n",
        "  model = Sequential()\n",
        "  model.add(Conv2D(input_shape=(126,32,1),filters=64,kernel_size=(3,3),padding=\"same\", activation=\"relu\"))\n",
        "  model.add(Conv2D(filters=64,kernel_size=(3,3),padding=\"same\", activation=\"relu\"))\n",
        "  model.add(MaxPool2D(pool_size=(2,2),strides=(2,2)))\n",
        "  model.add(Conv2D(32, kernel_size=(3, 3), activation='relu', kernel_initializer = init, bias_regularizer='l2'))\n",
        "  model.add(MaxPooling2D(pool_size=(2, 2)))\n",
        "  model.add(Flatten())\n",
        "  model.add(Dense(128, kernel_regularizer = 'l2', activation='relu', kernel_initializer = init))\n",
        "\n",
        "  model.add(BatchNormalization())\n",
        "  model.add(Dropout(0.25))\n",
        "\n",
        "  model.add(Dense(32, kernel_regularizer = 'l2', activation='relu', kernel_initializer = init))\n",
        "  model.add(Dense(1, activation='sigmoid', kernel_initializer = init))\n",
        "  return model"
      ],
      "execution_count": null,
      "outputs": []
    },
    {
      "cell_type": "code",
      "metadata": {
        "id": "7Pcz2-hyTeXv",
        "colab_type": "code",
        "colab": {}
      },
      "source": [
        "def create_vgg():\n",
        "  model = Sequential()\n",
        "  model.add(Conv2D(input_shape=(126,32,1),filters=64,kernel_size=(3,3),padding=\"same\", activation=\"relu\"))\n",
        "  model.add(Conv2D(filters=64,kernel_size=(3,3),padding=\"same\", activation=\"relu\"))\n",
        "  model.add(MaxPool2D(pool_size=(2,2),strides=(2,2)))\n",
        "  # model.add(Conv2D(filters=128, kernel_size=(3,3), padding=\"same\", activation=\"relu\"))\n",
        "  # model.add(Conv2D(filters=128, kernel_size=(3,3), padding=\"same\", activation=\"relu\"))\n",
        "  model.add(MaxPool2D(pool_size=(2,2),strides=(2,2)))\n",
        "  model.add(Conv2D(filters=256, kernel_size=(3,3), padding=\"same\", activation=\"relu\"))\n",
        "  # model.add(Conv2D(filters=256, kernel_size=(3,3), padding=\"same\", activation=\"relu\"))\n",
        "  # model.add(Conv2D(filters=256, kernel_size=(3,3), padding=\"same\", activation=\"relu\"))\n",
        "  # model.add(MaxPool2D(pool_size=(2,2),strides=(2,2)))\n",
        "  model.add(Conv2D(filters=512, kernel_size=(3,3), padding=\"same\", activation=\"relu\"))\n",
        "  # model.add(Conv2D(filters=512, kernel_size=(3,3), padding=\"same\", activation=\"relu\"))\n",
        "  model.add(Conv2D(filters=512, kernel_size=(3,3), padding=\"same\", activation=\"relu\"))\n",
        "  model.add(MaxPool2D(pool_size=(2,2),strides=(2,2)))\n",
        "  model.add(Conv2D(filters=512, kernel_size=(3,3), padding=\"same\", activation=\"relu\"))\n",
        "  # model.add(Conv2D(filters=512, kernel_size=(3,3), padding=\"same\", activation=\"relu\"))\n",
        "  # model.add(Conv2D(filters=512, kernel_size=(3,3), padding=\"same\", activation=\"relu\"))\n",
        "  model.add(MaxPool2D(pool_size=(2,2),strides=(2,2),name = 'max_pool'))\n",
        "  return model"
      ],
      "execution_count": null,
      "outputs": []
    },
    {
      "cell_type": "markdown",
      "metadata": {
        "id": "q6VRmYQ6VfP_",
        "colab_type": "text"
      },
      "source": [
        "### **Evaluation and Visualization of Model's results**"
      ]
    },
    {
      "cell_type": "code",
      "metadata": {
        "id": "WkSravW5VfP_",
        "colab_type": "code",
        "colab": {}
      },
      "source": [
        "# Function for calculating the final ROC-AUC score and plot the ROC curve,\n",
        "# used in the \"Results\" section\n",
        "def stats(pred, actual):\n",
        "  \"\"\"\n",
        "  Computes the model ROC-AUC score and plots the ROC curve.\n",
        "\n",
        "  Arguments:\n",
        "    pred -- {ndarray} -- model's probability predictions\n",
        "    actual -- the true lables\n",
        "\n",
        "  Returns:\n",
        "    ROC curve graph and ROC-AUC score\n",
        "  \"\"\"\n",
        "  plt.figure(figsize=(20, 10))\n",
        "  fpr1, tpr1, _ = roc_curve(actual[0], pred[0])\n",
        "  fpr2, tpr2, _ = roc_curve(actual[1], pred[1])\n",
        "  roc_auc = [auc(fpr1, tpr1), auc(fpr2, tpr2)]\n",
        "  lw = 2\n",
        "  plt.plot(fpr1, tpr1, lw=lw, label='Training set (ROC-AUC = %0.2f)' % roc_auc[0])\n",
        "  plt.plot(fpr2, tpr2, lw=lw, label='Validation set (ROC-AUC = %0.2f)' % roc_auc[1])\n",
        "  plt.plot([0, 1], [0, 1], color='black', lw=lw, linestyle='--', label = 'Random guess')\n",
        "  plt.xlim([0.0, 1.0])\n",
        "  plt.ylim([0.0, 1.05])\n",
        "  plt.xlabel('False Positive Rate', fontsize=18)\n",
        "  plt.ylabel('True Positive Rate', fontsize=18)\n",
        "  plt.title('Training set vs. Validation set ROC curves')\n",
        "  plt.legend(loc=\"lower right\", prop = {'size': 20})\n",
        "  plt.show()"
      ],
      "execution_count": 8,
      "outputs": []
    },
    {
      "cell_type": "markdown",
      "metadata": {
        "id": "ByTli3H1VfQD",
        "colab_type": "text"
      },
      "source": [
        "## **Training The Model**"
      ]
    },
    {
      "cell_type": "code",
      "metadata": {
        "id": "CKvhQs_9gpVN",
        "colab_type": "code",
        "colab": {}
      },
      "source": [
        "# Loading and preparing the data\n",
        "\n",
        "# Loading Auxiliary Experiment set - can take a few minutes\n",
        "experiment_auxiliary = 'MAFAT RADAR Challenge - Auxiliary Experiment Set V2'\n",
        "experiment_auxiliary_df = load_data(experiment_auxiliary)"
      ],
      "execution_count": 9,
      "outputs": []
    },
    {
      "cell_type": "code",
      "metadata": {
        "id": "AMDQ4YgSN_fW",
        "colab_type": "code",
        "colab": {
          "base_uri": "https://localhost:8080/",
          "height": 55
        },
        "outputId": "1f2fae0b-ae7b-468c-e842-dad0f2a7dc6d"
      },
      "source": [
        "# Taking sample from the Auxiliary Experiment set\n",
        "train_aux = aux_split(experiment_auxiliary_df)"
      ],
      "execution_count": 10,
      "outputs": [
        {
          "output_type": "stream",
          "text": [
            "/usr/local/lib/python3.6/dist-packages/ipykernel_launcher.py:38: DeprecationWarning: elementwise comparison failed; this will raise an error in the future.\n"
          ],
          "name": "stderr"
        }
      ]
    },
    {
      "cell_type": "code",
      "metadata": {
        "id": "ZcsTx2T_2Uzk",
        "colab_type": "code",
        "colab": {}
      },
      "source": [
        "# The function append_dict is for concatenating the training set \n",
        "# with the Auxiliary data set segments\n",
        "\n",
        "def append_dict(dict1, dict2):\n",
        "  for key in dict1:\n",
        "    dict1[key] = np.concatenate([dict1[key], dict2[key]], axis=0)\n",
        "  return dict1"
      ],
      "execution_count": 11,
      "outputs": []
    },
    {
      "cell_type": "code",
      "metadata": {
        "id": "xqdUzjrN-U6f",
        "colab_type": "code",
        "colab": {}
      },
      "source": [
        "# Training set\n",
        "train_path = 'MAFAT RADAR Challenge - Training Set V1'\n",
        "training_df = load_data(train_path)\n",
        "\n",
        "# Adding segments from the experiment auxiliary set to the training set\n",
        "train_df = append_dict(training_df, train_aux)\n",
        "\n",
        "# Preprocessing and split the data to training and validation\n",
        "train_df = data_preprocess(train_df.copy())\n",
        "train_x, train_y, val_x, val_y = split_train_val(train_df)\n",
        "\n",
        "val_y =  val_y.astype(int)\n",
        "train_y =train_y.astype(int)\n",
        "train_x = train_x.reshape(list(train_x.shape)+[1])\n",
        "val_x = val_x.reshape(list(val_x.shape)+[1])"
      ],
      "execution_count": 12,
      "outputs": []
    },
    {
      "cell_type": "code",
      "metadata": {
        "id": "BZk7ZKOGb6tM",
        "colab_type": "code",
        "colab": {}
      },
      "source": [
        "# Public test set - loading and preprocessing\n",
        "test_path = 'MAFAT RADAR Challenge - Public Test Set V1'\n",
        "test_df = load_data(test_path)\n",
        "test_df = data_preprocess(test_df.copy())\n",
        "test_x = test_df['iq_sweep_burst']\n",
        "test_x = test_x.reshape(list(test_x.shape)+[1])"
      ],
      "execution_count": 13,
      "outputs": []
    },
    {
      "cell_type": "code",
      "metadata": {
        "id": "mfVig_oBa63z",
        "colab_type": "code",
        "colab": {}
      },
      "source": [
        "# Model configuration:\n",
        "from keras import initializers\n",
        "batch_size = 16\n",
        "img_width, img_height = 126, 32\n",
        "loss_function = losses.BinaryCrossentropy()\n",
        "no_epochs = 10\n",
        "optimizer = Adam(learning_rate = 0.001)\n",
        "# optimizer = Adam()\n",
        "input_shape = (img_width, img_height, 1)\n",
        "\n",
        "init = initializers.GlorotNormal(seed = 0)\n",
        "\n",
        "# Creating and running the model\n",
        "model = create_model(input_shape, init)  \n",
        "model.compile(loss=loss_function, optimizer=optimizer, metrics=[AUC(), 'accuracy'])\n"
      ],
      "execution_count": 35,
      "outputs": []
    },
    {
      "cell_type": "code",
      "metadata": {
        "id": "xb5RkVQhT-Dd",
        "colab_type": "code",
        "colab": {}
      },
      "source": [
        "vgg = create_vgg()\n",
        "vgg.compile(loss=loss_function, optimizer=optimizer, metrics=[AUC(), 'accuracy'])"
      ],
      "execution_count": null,
      "outputs": []
    },
    {
      "cell_type": "markdown",
      "metadata": {
        "id": "EmISWmSlPXtK",
        "colab_type": "text"
      },
      "source": [
        "**Model Architecture**   \n",
        "   \n",
        "![](https://drive.google.com/uc?export=view&id=1wsJBHbghEPGT0s1QQG6BHl7MS3Yo0o4i)"
      ]
    },
    {
      "cell_type": "code",
      "metadata": {
        "id": "6POnQWHcUL5e",
        "colab_type": "code",
        "colab": {
          "base_uri": "https://localhost:8080/",
          "height": 526
        },
        "outputId": "69cef4d5-7dac-4bac-9562-d9bc1e90981f"
      },
      "source": [
        "vgg.summary()"
      ],
      "execution_count": null,
      "outputs": [
        {
          "output_type": "stream",
          "text": [
            "Model: \"sequential_4\"\n",
            "_________________________________________________________________\n",
            "Layer (type)                 Output Shape              Param #   \n",
            "=================================================================\n",
            "conv2d_11 (Conv2D)           (None, 126, 32, 64)       640       \n",
            "_________________________________________________________________\n",
            "conv2d_12 (Conv2D)           (None, 126, 32, 64)       36928     \n",
            "_________________________________________________________________\n",
            "max_pooling2d_8 (MaxPooling2 (None, 63, 16, 64)        0         \n",
            "_________________________________________________________________\n",
            "max_pooling2d_9 (MaxPooling2 (None, 31, 8, 64)         0         \n",
            "_________________________________________________________________\n",
            "conv2d_13 (Conv2D)           (None, 31, 8, 256)        147712    \n",
            "_________________________________________________________________\n",
            "conv2d_14 (Conv2D)           (None, 31, 8, 512)        1180160   \n",
            "_________________________________________________________________\n",
            "conv2d_15 (Conv2D)           (None, 31, 8, 512)        2359808   \n",
            "_________________________________________________________________\n",
            "max_pooling2d_10 (MaxPooling (None, 15, 4, 512)        0         \n",
            "_________________________________________________________________\n",
            "conv2d_16 (Conv2D)           (None, 15, 4, 512)        2359808   \n",
            "_________________________________________________________________\n",
            "max_pool (MaxPooling2D)      (None, 7, 2, 512)         0         \n",
            "=================================================================\n",
            "Total params: 6,085,056\n",
            "Trainable params: 6,085,056\n",
            "Non-trainable params: 0\n",
            "_________________________________________________________________\n"
          ],
          "name": "stdout"
        }
      ]
    },
    {
      "cell_type": "code",
      "metadata": {
        "id": "9ZVukitT3-cn",
        "colab_type": "code",
        "colab": {
          "base_uri": "https://localhost:8080/",
          "height": 563
        },
        "outputId": "a6ee1887-cf43-4ee6-e6ef-4dffaf33aed8"
      },
      "source": [
        "model.summary()"
      ],
      "execution_count": 36,
      "outputs": [
        {
          "output_type": "stream",
          "text": [
            "Model: \"sequential_6\"\n",
            "_________________________________________________________________\n",
            "Layer (type)                 Output Shape              Param #   \n",
            "=================================================================\n",
            "conv2d_18 (Conv2D)           (None, 126, 32, 64)       640       \n",
            "_________________________________________________________________\n",
            "conv2d_19 (Conv2D)           (None, 126, 32, 64)       36928     \n",
            "_________________________________________________________________\n",
            "max_pooling2d_12 (MaxPooling (None, 63, 16, 64)        0         \n",
            "_________________________________________________________________\n",
            "conv2d_20 (Conv2D)           (None, 61, 14, 32)        18464     \n",
            "_________________________________________________________________\n",
            "max_pooling2d_13 (MaxPooling (None, 30, 7, 32)         0         \n",
            "_________________________________________________________________\n",
            "flatten_6 (Flatten)          (None, 6720)              0         \n",
            "_________________________________________________________________\n",
            "dense_17 (Dense)             (None, 128)               860288    \n",
            "_________________________________________________________________\n",
            "batch_normalization_15 (Batc (None, 128)               512       \n",
            "_________________________________________________________________\n",
            "dropout_9 (Dropout)          (None, 128)               0         \n",
            "_________________________________________________________________\n",
            "dense_18 (Dense)             (None, 32)                4128      \n",
            "_________________________________________________________________\n",
            "dense_19 (Dense)             (None, 1)                 33        \n",
            "=================================================================\n",
            "Total params: 920,993\n",
            "Trainable params: 920,737\n",
            "Non-trainable params: 256\n",
            "_________________________________________________________________\n"
          ],
          "name": "stdout"
        }
      ]
    },
    {
      "cell_type": "code",
      "metadata": {
        "id": "3PXlRHub7ae-",
        "colab_type": "code",
        "colab": {
          "base_uri": "https://localhost:8080/",
          "height": 728
        },
        "outputId": "55260e49-38fd-4b1a-8f71-cf49715fe53c"
      },
      "source": [
        "# Model fit\n",
        "from keras import models\n",
        "from keras.models import Model\n",
        "from keras import layers\n",
        "from keras import optimizers\n",
        "from keras import callbacks\n",
        "# Incorporating reduced learning and early stopping for callback\n",
        "reduce_learning = callbacks.ReduceLROnPlateau(\n",
        "    monitor='val_loss',\n",
        "    factor=0.2,\n",
        "    patience=2,\n",
        "    verbose=1,\n",
        "    mode='auto',\n",
        "    epsilon=0.0001,\n",
        "    cooldown=2,\n",
        "    min_lr=0)\n",
        "\n",
        "eary_stopping = callbacks.EarlyStopping(\n",
        "    monitor='val_loss',\n",
        "    min_delta=0,\n",
        "    patience=7,\n",
        "    verbose=1,\n",
        "    mode='auto')\n",
        "\n",
        "callbacks = [reduce_learning, eary_stopping]\n",
        "\n",
        "history = model.fit(train_x, train_y, batch_size = batch_size, epochs = 30, \n",
        "                    validation_data = (val_x, val_y),callbacks=callbacks)"
      ],
      "execution_count": 37,
      "outputs": [
        {
          "output_type": "stream",
          "text": [
            "WARNING:tensorflow:`epsilon` argument is deprecated and will be removed, use `min_delta` instead.\n",
            "Epoch 1/30\n",
            "411/411 [==============================] - 7s 18ms/step - loss: 0.8567 - auc_5: 0.9315 - accuracy: 0.9013 - val_loss: 2.0865 - val_auc_5: 0.8295 - val_accuracy: 0.4854\n",
            "Epoch 2/30\n",
            "411/411 [==============================] - 7s 17ms/step - loss: 0.3075 - auc_5: 0.9584 - accuracy: 0.9252 - val_loss: 1.6651 - val_auc_5: 0.8779 - val_accuracy: 0.4822\n",
            "Epoch 3/30\n",
            "411/411 [==============================] - 7s 17ms/step - loss: 0.2517 - auc_5: 0.9657 - accuracy: 0.9389 - val_loss: 0.7270 - val_auc_5: 0.9282 - val_accuracy: 0.6828\n",
            "Epoch 4/30\n",
            "411/411 [==============================] - 7s 17ms/step - loss: 0.2393 - auc_5: 0.9660 - accuracy: 0.9364 - val_loss: 0.4147 - val_auc_5: 0.9430 - val_accuracy: 0.8511\n",
            "Epoch 5/30\n",
            "411/411 [==============================] - 7s 17ms/step - loss: 0.2260 - auc_5: 0.9682 - accuracy: 0.9388 - val_loss: 0.3999 - val_auc_5: 0.9352 - val_accuracy: 0.8641\n",
            "Epoch 6/30\n",
            "411/411 [==============================] - 7s 17ms/step - loss: 0.2301 - auc_5: 0.9646 - accuracy: 0.9306 - val_loss: 0.8974 - val_auc_5: 0.9353 - val_accuracy: 0.6214\n",
            "Epoch 7/30\n",
            "409/411 [============================>.] - ETA: 0s - loss: 0.2182 - auc_5: 0.9683 - accuracy: 0.9344\n",
            "Epoch 00007: ReduceLROnPlateau reducing learning rate to 0.00020000000949949026.\n",
            "411/411 [==============================] - 7s 17ms/step - loss: 0.2181 - auc_5: 0.9683 - accuracy: 0.9345 - val_loss: 0.5967 - val_auc_5: 0.9445 - val_accuracy: 0.7573\n",
            "Epoch 8/30\n",
            "411/411 [==============================] - 7s 17ms/step - loss: 0.1598 - auc_5: 0.9843 - accuracy: 0.9546 - val_loss: 0.3329 - val_auc_5: 0.9495 - val_accuracy: 0.8770\n",
            "Epoch 9/30\n",
            "411/411 [==============================] - 7s 17ms/step - loss: 0.1339 - auc_5: 0.9886 - accuracy: 0.9622 - val_loss: 0.3583 - val_auc_5: 0.9511 - val_accuracy: 0.8511\n",
            "Epoch 10/30\n",
            "409/411 [============================>.] - ETA: 0s - loss: 0.1248 - auc_5: 0.9911 - accuracy: 0.9678\n",
            "Epoch 00010: ReduceLROnPlateau reducing learning rate to 4.0000001899898055e-05.\n",
            "411/411 [==============================] - 7s 17ms/step - loss: 0.1246 - auc_5: 0.9912 - accuracy: 0.9679 - val_loss: 0.3494 - val_auc_5: 0.9487 - val_accuracy: 0.8770\n",
            "Epoch 11/30\n",
            "411/411 [==============================] - 7s 17ms/step - loss: 0.1020 - auc_5: 0.9955 - accuracy: 0.9782 - val_loss: 0.3389 - val_auc_5: 0.9492 - val_accuracy: 0.8803\n",
            "Epoch 12/30\n",
            "411/411 [==============================] - 7s 17ms/step - loss: 0.0970 - auc_5: 0.9959 - accuracy: 0.9801 - val_loss: 0.3730 - val_auc_5: 0.9484 - val_accuracy: 0.8803\n",
            "Epoch 13/30\n",
            "411/411 [==============================] - ETA: 0s - loss: 0.0883 - auc_5: 0.9973 - accuracy: 0.9839\n",
            "Epoch 00013: ReduceLROnPlateau reducing learning rate to 8.000000525498762e-06.\n",
            "411/411 [==============================] - 7s 17ms/step - loss: 0.0883 - auc_5: 0.9973 - accuracy: 0.9839 - val_loss: 0.3685 - val_auc_5: 0.9467 - val_accuracy: 0.8900\n",
            "Epoch 14/30\n",
            "411/411 [==============================] - 7s 17ms/step - loss: 0.0865 - auc_5: 0.9970 - accuracy: 0.9840 - val_loss: 0.3697 - val_auc_5: 0.9478 - val_accuracy: 0.8867\n",
            "Epoch 15/30\n",
            "411/411 [==============================] - 7s 17ms/step - loss: 0.0797 - auc_5: 0.9980 - accuracy: 0.9871 - val_loss: 0.3511 - val_auc_5: 0.9473 - val_accuracy: 0.8997\n",
            "Epoch 00015: early stopping\n"
          ],
          "name": "stdout"
        }
      ]
    },
    {
      "cell_type": "code",
      "metadata": {
        "id": "iP68B108UpqS",
        "colab_type": "code",
        "colab": {}
      },
      "source": [
        "def create_new_model(model, class_name):\n",
        "      last_layer = model.get_layer(class_name).output\n",
        "      x = Flatten(name='flatten')(last_layer)\n",
        "      out = Dense(1, activation='softmax', name='classifier')(x)\n",
        "      return Model(model.input, out)"
      ],
      "execution_count": null,
      "outputs": []
    },
    {
      "cell_type": "code",
      "metadata": {
        "id": "9yyA2NeyUUGu",
        "colab_type": "code",
        "colab": {
          "base_uri": "https://localhost:8080/",
          "height": 419
        },
        "outputId": "5877355a-03fa-465e-f097-262eee2cc956"
      },
      "source": [
        "vgg_model = create_new_model(vgg,'max_pool')\n",
        "vgg_model.compile(loss=loss_function, optimizer=optimizer, metrics=[AUC(),\"accuracy\"])\n",
        "hist = vgg_model.fit(train_x, train_y, batch_size = batch_size, epochs = 30, \n",
        "                    validation_data = (val_x, val_y),callbacks=callbacks)"
      ],
      "execution_count": null,
      "outputs": [
        {
          "output_type": "stream",
          "text": [
            "Epoch 1/30\n",
            "411/411 [==============================] - 10s 23ms/step - loss: 12.9972 - auc_5: 0.5000 - accuracy: 0.1477 - val_loss: 7.8467 - val_auc_5: 0.5000 - val_accuracy: 0.4854\n",
            "Epoch 2/30\n",
            "411/411 [==============================] - 9s 22ms/step - loss: 12.9972 - auc_5: 0.5000 - accuracy: 0.1477 - val_loss: 7.8467 - val_auc_5: 0.5000 - val_accuracy: 0.4854\n",
            "Epoch 3/30\n",
            "409/411 [============================>.] - ETA: 0s - loss: 13.0005 - auc_5: 0.5000 - accuracy: 0.1475\n",
            "Epoch 00003: ReduceLROnPlateau reducing learning rate to 1.6000001778593287e-06.\n",
            "411/411 [==============================] - 9s 22ms/step - loss: 12.9972 - auc_5: 0.5000 - accuracy: 0.1477 - val_loss: 7.8467 - val_auc_5: 0.5000 - val_accuracy: 0.4854\n",
            "Epoch 4/30\n",
            "411/411 [==============================] - 9s 22ms/step - loss: 12.9972 - auc_5: 0.5000 - accuracy: 0.1477 - val_loss: 7.8467 - val_auc_5: 0.5000 - val_accuracy: 0.4854\n",
            "Epoch 5/30\n",
            "411/411 [==============================] - 9s 22ms/step - loss: 12.9972 - auc_5: 0.5000 - accuracy: 0.1477 - val_loss: 7.8467 - val_auc_5: 0.5000 - val_accuracy: 0.4854\n",
            "Epoch 6/30\n",
            "409/411 [============================>.] - ETA: 0s - loss: 12.9959 - auc_5: 0.5000 - accuracy: 0.1478\n",
            "Epoch 00006: ReduceLROnPlateau reducing learning rate to 3.200000264769187e-07.\n",
            "411/411 [==============================] - 9s 22ms/step - loss: 12.9972 - auc_5: 0.5000 - accuracy: 0.1477 - val_loss: 7.8467 - val_auc_5: 0.5000 - val_accuracy: 0.4854\n",
            "Epoch 7/30\n",
            "411/411 [==============================] - 9s 22ms/step - loss: 12.9972 - auc_5: 0.5000 - accuracy: 0.1477 - val_loss: 7.8467 - val_auc_5: 0.5000 - val_accuracy: 0.4854\n",
            "Epoch 8/30\n",
            "411/411 [==============================] - 9s 22ms/step - loss: 12.9972 - auc_5: 0.5000 - accuracy: 0.1477 - val_loss: 7.8467 - val_auc_5: 0.5000 - val_accuracy: 0.4854\n",
            "Epoch 00008: early stopping\n"
          ],
          "name": "stdout"
        }
      ]
    },
    {
      "cell_type": "markdown",
      "metadata": {
        "id": "r3Rx56zVdb3T",
        "colab_type": "text"
      },
      "source": [
        "#### **Results**\n",
        "Submissions are evaluated on the area under the Receiver Operating Characteristic Curve ([ROC AUC](https://en.wikipedia.org/wiki/Receiver_operating_characteristic))   \n",
        "on the predicted probabilities, as calculated by [roc_auc_score in scikit-learn (v 0.23.1)](https://scikit-learn.org/stable/modules/generated/sklearn.metrics.roc_auc_score.html).\n"
      ]
    },
    {
      "cell_type": "code",
      "metadata": {
        "id": "1RCwJ8CWoLyJ",
        "colab_type": "code",
        "colab": {
          "base_uri": "https://localhost:8080/",
          "height": 441
        },
        "outputId": "99640953-ddae-463f-de33-a25f254ceda5"
      },
      "source": [
        "# Plot ROC curve and show ROC-AUC results of the training and validation sets. \n",
        "pred = [model.predict(train_x), model.predict(val_x)]\n",
        "actual = [train_y, val_y]\n",
        "stats(pred, actual)"
      ],
      "execution_count": null,
      "outputs": [
        {
          "output_type": "display_data",
          "data": {
            "image/png": "[encoded data removed]",
            "text/plain": [
              "<Figure size 1440x720 with 1 Axes>"
            ]
          },
          "metadata": {
            "tags": [],
            "needs_background": "light"
          }
        }
      ]
    },
    {
      "cell_type": "code",
      "metadata": {
        "id": "E0OQjSN0Uph6",
        "colab_type": "code",
        "colab": {
          "base_uri": "https://localhost:8080/",
          "height": 441
        },
        "outputId": "51f10385-1c2c-426a-ea4a-73c64e9acc86"
      },
      "source": [
        "# Plot ROC curve and show ROC-AUC results of the training and validation sets. \n",
        "pred = [model.predict(train_x), model.predict(val_x)]\n",
        "actual = [train_y, val_y]\n",
        "stats(pred, actual)"
      ],
      "execution_count": 38,
      "outputs": [
        {
          "output_type": "display_data",
          "data": {
            "image/png": "[encoded data removed]",
            "text/plain": [
              "<Figure size 1440x720 with 1 Axes>"
            ]
          },
          "metadata": {
            "tags": [],
            "needs_background": "light"
          }
        }
      ]
    },
    {
      "cell_type": "code",
      "metadata": {
        "id": "hvXDI1AYYKiV",
        "colab_type": "code",
        "colab": {
          "base_uri": "https://localhost:8080/",
          "height": 165
        },
        "outputId": "78c565e0-6cef-472f-c6c4-a0c2bd71fb45"
      },
      "source": [
        "model.save('/content/gdrive/My Drive/MAFAT/95_val.h')"
      ],
      "execution_count": 41,
      "outputs": [
        {
          "output_type": "stream",
          "text": [
            "WARNING:tensorflow:From /usr/local/lib/python3.6/dist-packages/tensorflow/python/training/tracking/tracking.py:111: Model.state_updates (from tensorflow.python.keras.engine.training) is deprecated and will be removed in a future version.\n",
            "Instructions for updating:\n",
            "This property should not be used in TensorFlow 2.0, as updates are applied automatically.\n",
            "WARNING:tensorflow:From /usr/local/lib/python3.6/dist-packages/tensorflow/python/training/tracking/tracking.py:111: Layer.updates (from tensorflow.python.keras.engine.base_layer) is deprecated and will be removed in a future version.\n",
            "Instructions for updating:\n",
            "This property should not be used in TensorFlow 2.0, as updates are applied automatically.\n",
            "INFO:tensorflow:Assets written to: /content/gdrive/My Drive/MAFAT/95_val.h/assets\n"
          ],
          "name": "stdout"
        }
      ]
    },
    {
      "cell_type": "markdown",
      "metadata": {
        "id": "wrLzeJJroRtn",
        "colab_type": "text"
      },
      "source": [
        "## **Final Submission File**"
      ]
    },
    {
      "cell_type": "markdown",
      "metadata": {
        "id": "Wn6lmtdlE-hU",
        "colab_type": "text"
      },
      "source": [
        "Create a CSV submission file , zip and download it."
      ]
    },
    {
      "cell_type": "code",
      "metadata": {
        "id": "_xnZkjgU6eRH",
        "colab_type": "code",
        "colab": {}
      },
      "source": [
        "# Creating DataFrame with the probability prediction for each segment\n",
        "submission =  pd.DataFrame()\n",
        "submission['segment_id'] = test_df['segment_id']\n",
        "submission['prediction'] = model.predict(test_x)\n",
        "submission['prediction'] = submission['prediction'].astype('float')\n",
        "\n",
        "# Save submission\n",
        "submission.to_csv('95_val.csv', index=False)"
      ],
      "execution_count": 39,
      "outputs": []
    },
    {
      "cell_type": "code",
      "metadata": {
        "id": "jheQSZzg_Lkk",
        "colab_type": "code",
        "colab": {
          "base_uri": "https://localhost:8080/",
          "height": 17
        },
        "outputId": "0e7d3233-cbea-4366-9294-2b0b8c6cdb95"
      },
      "source": [
        "# Download zip file\n",
        "from zipfile import ZipFile\n",
        "from google.colab import files\n",
        "\n",
        "with ZipFile('95_val.zip', 'w') as myzip:\n",
        "  myzip.write('95_val.csv')\n",
        "\n",
        "files.download('95_val.zip')\n"
      ],
      "execution_count": 40,
      "outputs": [
        {
          "output_type": "display_data",
          "data": {
            "application/javascript": [
              "\n",
              "    async function download(id, filename, size) {\n",
              "      if (!google.colab.kernel.accessAllowed) {\n",
              "        return;\n",
              "      }\n",
              "      const div = document.createElement('div');\n",
              "      const label = document.createElement('label');\n",
              "      label.textContent = `Downloading \"${filename}\": `;\n",
              "      div.appendChild(label);\n",
              "      const progress = document.createElement('progress');\n",
              "      progress.max = size;\n",
              "      div.appendChild(progress);\n",
              "      document.body.appendChild(div);\n",
              "\n",
              "      const buffers = [];\n",
              "      let downloaded = 0;\n",
              "\n",
              "      const channel = await google.colab.kernel.comms.open(id);\n",
              "      // Send a message to notify the kernel that we're ready.\n",
              "      channel.send({})\n",
              "\n",
              "      for await (const message of channel.messages) {\n",
              "        // Send a message to notify the kernel that we're ready.\n",
              "        channel.send({})\n",
              "        if (message.buffers) {\n",
              "          for (const buffer of message.buffers) {\n",
              "            buffers.push(buffer);\n",
              "            downloaded += buffer.byteLength;\n",
              "            progress.value = downloaded;\n",
              "          }\n",
              "        }\n",
              "      }\n",
              "      const blob = new Blob(buffers, {type: 'application/binary'});\n",
              "      const a = document.createElement('a');\n",
              "      a.href = window.URL.createObjectURL(blob);\n",
              "      a.download = filename;\n",
              "      div.appendChild(a);\n",
              "      a.click();\n",
              "      div.remove();\n",
              "    }\n",
              "  "
            ],
            "text/plain": [
              "<IPython.core.display.Javascript object>"
            ]
          },
          "metadata": {
            "tags": []
          }
        },
        {
          "output_type": "display_data",
          "data": {
            "application/javascript": [
              "download(\"download_1000369f-9c91-4e7c-bab8-e914c9c677c0\", \"95_val.zip\", 2793)"
            ],
            "text/plain": [
              "<IPython.core.display.Javascript object>"
            ]
          },
          "metadata": {
            "tags": []
          }
        }
      ]
    }
  ]
}