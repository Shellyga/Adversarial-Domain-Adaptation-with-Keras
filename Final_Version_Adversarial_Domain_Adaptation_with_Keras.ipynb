{
  "nbformat": 4,
  "nbformat_minor": 0,
  "metadata": {
    "colab": {
      "name": "Final Version Adversarial-Domain-Adaptation-with-Keras.ipynb",
      "provenance": [],
      "collapsed_sections": [],
      "toc_visible": true,
      "machine_shape": "hm",
      "include_colab_link": true
    },
    "kernelspec": {
      "name": "python3",
      "display_name": "Python 3"
    },
    "accelerator": "GPU"
  },
  "cells": [
    {
      "cell_type": "markdown",
      "metadata": {
        "id": "view-in-github",
        "colab_type": "text"
      },
      "source": [
        "<a href=\"https://colab.research.google.com/github/Shellyga/Adversarial-Domain-Adaptation-with-Keras/blob/master/Final_Version_Adversarial_Domain_Adaptation_with_Keras.ipynb\" target=\"_parent\"><img src=\"https://colab.research.google.com/assets/colab-badge.svg\" alt=\"Open In Colab\"/></a>"
      ]
    },
    {
      "cell_type": "markdown",
      "metadata": {
        "id": "iqYXgaotqk_g",
        "colab_type": "text"
      },
      "source": [
        "# Model"
      ]
    },
    {
      "cell_type": "code",
      "metadata": {
        "id": "57CQpjm7OklS",
        "colab_type": "code",
        "colab": {
          "base_uri": "https://localhost:8080/",
          "height": 237
        },
        "outputId": "f53cc63b-63c9-4a64-974d-aea06a2f49d7"
      },
      "source": [
        "pip install keras_vggface"
      ],
      "execution_count": 2,
      "outputs": [
        {
          "output_type": "stream",
          "text": [
            "Collecting keras_vggface\n",
            "  Downloading https://files.pythonhosted.org/packages/2f/7d/5f0319ebdc09ac1a2272364fa9583f5067b6f8aff93fbbf8835d81cbaad7/keras_vggface-0.6-py3-none-any.whl\n",
            "Requirement already satisfied: keras in /usr/local/lib/python3.6/dist-packages (from keras_vggface) (2.4.3)\n",
            "Requirement already satisfied: h5py in /usr/local/lib/python3.6/dist-packages (from keras_vggface) (2.10.0)\n",
            "Requirement already satisfied: six>=1.9.0 in /usr/local/lib/python3.6/dist-packages (from keras_vggface) (1.15.0)\n",
            "Requirement already satisfied: pyyaml in /usr/local/lib/python3.6/dist-packages (from keras_vggface) (3.13)\n",
            "Requirement already satisfied: numpy>=1.9.1 in /usr/local/lib/python3.6/dist-packages (from keras_vggface) (1.18.5)\n",
            "Requirement already satisfied: scipy>=0.14 in /usr/local/lib/python3.6/dist-packages (from keras_vggface) (1.4.1)\n",
            "Requirement already satisfied: pillow in /usr/local/lib/python3.6/dist-packages (from keras_vggface) (7.0.0)\n",
            "Installing collected packages: keras-vggface\n",
            "Successfully installed keras-vggface-0.6\n"
          ],
          "name": "stdout"
        }
      ]
    },
    {
      "cell_type": "code",
      "metadata": {
        "id": "F3FWjG2OpLjq",
        "colab_type": "code",
        "colab": {
          "base_uri": "https://localhost:8080/",
          "height": 183
        },
        "outputId": "bc25342e-2c40-4c51-d6ba-fbbf7f829331"
      },
      "source": [
        "pip install keras_applications"
      ],
      "execution_count": 3,
      "outputs": [
        {
          "output_type": "stream",
          "text": [
            "Collecting keras_applications\n",
            "\u001b[?25l  Downloading https://files.pythonhosted.org/packages/71/e3/19762fdfc62877ae9102edf6342d71b28fbfd9dea3d2f96a882ce099b03f/Keras_Applications-1.0.8-py3-none-any.whl (50kB)\n",
            "\r\u001b[K     |██████▌                         | 10kB 21.9MB/s eta 0:00:01\r\u001b[K     |█████████████                   | 20kB 2.9MB/s eta 0:00:01\r\u001b[K     |███████████████████▍            | 30kB 3.9MB/s eta 0:00:01\r\u001b[K     |█████████████████████████▉      | 40kB 4.2MB/s eta 0:00:01\r\u001b[K     |████████████████████████████████| 51kB 2.4MB/s \n",
            "\u001b[?25hRequirement already satisfied: h5py in /usr/local/lib/python3.6/dist-packages (from keras_applications) (2.10.0)\n",
            "Requirement already satisfied: numpy>=1.9.1 in /usr/local/lib/python3.6/dist-packages (from keras_applications) (1.18.5)\n",
            "Requirement already satisfied: six in /usr/local/lib/python3.6/dist-packages (from h5py->keras_applications) (1.15.0)\n",
            "Installing collected packages: keras-applications\n",
            "Successfully installed keras-applications-1.0.8\n"
          ],
          "name": "stdout"
        }
      ]
    },
    {
      "cell_type": "code",
      "metadata": {
        "id": "Bxcy4fLWqpgf",
        "colab_type": "code",
        "colab": {}
      },
      "source": [
        "import random\n",
        "import numpy as np\n",
        "from keras.models import Model,clone_model\n",
        "from keras.applications.resnet50 import ResNet50\n",
        "from keras.layers import Input, Conv2D, MaxPool2D, Flatten, Dense,Reshape\n",
        "from keras.layers import BatchNormalization, Activation, Dropout\n",
        "from keras_vggface.vggface import VGGFace\n",
        "from keras.models import load_model\n",
        "\n",
        "def build_embedding(param):\n",
        "    inp = Input(shape= param[\"inp_dims\"])\n",
        "    network = eval('VGGFace')\n",
        "    base = network(weights = 'vggface', include_top = False)\n",
        "    # base = network(weights = 'imagenet', include_top = False)\n",
        "    feat = base(inp)\n",
        "    return Model(inp,feat)\n",
        "    # print(feat.shape)\n",
        "    # flat = Flatten()(feat)\n",
        "    # return flat\n",
        "\n",
        "# def build_embedding(param,inp):\n",
        "#     model = VGGFace(model='resnet50', include_top=False, input_shape=(224, 224, 3), weights='vggface', pooling='avg')\n",
        "#     feat = model.get_layer('avg_pool').output\n",
        "#     # return feat\n",
        "#     # print(feat.shape)\n",
        "#     flat = Flatten()(feat)\n",
        "#     # flat = Reshape((-1,))(feat)\n",
        "#     # flat = Flatten()(embedding)\n",
        "#     # print(flat.shape)\n",
        "#     return flat\n",
        "\n",
        "def build_classifier(param, embedding):\n",
        "    # embedding = Input(embedding.shape)\n",
        "    # embedding = Input( (None, 100352) )\n",
        "    # embedding = Input( embedding.output)\n",
        "    # embedding = Reshape((-1,))(embedding)\n",
        "    flat = Flatten()(embedding.output)\n",
        "    dense1 = Dense(400, name = 'class_dense1')(flat)\n",
        "    bn1 = BatchNormalization(name = 'class_bn1')(dense1)\n",
        "    act1 = Activation('relu', name = 'class_act1')(bn1)\n",
        "    drop2 = Dropout(param[\"drop_classifier\"], name = 'class_drop1')(act1)\n",
        "\n",
        "    dense2 = Dense(100, name = 'class_dense2')(drop2)\n",
        "    bn2 = BatchNormalization(name = 'class_bn2')(dense2)\n",
        "    act2 = Activation('relu', name = 'class_act2')(bn2)\n",
        "    drop2 = Dropout(param[\"drop_classifier\"], name = 'class_drop2')(act2)\n",
        "    densel = Dense(param[\"number_of_classe\"], name = 'class_dense_last')(drop2)\n",
        "    # densel = Dense(param[\"number_of_classe\"], name = 'class_dense_last')(flat)\n",
        "                                                                         \n",
        "    bnl = BatchNormalization(name = 'class_bn_last')(densel)\n",
        "    actl = Activation('softmax', name = 'class_act_last')(bnl)\n",
        "    return Model(inputs=(embedding.input), outputs=(actl))\n",
        "\n",
        "def build_discriminator(param, embedding_shape):\n",
        "    # embedding = Input(embedding.shape)\n",
        "    # embedding = Input( (None, 100352) )\n",
        "    embedding = Input( embedding_shape )\n",
        "    # embedding = Reshape((-1,))(embedding)\n",
        "    flat = Flatten()(embedding)\n",
        "    # dense1 = Dense(400, name = 'dis_dense1')(flat)\n",
        "    # bn1 = BatchNormalization(name='dis_bn1')(dense1)\n",
        "    # act1 = Activation('relu', name = 'dis_act1')(bn1)\n",
        "    # drop1 = Dropout(param[\"drop_discriminator\"], name = 'dis_drop1')(act1)\n",
        "\n",
        "    # dense2 = Dense(100, name = 'dis_dense2')(drop1)\n",
        "    # bn2 = BatchNormalization(name='dis_bn2')(dense2)\n",
        "    # act2 = Activation('relu', name = 'dis_act2')(bn2)\n",
        "    # drop2 = Dropout(param[\"drop_discriminator\"], name = 'dis_drop2')(act2)\n",
        "\n",
        "    # densel = Dense(1, name = 'dis_dense_last')(drop2)\n",
        "    densel = Dense(1, name = 'dis_dense_last')(flat)\n",
        "\n",
        "    bnl = BatchNormalization(name = 'dis_bn_last')(densel)\n",
        "    actl = Activation('sigmoid', name = 'dis_act_last')(bnl)\n",
        "    return Model(embedding, actl)\n",
        "\n",
        "# def build_combined_classifier(inp, classifier):\n",
        "#     comb_model = Model(inputs = inp, outputs = [classifier])\n",
        "#     return comb_model\n",
        "\n",
        "# def build_combined_discriminator(inp, discriminator):\n",
        "#     comb_model = Model(inputs = inp, outputs = [discriminator])\n",
        "#     return comb_model\n",
        "\n",
        "# def build_combined_model(inp, comb):\n",
        "#     comb_model = Model(inputs = inp, outputs = comb)\n",
        "#     return comb_model"
      ],
      "execution_count": 4,
      "outputs": []
    },
    {
      "cell_type": "markdown",
      "metadata": {
        "id": "1DrTIu1SqtIe",
        "colab_type": "text"
      },
      "source": [
        "# Optimizer"
      ]
    },
    {
      "cell_type": "code",
      "metadata": {
        "id": "ve8K7kUmqu5W",
        "colab_type": "code",
        "colab": {}
      },
      "source": [
        "import numpy as np\n",
        "from keras.optimizers import Adam\n",
        "\n",
        "def opt_classifier(param):\n",
        "    return Adam(lr=param[\"lr_classifier\"], beta_1=param[\"b1_classifier\"], beta_2=param[\"b2_classifier\"])\n",
        "\n",
        "def opt_discriminator(param):\n",
        "    return Adam(lr=param[\"lr_discriminator\"], beta_1=param[\"b1_discriminator\"], beta_2=param[\"b2_discriminator\"])\n",
        "\n",
        "def opt_combined(param):\n",
        "    return Adam(lr=param[\"lr_combined\"], beta_1=param[\"b1_combined\"], beta_2=param[\"b2_combined\"])\n"
      ],
      "execution_count": 4,
      "outputs": []
    },
    {
      "cell_type": "markdown",
      "metadata": {
        "id": "YHRxvLjYqwvG",
        "colab_type": "text"
      },
      "source": [
        "# Data"
      ]
    },
    {
      "cell_type": "code",
      "metadata": {
        "id": "cxlgU5w6qyJO",
        "colab_type": "code",
        "colab": {
          "base_uri": "https://localhost:8080/",
          "height": 128
        },
        "outputId": "6f7f3385-a41b-4cac-8e4e-ed06a7ec83c0"
      },
      "source": [
        "from google.colab import drive\n",
        "drive.mount('/content/drive')"
      ],
      "execution_count": 5,
      "outputs": [
        {
          "output_type": "stream",
          "text": [
            "Go to this URL in a browser: https://accounts.google.com/o/oauth2/auth?client_id=947318989803-6bn6qk8qdgf4n4g3pfee6491hc0brc4i.apps.googleusercontent.com&redirect_uri=urn%3aietf%3awg%3aoauth%3a2.0%3aoob&scope=email%20https%3a%2f%2fwww.googleapis.com%2fauth%2fdocs.test%20https%3a%2f%2fwww.googleapis.com%2fauth%2fdrive%20https%3a%2f%2fwww.googleapis.com%2fauth%2fdrive.photos.readonly%20https%3a%2f%2fwww.googleapis.com%2fauth%2fpeopleapi.readonly&response_type=code\n",
            "\n",
            "Enter your authorization code:\n",
            "··········\n",
            "Mounted at /content/drive\n"
          ],
          "name": "stdout"
        }
      ]
    },
    {
      "cell_type": "code",
      "metadata": {
        "id": "JwuSxj4hW9vo",
        "colab_type": "code",
        "colab": {}
      },
      "source": [
        "SEED = 7\n",
        "import os\n",
        "import sys\n",
        "import argparse\n",
        "import random\n",
        "import numpy as np\n",
        "# import tensorflow.python.keras as tf\n",
        "# from tensorflow.compat.v1 import set_random_seed\n",
        "# import tensorflow.python.keras as tf\n",
        "from sklearn.model_selection import train_test_split\n",
        "from sklearn import metrics\n",
        "from plotnine import *\n",
        "import pandas as pd\n",
        "                \n",
        "from sklearn.model_selection import train_test_split\n",
        "import matplotlib.pyplot as plt\n",
        "from math import ceil\n",
        "from sklearn.utils import shuffle as skshuffle\n",
        "\n",
        "from imutils import paths\n",
        "from sklearn.preprocessing import LabelEncoder\n",
        "\n",
        "# os.environ['PYTHONHASHSEED']=str(SEED)\n",
        "# np.random.seed(SEED)\n",
        "# set_random_seed(SEED)\n",
        "# random.seed(SEED)\n",
        "\n",
        "from PIL import Image\n",
        "from keras.utils import to_categorical\n",
        "from keras.layers import Input\n",
        "from keras.optimizers import Adam\n",
        "from keras.utils import multi_gpu_model\n",
        "from sklearn.metrics import accuracy_score\n",
        "import pickle\n",
        "\n",
        "from keras.preprocessing import image\n",
        "def pil_loader(path):\n",
        "    # print(path)\n",
        "    # Return the RGB variant of input image\n",
        "    with open(path, 'rb') as f:\n",
        "      with Image.open(f) as img:\n",
        "        return img.convert('RGB')\n",
        "\n",
        "def one_hot_encoding(param):\n",
        "    lb = LabelEncoder()\n",
        "    source_labels  = lb.fit_transform( param[\"source_label\"])\n",
        "    # source_labels,target_labels  = lb.fit_transform( param[\"source_label\"]),lb.fit_transform( param[\"target_label\"])\n",
        "    param[\"number_of_classe\"] = len(lb.classes_)\n",
        "    print(param[\"number_of_classe\"])\n",
        "    # source_labels,target_labels = to_categorical(source_labels),to_categorical(target_labels)\n",
        "    source_labels = to_categorical(source_labels)\n",
        "\n",
        "    f = open('/content/drive/My Drive/pro_data/pro_book_res/_labels',\"wb\")\n",
        "    f.write(pickle.dumps(lb))\n",
        "    f.close()\n",
        "    # return source_labels,target_labels\n",
        "    return source_labels\n",
        "\n",
        "            \n",
        "def data_loader(filepath, inp_dims):\n",
        "\n",
        "    img = []\n",
        "    label = []\n",
        "    detector = dlib.get_frontal_face_detector()\n",
        "    predictor = \"drive/My Drive/pro_data/shape_predictor_5_face_landmarks.dat\"\n",
        "    imagePaths = sorted(list(paths.list_images(filepath)))\n",
        "    # print(imagePaths)\n",
        "    # loop over the input images\n",
        "    for imagePath in imagePaths:\n",
        "        # extract the class label from the image path and update the\n",
        "        # labels list\n",
        "        l = imagePath.split(os.path.sep)[-2]\n",
        "        label.append(l)\n",
        "        # i = pil_loader(imagePath)\n",
        "        i = image.load_img(imagePath)\n",
        "        # keras.preprocessing.image.img_to_array(image)\n",
        "        i = i.resize((inp_dims[0], inp_dims[1]), Image.ANTIALIAS)\n",
        "        frame_1 = align_and_crop(detector, np.array(i), predictor)[0]\n",
        "        frame_1 = cv2.resize(frame_1,(inp_dims[0], inp_dims[1]))\n",
        "        img.append(frame_1)\n",
        "    img = np.array(img)\n",
        "    label = np.array(label)\n",
        "    return img, label\n",
        "    \n",
        "\n",
        "def batch_generator(data, batch_size):\n",
        "    #Generate batches of data.\n",
        "    all_examples_indices = len(data[0])\n",
        "    while True:\n",
        "        mini_batch_indices = np.random.choice(all_examples_indices, size = batch_size, replace = False)\n",
        "        tbr = [k[mini_batch_indices] for k in data]\n",
        "        yield tbr\n"
      ],
      "execution_count": 5,
      "outputs": []
    },
    {
      "cell_type": "code",
      "metadata": {
        "id": "PWhShjI8H1bH",
        "colab_type": "code",
        "colab": {}
      },
      "source": [
        "import matplotlib.pyplot as plt\n",
        "def _plot_confusion_matrix(cm, classes,\n",
        "                          normalize=False,\n",
        "                          title='Confusion matrix',\n",
        "                          cmap=plt.cm.Greens):\n",
        "    from sklearn.metrics import accuracy_score\n",
        "    from sklearn.metrics import precision_score, recall_score, roc_auc_score, accuracy_score, roc_curve, auc, confusion_matrix\n",
        "    import itertools\n",
        "    \n",
        "\n",
        "    \"\"\"\n",
        "    This function prints and plots the confusion matrix.\n",
        "    Normalization can be applied by setting `normalize=True`.\n",
        "    \"\"\"\n",
        "    if normalize:\n",
        "        cm = cm.astype('float') / cm.sum(axis=1)[:, np.newaxis]\n",
        "\n",
        "    plt.imshow(cm, interpolation='nearest', cmap=cmap)\n",
        "    plt.title(title, fontsize = 14)\n",
        "    plt.colorbar()\n",
        "    tick_marks = np.arange(len(classes))\n",
        "    plt.xticks(tick_marks, classes)\n",
        "    plt.yticks(tick_marks, classes)\n",
        "\n",
        "    fmt = '.2f' if normalize else 'd'\n",
        "    thresh = cm.max() / 2.\n",
        "    for i, j in itertools.product(range(cm.shape[0]), range(cm.shape[1])):\n",
        "        plt.text(j, i, format(cm[i, j], fmt),\n",
        "                 horizontalalignment=\"center\",\n",
        "                 color=\"black\")\n",
        "\n",
        "    plt.ylabel('True Class', fontsize = 14)\n",
        "    plt.xlabel('Predicted Class', fontsize = 14)\n",
        "\n",
        "    plt.tick_params(axis='both', which='major', labelsize=14)\n",
        "    plt.tight_layout()"
      ],
      "execution_count": 7,
      "outputs": []
    },
    {
      "cell_type": "markdown",
      "metadata": {
        "id": "XqiFjCePj2a1",
        "colab_type": "text"
      },
      "source": [
        "# Crop"
      ]
    },
    {
      "cell_type": "code",
      "metadata": {
        "id": "oSCoB73kj6ux",
        "colab_type": "code",
        "colab": {}
      },
      "source": [
        "import dlib\n",
        "\n",
        "import os\n",
        "import sys\n",
        "import cv2\n",
        "import glob\n",
        "\n",
        "\n",
        "def align_and_crop(detector, im_to_align, predictor_path):\n",
        "    '''\n",
        "    simply aligns the photo (using the detector to identify the eyes) and crops the face.\n",
        "    :param im_to_align: an address of an image\n",
        "    '''\n",
        "\n",
        "    # a shape predictor to find face landmarks so we can precisely localize\n",
        "    # the face\n",
        "    sp = dlib.shape_predictor(predictor_path)\n",
        "\n",
        "    # Ask the detector to find the bounding boxes of each face. The 1 in the\n",
        "    # second argument indicates that we should upsample the image 1 time.\n",
        "    try:\n",
        "        dets = detector(im_to_align, 1)\n",
        "    except RuntimeError:\n",
        "        return -1\n",
        "\n",
        "    num_faces = len(dets)\n",
        "    if num_faces == 0:\n",
        "        return im_to_align, False\n",
        "\n",
        "    # Find the 5 face landmarks we need to do the alignment.\n",
        "    faces = dlib.full_object_detections()\n",
        "    for detection in dets:\n",
        "        faces.append(sp(im_to_align, detection))\n",
        "\n",
        "    # get a single chip (aligned and cropped)\n",
        "    image = dlib.get_face_chip(im_to_align, faces[0])\n",
        "    # cv2.imshow(\"f\", image) show image for testing\n",
        "    return image, True"
      ],
      "execution_count": 8,
      "outputs": []
    },
    {
      "cell_type": "markdown",
      "metadata": {
        "id": "QCAxthiKjwnr",
        "colab_type": "text"
      },
      "source": [
        "# Augment"
      ]
    },
    {
      "cell_type": "code",
      "metadata": {
        "id": "xD18oqysj0hG",
        "colab_type": "code",
        "colab": {}
      },
      "source": [
        "from imgaug import augmenters as iaa\n",
        "from imgaug import seed\n",
        "def aug_training_set_loader(images,labels,inp_dims):\n",
        "    NUM_COPIES = ceil(1000/len(images))\n",
        "    images = np.array(images)\n",
        "    images=augment(inp_dims[0], inp_dims[1], images, NUM_COPIES)\n",
        "    aug_labels =[]\n",
        "    for x in labels:\n",
        "        for i in range(NUM_COPIES+1):  # NUM_COPIES+1-> numbers of augmentations + 1 original\n",
        "            aug_labels.append(x)\n",
        "    images, labels = skshuffle(images, aug_labels)\n",
        "    images = np.array(images)\n",
        "    # images = np.array(images, dtype=\"float\") / 255.0\n",
        "    labels = np.array(labels)\n",
        "    return images, labels\n",
        "\n",
        "def augment(width, height, data, NUM_COPIES):\n",
        "    \"\"\"\n",
        "    preform augmentetion on the list of photos named 'data'\n",
        "    :param width: width of a single photo\n",
        "    :param height: height of a single photo\n",
        "    :param data: a list of photos to augment\n",
        "    :param NUM_COPIES: number of copies produced from the image\n",
        "    :return: a list of photos that consists from the original photos and their augmentations\n",
        "    \"\"\"\n",
        "    augmented_data = []\n",
        "    sometimes = lambda aug: iaa.Sometimes(0.5, aug)\n",
        "    seq = iaa.Sequential([\n",
        "        sometimes(iaa.Sharpen(alpha=(0.0, 1.0), lightness=(0.75, 2.0))),\n",
        "        sometimes(iaa.Fliplr()),  # horizontal flips\n",
        "        sometimes(iaa.AddElementwise((-50, 50))),\n",
        "        sometimes(iaa.Sometimes(0.5, iaa.GaussianBlur(sigma=(0.0, 2.0)))),\n",
        "        sometimes(iaa.ContrastNormalization((0.8, 1.2))),\n",
        "        sometimes(iaa.Multiply((0.8, 1.2), per_channel=0.2)),\n",
        "        sometimes(iaa.Affine(\n",
        "            scale={\"x\": (0.8, 1.2), \"y\": (0.8, 1.2)},\n",
        "            translate_percent={\"x\": (-0.2, 0.2), \"y\": (-0.2, 0.2)},\n",
        "            shear=(-8, 8)\n",
        "        )),\n",
        "        sometimes(iaa.Superpixels(p_replace=0.1, n_segments=150))\n",
        "    ], random_order=True)  # apply augmenters in random order\n",
        "    for img in data:\n",
        "        copies = augment_image(width, height, img, seq, NUM_COPIES)\n",
        "        copies.append(img.reshape(width, height, 3))\n",
        "        for cpy in copies:\n",
        "            augmented_data.append(cpy)\n",
        "    return augmented_data\n",
        "\n",
        "\n",
        "def augment_image(width, height, image, seq, NUM_COPIES):\n",
        "    \"\"\"\n",
        "        augments a single image\n",
        "    :param width: width of the image\n",
        "    :param height: height of the image\n",
        "    :param image: a matrix representing a rgb image\n",
        "    :param seq: the augmantation sequence preformed\n",
        "    :param NUM_COPIES: number of copies produced from the image\n",
        "    :return: a list of all images made from 'image' not including the original\n",
        "    \"\"\"\n",
        "    seed (1)\n",
        "    copies = []\n",
        "    image = image.reshape(width, height, 3)\n",
        "    for i in range(NUM_COPIES):\n",
        "        copies.append(seq.augment_image(image))\n",
        "\n",
        "    return copies"
      ],
      "execution_count": 9,
      "outputs": []
    },
    {
      "cell_type": "markdown",
      "metadata": {
        "id": "b_dfbPgstK6i",
        "colab_type": "text"
      },
      "source": [
        "# Only Classifier"
      ]
    },
    {
      "cell_type": "code",
      "metadata": {
        "id": "D16kvdCKtRhD",
        "colab_type": "code",
        "colab": {}
      },
      "source": [
        "from keras.losses import CategoricalCrossentropy\n",
        "def train_classifier(param,models):\n",
        "    \n",
        "    inp = Input(shape = ([224, 224, 3]))\n",
        "    # embedding = build_embedding_vgg(param,inp)\n",
        "    # classifier = build_classifier_vgg(param, embedding)\n",
        "    \n",
        "    models[\"combined_classifier\"].compile(optimizer = opt_classifier(param), loss =CategoricalCrossentropy(), metrics = ['accuracy'])\n",
        "    Xs_train, ys_train = param[\"Xs_train\"], param[\"ys_train\"]\n",
        "    Xs_test , ys_test =  param[\"Xs_test\"], param[\"ys_test\"]\n",
        "    S_batches = batch_generator([Xs_train, ys_train], param[\"batch_size\"])\n",
        "    # T_batches = batch_generator([Xt_train, np.zeros(shape = (len(Xt_train),))], param[\"batch_size\"])\n",
        "\n",
        "    # param[\"target_accuracy\"] = 0\n",
        "\n",
        "    optim = {}\n",
        "    optim[\"iter\"] = 0\n",
        "    optim[\"acc\"] = \"\"\n",
        "    # optim[\"labels\"] = np.array(Xt.shape[0],)\n",
        "    gap_last_snap = 0\n",
        "\n",
        "    acc_source=[]\n",
        "    acc_target=[]\n",
        "    acc_domain_source=[]\n",
        "    acc_domain_target=[]\n",
        "\n",
        "    for i in range(param[\"num_iterations_classifier\"]):        \n",
        "        Xsb, ysb = next(S_batches)\n",
        "        # Xtb, ytb = next(T_batches)\n",
        "        plt.imshow(Xsb[0])\n",
        "        plt.show()\n",
        "        print(ysb)\n",
        "        # print(Xsb.shape)\n",
        "        # print(ysb.shape)\n",
        "        stats1 = models[\"combined_classifier\"].train_on_batch(Xsb, [ysb])\n",
        "\n",
        "        if ((i + 1) % param[\"test_interval\"] == 0):\n",
        "            ys_pred = models[\"combined_classifier\"].predict(Xs_train)\n",
        "            # yt_pred = models[\"combined_classifier\"].predict(Xt_train)\n",
        "\n",
        "            source_accuracy = accuracy_score(ys_train.argmax(1), ys_pred.argmax(1))              \n",
        "            # target_accuracy = accuracy_score(yt_train.argmax(1), yt_pred.argmax(1))\n",
        "\n",
        "\n",
        "            acc_source.append(source_accuracy)\n",
        "            # acc_target.append(target_accuracy)\n",
        "\n",
        "            log_str = \"iter: {:05d}: \\nLABEL CLASSIFICATION: source_accuracy: {:.5f}\"\\\n",
        "                                                         .format(i, source_accuracy*100)\n",
        "            print(log_str)\n",
        "\n",
        "            \n",
        "            \n",
        "    models[\"combined_classifier\"].save('/content/drive/My Drive/pro_data/pro_book_res/source_classifier.h5')\n",
        "\n",
        "    print(\"Source matrix: \",metrics.confusion_matrix(ys_train.argmax(1), ys_pred.argmax(1)))\n",
        "\n",
        "    ys_test_pred = models[\"combined_classifier\"].predict(Xs_test)\n",
        "    source_accuracy_test = accuracy_score(ys_test.argmax(1), ys_test_pred.argmax(1))              \n",
        "\n",
        "    print(\"source accuracy test\",source_accuracy_test)\n",
        "    cm_s = metrics.confusion_matrix(ys_test.argmax(1), ys_test_pred.argmax(1))\n",
        "    print(\"Source matrix: \",cm_s)\n",
        "    \n",
        "    labels_path = '/content/drive/My Drive/pro_data/pro_book_res/labels'  \n",
        "    lb = pickle.loads(open(labels_path, \"rb\").read())\n",
        "    classes = lb.classes_\n",
        "    _plot_confusion_matrix(cm_s, classes,title='Classifier Source Confusion matrix')\n",
        "\n",
        "    N = np.arange(0,len(acc_source))\n",
        "\n",
        "    plt.style.use(\"ggplot\")\n",
        "    plt.figure()\n",
        "    plt.plot(N, np.array(acc_source), label=\"Source accuracy\")\n",
        "    plt.title(\"Training Accuracy of Source Classifier \")\n",
        "    plt.xlabel(\"Number of imtervals\")\n",
        "    plt.ylabel(\"Accuracy\")\n",
        "    plt.legend()\n",
        "    plt.savefig('/content/drive/My Drive/pro_data/pro_book_res/classifier.png')\n",
        "\n",
        "    plt.show()\n",
        "\n",
        "\n"
      ],
      "execution_count": null,
      "outputs": []
    },
    {
      "cell_type": "markdown",
      "metadata": {
        "id": "Jthvwwiz8qAg",
        "colab_type": "text"
      },
      "source": [
        "# Train target discriminator "
      ]
    },
    {
      "cell_type": "code",
      "metadata": {
        "id": "HF1SV9K5jmUK",
        "colab_type": "code",
        "colab": {}
      },
      "source": [
        "models = {}\n",
        "from keras.applications.vgg16 import preprocess_input\n",
        "def train(param):\n",
        "    inp = Input(shape = (param[\"inp_dims\"]))\n",
        "    models[\"embedding_s\"] = build_embedding(param) \n",
        "    # # Build the classifier\n",
        "    models['combined_classifier'] = build_classifier(param,  models[\"embedding_s\"])\n",
        "    train_classifier(param,models)\n",
        "\n",
        "    # models[\"embedding_s\"] = load_model('/content/drive/My Drive/pro_data/‏final_result_notB/source_classifier.h5')\n",
        "    embedding_t = clone_model( models[\"embedding_s\"])\n",
        "   \n",
        "    # Build and compile the discriminator\n",
        "    discriminator_s = build_discriminator(param,  models[\"embedding_s\"].output_shape[1:])\n",
        "    discriminator_t = build_discriminator(param, embedding_t.output_shape[1:])\n",
        "    \n",
        "    # discriminator_t.trainable = False\n",
        "    \n",
        "    models[\"combined_discriminator_s\"] = Model(inputs=( models[\"embedding_s\"].input), outputs=(discriminator_s( models[\"embedding_s\"].output)))\n",
        "    models[\"combined_discriminator_t\"] = Model(inputs=(embedding_t.input), outputs=(discriminator_t(embedding_t.output)))\n",
        "    models[\"combined_discriminator_t\"].compile(optimizer = opt_discriminator(param), loss = 'binary_crossentropy', metrics = ['accuracy'])\n",
        "    #  If you set this flag after compilation - then it will not affect your model at all.\n",
        "    # models[\"embedding_s\"].trainable = False\n",
        "    for layer in models[\"embedding_s\"].layers:\n",
        "        layer.trainable = False\n",
        "    models[\"combined_discriminator_s\"].compile(optimizer = opt_discriminator(param), loss = 'binary_crossentropy', metrics = ['accuracy'])\n",
        "    \n",
        "    \n",
        "    models[\"combined_discriminator_s\"].summary()\n",
        "    models[\"combined_discriminator_t\"].summary()\n",
        "    \n",
        "    Xt = param[\"Xt_train\"]\n",
        "    yt = np.zeros(shape = (len(Xt),))\n",
        "    # Xt, Xt_test, yt, yt_test = param[\"Xt_train\"], param[\"Xt_test\"], param[\"yt_train\"], param[\"yt_test\"] \n",
        "    Xs, Xs_test, ys, ys_test = param[\"Xs_train\"], param[\"Xs_test\"], param[\"ys_train\"], param[\"ys_test\"] \n",
        "\n",
        "    \n",
        "    Xs, ys = aug_training_set_loader(Xs, ys, param[\"inp_dims\"])\n",
        "    Xt, yt = aug_training_set_loader(Xt, yt, param[\"inp_dims\"])\n",
        "\n",
        "\n",
        "    # Source domain is represented by label 0 and Target by 1\n",
        "\n",
        "    S_batches = batch_generator([Xs, ys], param[\"batch_size\"])\n",
        "    T_batches = batch_generator([Xt, np.zeros(shape = (len(Xt),))], param[\"batch_size\"])\n",
        "\n",
        "    param[\"target_accuracy\"] = 0\n",
        "\n",
        "    optim = {}\n",
        "    optim[\"iter\"] = 0\n",
        "    optim[\"acc\"] = \"\"\n",
        "    optim[\"labels\"] = np.array(Xt.shape[0],)\n",
        "    gap_last_snap = 0\n",
        "\n",
        "    acc_domain_source=[]\n",
        "    acc_domain_target=[]\n",
        "    loss_discriminator = []\n",
        "\n",
        "    t_domain_label = np.ones(( param[\"batch_size\"], 1))\n",
        "    s_domain_label = np.zeros(( param[\"batch_size\"], 1))\n",
        "    for i in range(param[\"num_iterations_discriminator\"]):        \n",
        "        Xsb, ysb = next(S_batches)\n",
        "        Xtb, ytb = next(T_batches)\n",
        "        t_domain_label = np.zeros(Xsb.shape[0])\n",
        "        s_domain_label =  np.ones(Xtb.shape[0])\n",
        "        X_adv = np.concatenate([Xsb, Xtb])\n",
        "        y_class = np.concatenate([ysb, np.zeros_like(ysb)])\n",
        "\n",
        "\n",
        "        acc_d_s , d_loss_s = models[\"combined_discriminator_s\"].train_on_batch(Xsb, s_domain_label)\n",
        "        acc_d_t , d_loss_t = models[\"combined_discriminator_t\"].train_on_batch(Xtb, t_domain_label)\n",
        "        acc = acc_d_s + acc_d_t / 2\n",
        "        loss = d_loss_s + d_loss_t\n",
        "\n",
        "        if ((i + 1) % param[\"test_interval\"] == 0):\n",
        "\n",
        "            acc_domain_source.append(acc_d_s)\n",
        "            acc_domain_target.append(acc_d_t)\n",
        "            loss_discriminator.append(loss)\n",
        "\n",
        "            log_str = \"iter: {:05d}: DOMAIN DISCRIMINATION: source_domain_accuracy: {:.5f}, target_domain_accuracy: {:.5f} \\n\"\\\n",
        "                                                         .format(i, acc_d_s*100, acc_d_t*100)\n",
        "            print(log_str)\n",
        "\n",
        "    \n",
        "    models[\"combined_discriminator_t\"].save_weights('/content/drive/My Drive/pro_data/pro_book_res/disc_target_10000_iter.hdf5')\n",
        "\n",
        "    N = np.arange(0,len(acc_domain_source))\n",
        "\n",
        "    plt.style.use(\"ggplot\")\n",
        "    plt.figure()\n",
        "    plt.plot(N, np.array(acc_domain_source), label=\"Domain Source accuracy\")\n",
        "    plt.plot(N, np.array(acc_domain_target), label=\"Domain Target accuracy\")\n",
        "    plt.title(\"Domain Accuracy of Source and Target \")\n",
        "    plt.xlabel(\"Number of intervals\")\n",
        "    plt.ylabel(\"Accuracy\")\n",
        "    plt.legend()\n",
        "  \n",
        "    plt.savefig('/content/drive/My Drive/pro_data/pro_book_res/discriminator_graph.png')\n",
        "    plt.show()\n",
        "    \n",
        "    plt.style.use(\"ggplot\")\n",
        "    plt.figure()\n",
        "    # plt.plot(N, np.array(loss_classifier_source), label=\"Combined Model ACC / Loss\")\n",
        "    plt.plot(N, np.array(loss_discriminator), label=\"Discriminator Acc / loss\")\n",
        "    plt.title(\"Discriminator Loss - Average of Source and Target \")\n",
        "    plt.xlabel(\"Number of intervals\")\n",
        "    plt.ylabel(\"Acc/ Loss\")\n",
        "    plt.legend()\n",
        "    \n",
        "    plt.savefig('/content/drive/My Drive/pro_data/pro_book_res/train_on_batch_graph.png')\n",
        "    plt.show()\n"
      ],
      "execution_count": null,
      "outputs": []
    },
    {
      "cell_type": "markdown",
      "metadata": {
        "id": "MmayyXlBaslf",
        "colab_type": "text"
      },
      "source": [
        "train the discriminator with saved models"
      ]
    },
    {
      "cell_type": "code",
      "metadata": {
        "id": "_F0WUuyParep",
        "colab_type": "code",
        "colab": {}
      },
      "source": [
        "models = {}\n",
        "from keras.applications.vgg16 import preprocess_input\n",
        "def train(param):\n",
        "    inp = Input(shape = (param[\"inp_dims\"]))\n",
        "    models[\"embedding_s\"] = build_embedding(param) \n",
        "    # # # Build the classifier\n",
        "    # models['combined_classifier'] = build_classifier(param,  models[\"embedding_s\"])\n",
        "    # train_classifier(param,models)\n",
        "    models[\"embedding_s\"].load_weights('/content/drive/My Drive/pro_data/pro_book_res/encoder_s_weights.hdf5')\n",
        "    models['combined_classifier']= load_model('/content/drive/My Drive/pro_data/pro_book_res/source_model.h5')\n",
        "    # models[\"embedding_s\"] = load_model('/content/drive/My Drive/pro_data/‏final_result_notB/source_classifier.h5')\n",
        "    embedding_t = clone_model( models[\"embedding_s\"])\n",
        "   \n",
        "    # Build and compile the discriminator\n",
        "    discriminator_s = build_discriminator(param,  models[\"embedding_s\"].output_shape[1:])\n",
        "    discriminator_t = build_discriminator(param, embedding_t.output_shape[1:])\n",
        "    \n",
        "    # discriminator_t.trainable = False\n",
        "    \n",
        "    models[\"combined_discriminator_s\"] = Model(inputs=( models[\"embedding_s\"].input), outputs=(discriminator_s( models[\"embedding_s\"].output)))\n",
        "    models[\"combined_discriminator_t\"] = Model(inputs=(embedding_t.input), outputs=(discriminator_t(embedding_t.output)))\n",
        "    models[\"combined_discriminator_t\"].compile(optimizer = opt_discriminator(param), loss = 'binary_crossentropy', metrics = ['accuracy'])\n",
        "    #  If you set this flag after compilation - then it will not affect your model at all.\n",
        "    # models[\"embedding_s\"].trainable = False\n",
        "    for layer in models[\"embedding_s\"].layers:\n",
        "        layer.trainable = False\n",
        "    models[\"combined_discriminator_s\"].compile(optimizer = opt_discriminator(param), loss = 'binary_crossentropy', metrics = ['accuracy'])\n",
        "    \n",
        "    \n",
        "    models[\"combined_discriminator_s\"].summary()\n",
        "    models[\"combined_discriminator_t\"].summary()\n",
        "    \n",
        "    Xt = param[\"Xt_train\"]\n",
        "    yt = np.zeros(shape = (len(Xt),))\n",
        "    # Xt, Xt_test, yt, yt_test = param[\"Xt_train\"], param[\"Xt_test\"], param[\"yt_train\"], param[\"yt_test\"] \n",
        "    Xs, Xs_test, ys, ys_test = param[\"Xs_train\"], param[\"Xs_test\"], param[\"ys_train\"], param[\"ys_test\"] \n",
        "\n",
        "    \n",
        "    Xs, ys = aug_training_set_loader(Xs, ys, param[\"inp_dims\"])\n",
        "    Xt, yt = aug_training_set_loader(Xt, yt, param[\"inp_dims\"])\n",
        "\n",
        "\n",
        "    # Source domain is represented by label 0 and Target by 1\n",
        "\n",
        "    S_batches = batch_generator([Xs, ys], param[\"batch_size\"])\n",
        "    T_batches = batch_generator([Xt, np.zeros(shape = (len(Xt),))], param[\"batch_size\"])\n",
        "\n",
        "    param[\"target_accuracy\"] = 0\n",
        "\n",
        "    optim = {}\n",
        "    optim[\"iter\"] = 0\n",
        "    optim[\"acc\"] = \"\"\n",
        "    optim[\"labels\"] = np.array(Xt.shape[0],)\n",
        "    gap_last_snap = 0\n",
        "\n",
        "    acc_domain_source=[]\n",
        "    acc_domain_target=[]\n",
        "    loss_discriminator = []\n",
        "\n",
        "    t_domain_label = np.ones(( param[\"batch_size\"], 1))\n",
        "    s_domain_label = np.zeros(( param[\"batch_size\"], 1))\n",
        "    for i in range(param[\"num_iterations_discriminator\"]):        \n",
        "        Xsb, ysb = next(S_batches)\n",
        "        Xtb, ytb = next(T_batches)\n",
        "        t_domain_label = np.zeros(Xsb.shape[0])\n",
        "        s_domain_label =  np.ones(Xtb.shape[0])\n",
        "        X_adv = np.concatenate([Xsb, Xtb])\n",
        "        y_class = np.concatenate([ysb, np.zeros_like(ysb)])\n",
        "\n",
        "\n",
        "        acc_d_s , d_loss_s = models[\"combined_discriminator_s\"].train_on_batch(Xsb, s_domain_label)\n",
        "        acc_d_t , d_loss_t = models[\"combined_discriminator_t\"].train_on_batch(Xtb, t_domain_label)\n",
        "        acc = acc_d_s + acc_d_t / 2\n",
        "        loss = d_loss_s + d_loss_t\n",
        "\n",
        "        if ((i + 1) % param[\"test_interval\"] == 0):\n",
        "\n",
        "            acc_domain_source.append(acc_d_s)\n",
        "            acc_domain_target.append(acc_d_t)\n",
        "            loss_discriminator.append(loss)\n",
        "\n",
        "            log_str = \"iter: {:05d}: DOMAIN DISCRIMINATION: source_domain_accuracy: {:.5f}, target_domain_accuracy: {:.5f} \\n\"\\\n",
        "                                                         .format(i, acc_d_s*100, acc_d_t*100)\n",
        "            print(log_str)\n",
        "\n",
        "    \n",
        "    models[\"combined_discriminator_t\"].save_weights('/content/drive/My Drive/pro_data/pro_book_res/disc_target_10000_iter.hdf5')\n",
        "\n",
        "    N = np.arange(0,len(acc_domain_source))\n",
        "\n",
        "    plt.style.use(\"ggplot\")\n",
        "    plt.figure()\n",
        "    plt.plot(N, np.array(acc_domain_source), label=\"Domain Source accuracy\")\n",
        "    plt.plot(N, np.array(acc_domain_target), label=\"Domain Target accuracy\")\n",
        "    plt.title(\"Domain Accuracy of Source and Target \")\n",
        "    plt.xlabel(\"Number of intervals\")\n",
        "    plt.ylabel(\"Accuracy\")\n",
        "    plt.legend()\n",
        "  \n",
        "    plt.savefig('/content/drive/My Drive/pro_data/pro_book_res/discriminator_graph.png')\n",
        "    plt.show()\n",
        "    \n",
        "    plt.style.use(\"ggplot\")\n",
        "    plt.figure()\n",
        "    # plt.plot(N, np.array(loss_classifier_source), label=\"Combined Model ACC / Loss\")\n",
        "    plt.plot(N, np.array(loss_discriminator), label=\"Discriminator Acc / loss\")\n",
        "    plt.title(\"Discriminator Loss - Average of Source and Target \")\n",
        "    plt.xlabel(\"Number of intervals\")\n",
        "    plt.ylabel(\"Acc/ Loss\")\n",
        "    plt.legend()\n",
        "    \n",
        "    plt.savefig('/content/drive/My Drive/pro_data/pro_book_res/train_on_batch_graph.png')\n",
        "    plt.show()\n"
      ],
      "execution_count": null,
      "outputs": []
    },
    {
      "cell_type": "markdown",
      "metadata": {
        "id": "ZdnIND2JEHUn",
        "colab_type": "text"
      },
      "source": [
        "# Main"
      ]
    },
    {
      "cell_type": "code",
      "metadata": {
        "id": "Sq_tQgLEEETm",
        "colab_type": "code",
        "colab": {}
      },
      "source": [
        "import argparse\n",
        "if __name__ == \"__main__\":\n",
        "    # Read parameter values from the console\n",
        "    parser = argparse.ArgumentParser(description = 'Domain Adaptation')\n",
        "    parser.add_argument('--number_of_gpus', type = int, nargs = '?', default = '1', help = \"Number of gpus to run\")\n",
        "    parser.add_argument('--network_name', type = str, default = 'ResNet50', help = \"Name of the feature extractor network\")\n",
        "    parser.add_argument('--dataset_name', type = str, default = 'Office', help = \"Name of the source dataset\")\n",
        "    parser.add_argument('--dropout_classifier', type = float, default = 0.25, help = \"Dropout ratio for classifier\")\n",
        "    parser.add_argument('--dropout_discriminator', type = float, default = 0.25, help = \"Dropout ratio for discriminator\")    \n",
        "    parser.add_argument('--source_path', type = str, default = 'amazon_10_list.txt', help = \"Path to source dataset\")\n",
        "    parser.add_argument('--target_path', type = str, default = 'webcam_10_list.txt', help = \"Path to target dataset\")\n",
        "    parser.add_argument('--lr_classifier', type = float, default = 0.0001, help = \"Learning rate for classifier model\")\n",
        "    parser.add_argument('--b1_classifier', type = float, default = 0.9, help = \"Exponential decay rate of first moment \\\n",
        "                                                                                             for classifier model optimizer\")\n",
        "    parser.add_argument('--b2_classifier', type = float, default = 0.999, help = \"Exponential decay rate of second moment \\\n",
        "                                                                                            for classifier model optimizer\")\n",
        "    parser.add_argument('--lr_discriminator', type = float, default = 0.00001, help = \"Learning rate for discriminator model\")\n",
        "    parser.add_argument('--b1_discriminator', type = float, default = 0.9, help = \"Exponential decay rate of first moment \\\n",
        "                                                                                             for discriminator model optimizer\")\n",
        "    parser.add_argument('--b2_discriminator', type = float, default = 0.999, help = \"Exponential decay rate of second moment \\\n",
        "                                                                                            for discriminator model optimizer\")\n",
        "    parser.add_argument('--lr_combined', type = float, default = 0.00001, help = \"Learning rate for combined model\")\n",
        "    parser.add_argument('--b1_combined', type = float, default = 0.9, help = \"Exponential decay rate of first moment \\\n",
        "                                                                                             for combined model optimizer\")\n",
        "    parser.add_argument('--b2_combined', type = float, default = 0.999, help = \"Exponential decay rate of second moment \\\n",
        "                                                                                            for combined model optimizer\")\n",
        "    parser.add_argument('--classifier_loss_weight', type = float, default = 1, help = \"Classifier loss weight\")\n",
        "    parser.add_argument('--discriminator_loss_weight', type = float, default = 4, help = \"Discriminator loss weight\")\n",
        "    parser.add_argument('--batch_size', type = int, default = 32, help = \"Batch size for training\")\n",
        "    parser.add_argument('--test_interval', type = int, default = 3, help = \"Gap between two successive test phases\")\n",
        "    parser.add_argument('--num_iterations', type = int, default = 120, help = \"Number of iterations\")\n",
        "    parser.add_argument('--snapshot_interval', type = int, default = 500, help = \"Minimum gap between saving outputs\")\n",
        "    parser.add_argument('--output_dir', type = str, default = 'Models', help = \"Directory for saving outputs\")\n",
        "    # args = parser.parse_args()\n",
        "\n",
        "    # Set GPU device\n",
        "    # os.environ[\"CUDA_VISIBLE_DEVICES\"] = str(list(np.arange(args.number_of_gpus))).strip('[]')\n",
        "\n",
        "    # Initialize parameters\n",
        "    param = {}\n",
        "    models = {}\n",
        "    param[\"number_of_gpus\"] = 1\n",
        "    # param[\"network_name\"] = 'ResNet50'\n",
        "    param[\"network_name\"] = 'VGGFace'\n",
        "    param[\"inp_dims\"] = [224, 224, 3]\n",
        "    param[\"num_iterations_classifier\"] = 100\n",
        "    param[\"num_iterations_discriminator\"] = 500\n",
        "    # param[\"num_iterations\"] = 500\n",
        "    param[\"lr_classifier\"] = 0.0001\n",
        "    param[\"b1_classifier\"] = 0.9\n",
        "    param[\"b2_classifier\"] = 0.999    \n",
        "    param[\"lr_discriminator\"] = 0.000001\n",
        "    param[\"b1_discriminator\"] =  0.9\n",
        "    param[\"b2_discriminator\"] = 0.999\n",
        "    param[\"lr_combined\"] = 0.00001\n",
        "    param[\"b1_combined\"] =  0.9\n",
        "    param[\"b2_combined\"] =  0.999       \n",
        "    # param[\"batch_size\"] = int(32)\n",
        "    param[\"batch_size\"] = int(32/2)\n",
        "    param[\"class_loss_weight\"] = 1\n",
        "    param[\"dis_loss_weight\"] = 4    \n",
        "    param[\"drop_classifier\"] = 0.25\n",
        "    param[\"drop_discriminator\"] = 0.25\n",
        "    param[\"test_interval\"] = 100\n",
        "    # param[\"source_path\"] = 'drive/My Drive/final_proj_dataset/data_file_shelly.txt'\n",
        "    # param[\"target_path\"] = 'drive/My Drive/final_proj_dataset/data_file_yerus.txt' \n",
        "    param[\"source_path\"] = '/content/drive/My Drive/pro_data/Student_source'\n",
        "    param[\"target_path\"] =  '/content/drive/My Drive/pro_data/alyn_target'\n",
        "    param[\"snapshot_interval\"] = 500\n",
        "    # param[\"snapshot_interval\"] = 5\n",
        "    param[\"output_path\"] = '/content/drive/My Drive/pro_data/pro_book_res'\n",
        "    param[\"number_of_classe\"] = 0\n",
        "\n",
        "    # # Create directory for saving models and log files\n",
        "    # if not os.path.exists(param[\"output_path\"]):\n",
        "    #     os.mkdir(param[\"output_path\"])\n",
        "    \n",
        "    # print(\"[INFO] loading images...\")\n",
        "    # # Load source and target data\n",
        "    # param[\"source_data\"], param[\"source_label\"] = data_loader(param[\"source_path\"], param[\"inp_dims\"])\n",
        "    # param[\"target_data\"], param[\"target_label\"] = data_loader(param[\"target_path\"], param[\"inp_dims\"])\n",
        "    # # param[\"source_data\"], param[\"source_label\"],param[\"target_data\"], param[\"target_label\"] =  load_data(param[\"source_path\"],param[\"target_path\"])\n",
        "\n",
        "    # # Encode labels into one-hot format\n",
        "    # param[\"source_label\"], param[\"target_label\"] = one_hot_encoding(param)\n",
        "\n",
        "    \n",
        "\n",
        "   "
      ],
      "execution_count": 10,
      "outputs": []
    },
    {
      "cell_type": "code",
      "metadata": {
        "id": "42msC3B1fJoH",
        "colab_type": "code",
        "colab": {
          "base_uri": "https://localhost:8080/",
          "height": 254
        },
        "outputId": "5723028c-12fa-4545-c2da-b57773b126a1"
      },
      "source": [
        "print(\"[INFO] loading images...\")\n",
        "# Load source and target data\n",
        "param[\"source_data\"], param[\"source_label\"] = data_loader(param[\"source_path\"], param[\"inp_dims\"])\n",
        "print(param[\"source_label\"])\n",
        "print(\"source images loaded\")\n",
        "\n",
        "print(\"number of images in source domain\", param[\"source_data\"].shape[0])\n",
        "param[\"target_data\"], param[\"target_label\"] = data_loader(param[\"target_path\"], param[\"inp_dims\"])\n",
        "print(param[\"target_label\"])\n",
        "\n",
        "print(\"target images loaded\")\n",
        "print(\"number of images in target domain\", param[\"target_data\"].shape[0])\n",
        "# Encode labels into one-hot format\n",
        "print(\"[INFO] Encode labels into one-hot format\")\n",
        "param[\"source_label\"] = one_hot_encoding(param)\n",
        "# param[\"source_label\"], param[\"target_label\"] = one_hot_encoding(param)\n",
        "\n",
        "\n",
        "# param[\"Xt_train\"], param[\"Xt_test\"], param[\"yt_train\"], param[\"yt_test\"] = train_test_split(param[\"target_data\"], param[\"target_label\"], test_size=0.2, random_state=42)\n",
        "# param[\"Xs_train\"], param[\"Xs_test\"], param[\"ys_train\"], param[\"ys_test\"] = train_test_split(param[\"source_data\"], param[\"source_label\"], test_size=0.2, random_state=42)\n",
        "\n",
        "# print('Xt_train ',param[\"Xt_train\"].shape[0] )\n",
        "# print('Xt_test ',param[\"Xt_test\"].shape[0])\n",
        "# print('Xs_train', param[\"Xs_train\"].shape[0] )\n",
        "# print('Xs_test', param[\"Xs_test\"].shape[0])\n",
        "\n",
        "param[\"Xt_train\"] = param[\"target_data\"]\n",
        "param[\"Xs_train\"], param[\"Xs_test\"], param[\"ys_train\"], param[\"ys_test\"] = train_test_split(param[\"source_data\"], param[\"source_label\"], test_size=0.2, random_state=42)\n",
        "\n",
        "print('Xt_train ',param[\"Xt_train\"].shape[0] )\n",
        "# print('Xt_test ',param[\"Xt_test\"].shape[0])\n",
        "print('Xs_train', param[\"Xs_train\"].shape[0] )\n",
        "print('Xs_test', param[\"Xs_test\"].shape[0])"
      ],
      "execution_count": 11,
      "outputs": [
        {
          "output_type": "stream",
          "text": [
            "[INFO] loading images...\n",
            "['brows' 'brows' 'brows' ... 'neutral' 'neutral' 'neutral']\n",
            "source images loaded\n",
            "number of images in source domain 1449\n",
            "['alyn_target' 'alyn_target' 'alyn_target' ... 'alyn_target' 'alyn_target'\n",
            " 'alyn_target']\n",
            "target images loaded\n",
            "number of images in target domain 1440\n",
            "[INFO] Encode labels into one-hot format\n",
            "3\n",
            "Xt_train  1440\n",
            "Xs_train 1159\n",
            "Xs_test 290\n"
          ],
          "name": "stdout"
        }
      ]
    },
    {
      "cell_type": "code",
      "metadata": {
        "id": "MyarR43yAdnO",
        "colab_type": "code",
        "colab": {}
      },
      "source": [
        "print(param[\"number_of_classe\"])\n",
        "print(param[\"source_label\"])\n",
        "print(param[\"target_label\"])"
      ],
      "execution_count": null,
      "outputs": []
    },
    {
      "cell_type": "code",
      "metadata": {
        "id": "i1vaKAXuoj3A",
        "colab_type": "code",
        "colab": {
          "base_uri": "https://localhost:8080/",
          "height": 1000
        },
        "outputId": "99550acd-0546-4bfd-fa1d-61183ba4dd29"
      },
      "source": [
        "from keras.models import load_model\n",
        "# Train data\n",
        "print(\"[INFO] training network...\")\n",
        "train(param)\n",
        "# param[\"combined_classifier\"].save('drive/My Drive/pro_data/result_vgg_notBmix/_source_model_less_layers.h5')\n"
      ],
      "execution_count": null,
      "outputs": [
        {
          "output_type": "stream",
          "text": [
            "[INFO] training network...\n",
            "Downloading data from https://github.com/rcmalli/keras-vggface/releases/download/v2.0/rcmalli_vggface_tf_notop_vgg16.h5\n",
            "58916864/58909280 [==============================] - 1s 0us/step\n",
            "Model: \"functional_7\"\n",
            "_________________________________________________________________\n",
            "Layer (type)                 Output Shape              Param #   \n",
            "=================================================================\n",
            "input_4 (InputLayer)         [(None, 224, 224, 3)]     0         \n",
            "_________________________________________________________________\n",
            "vggface_vgg16 (Functional)   (None, None, None, 512)   14714688  \n",
            "_________________________________________________________________\n",
            "functional_3 (Functional)    (None, 1)                 25093     \n",
            "=================================================================\n",
            "Total params: 14,739,781\n",
            "Trainable params: 25,091\n",
            "Non-trainable params: 14,714,690\n",
            "_________________________________________________________________\n",
            "Model: \"functional_9\"\n",
            "_________________________________________________________________\n",
            "Layer (type)                 Output Shape              Param #   \n",
            "=================================================================\n",
            "input_4 (InputLayer)         [(None, 224, 224, 3)]     0         \n",
            "_________________________________________________________________\n",
            "vggface_vgg16 (Functional)   (None, None, None, 512)   14714688  \n",
            "_________________________________________________________________\n",
            "functional_5 (Functional)    (None, 1)                 25093     \n",
            "=================================================================\n",
            "Total params: 14,739,781\n",
            "Trainable params: 14,739,779\n",
            "Non-trainable params: 2\n",
            "_________________________________________________________________\n",
            "iter: 00099: DOMAIN DISCRIMINATION: source_domain_accuracy: 80.92120, target_domain_accuracy: 71.88745 \n",
            "\n",
            "iter: 00199: DOMAIN DISCRIMINATION: source_domain_accuracy: 80.96652, target_domain_accuracy: 70.40603 \n",
            "\n",
            "iter: 00299: DOMAIN DISCRIMINATION: source_domain_accuracy: 79.56105, target_domain_accuracy: 70.81989 \n",
            "\n",
            "iter: 00399: DOMAIN DISCRIMINATION: source_domain_accuracy: 80.94528, target_domain_accuracy: 70.11193 \n",
            "\n",
            "iter: 00499: DOMAIN DISCRIMINATION: source_domain_accuracy: 80.72896, target_domain_accuracy: 69.85773 \n",
            "\n"
          ],
          "name": "stdout"
        },
        {
          "output_type": "display_data",
          "data": {
            "image/png": "[encoded data removed]",
            "text/plain": [
              "<Figure size 432x288 with 1 Axes>"
            ]
          },
          "metadata": {
            "tags": []
          }
        },
        {
          "output_type": "display_data",
          "data": {
            "image/png": "[encoded data removed]",
            "text/plain": [
              "<Figure size 432x288 with 1 Axes>"
            ]
          },
          "metadata": {
            "tags": []
          }
        }
      ]
    },
    {
      "cell_type": "code",
      "metadata": {
        "id": "MfontvwMffqM",
        "colab_type": "code",
        "colab": {}
      },
      "source": [
        "# !pip install git+https://github.com/keras-team/autokeras.git@master\n",
        "# !pip install git+https://github.com/keras-team/keras-tuner.git@master\n",
        "# !pip install tensorflow==2.2.0\n",
        "\n",
        "!pip3 install git+https://github.com/keras-team/keras-tuner.git@1.0.2rc0\n",
        "!pip3 install autokeras==1.0.3"
      ],
      "execution_count": null,
      "outputs": []
    },
    {
      "cell_type": "markdown",
      "metadata": {
        "id": "1pQH37cTxOFF",
        "colab_type": "text"
      },
      "source": [
        "# Target Classifier"
      ]
    },
    {
      "cell_type": "code",
      "metadata": {
        "id": "goRWamsJ95YB",
        "colab_type": "code",
        "colab": {
          "base_uri": "https://localhost:8080/",
          "height": 163
        },
        "outputId": "da77ce18-81b2-4542-e3b4-c84ef3cc322c"
      },
      "source": [
        "from keras.models import load_model\n",
        "# path_source_classifier = '/content/drive/My Drive/pro_data/‏final_result_notB/source_classifier.h5'\n",
        "# model = load_model(path_source_classifier)\n",
        "# path_target_discriminator = '/content/drive/My Drive/pro_data/‏final_result_notB/disc_target_10000_iter.hdf5'\n",
        "# model.load_weights(path_target_discriminator, by_name=True)\n",
        "# # model.compile(optimizer = opt_classifier(param), loss = 'categorical_crossentropy', metrics = ['accuracy'])\n",
        "models[\"combined_discriminator_t\"].save_weights('/content/drive/My Drive/pro_data/pro_book_res/disc_target.hdf5')\n",
        "model = load_model('/content/drive/My Drive/pro_data/pro_book_res/source_model.h5')\n",
        "model.load_weights('/content/drive/My Drive/pro_data/pro_book_res/disc_target.hdf5', by_name=True)\n",
        "\n",
        "param[\"Xt_test\"], yt_test = data_loader('/content/drive/My Drive/pro_data/testset', param[\"inp_dims\"])\n",
        "lb = LabelEncoder()\n",
        "source_labels  = lb.fit_transform(yt_test)\n",
        "param[\"yt_test\"] = to_categorical(source_labels)\n",
        "f = open('/content/drive/My Drive/pro_data/pro_book_res/_labels',\"wb\")\n",
        "f.write(pickle.dumps(lb))\n",
        "f.close()\n",
        "\n",
        "test_xt,test_yt = param[\"Xt_test\"], param[\"yt_test\"]\n",
        "yt_pred = model.predict(test_xt)\n",
        "target_accuracy_test = accuracy_score(test_yt.argmax(1), yt_pred.argmax(1))              \n",
        "\n",
        "cm_t = metrics.confusion_matrix(test_yt.argmax(1), yt_pred.argmax(1))\n",
        "\n",
        "print(\"target accuracy test\",target_accuracy_test)\n",
        "print(\"target Classifier matrix: \",cm_t)\n",
        "\n",
        "\n",
        "test_xs,test_ys = param[\"Xs_test\"], param[\"ys_test\"]\n",
        "ys_pred = model.predict(test_xs)\n",
        "source_accuracy_test = accuracy_score(test_ys.argmax(1), ys_pred.argmax(1))              \n",
        "cm_s = metrics.confusion_matrix(test_ys.argmax(1), ys_pred.argmax(1))\n",
        "\n",
        "print(\"source accuracy test\",source_accuracy_test)\n",
        "print(\"source Classifier matrix: \",cm_s)\n"
      ],
      "execution_count": null,
      "outputs": [
        {
          "output_type": "stream",
          "text": [
            "target accuracy test 0.225\n",
            "target Classifier matrix:  [[ 9  0  0]\n",
            " [16  0  0]\n",
            " [15  0  0]]\n",
            "source accuracy test 0.31724137931034485\n",
            "source Classifier matrix:  [[ 92   0   0]\n",
            " [117   0   0]\n",
            " [ 81   0   0]]\n"
          ],
          "name": "stdout"
        }
      ]
    },
    {
      "cell_type": "code",
      "metadata": {
        "id": "dzsB2rnFILDi",
        "colab_type": "code",
        "colab": {
          "base_uri": "https://localhost:8080/",
          "height": 297
        },
        "outputId": "2e7f50e1-4a39-47a1-f388-ac7ddccf7cf3"
      },
      "source": [
        "labels_path = '/content/drive/My Drive/pro_data/pro_book_res/_labels'  \n",
        "lb = pickle.loads(open(labels_path, \"rb\").read())\n",
        "classes = lb.classes_\n",
        "_plot_confusion_matrix(cm_s, classes,title='Source Confusion matrix')\n"
      ],
      "execution_count": null,
      "outputs": [
        {
          "output_type": "display_data",
          "data": {
            "image/png": "[encoded data removed]",
            "text/plain": [
              "<Figure size 432x288 with 2 Axes>"
            ]
          },
          "metadata": {
            "tags": []
          }
        }
      ]
    },
    {
      "cell_type": "code",
      "metadata": {
        "id": "J4PIVn3PcSiv",
        "colab_type": "code",
        "colab": {
          "base_uri": "https://localhost:8080/",
          "height": 297
        },
        "outputId": "2389d8cb-e9a4-4b16-9215-cbd2dfe49121"
      },
      "source": [
        "_plot_confusion_matrix(cm_t, classes,title='Targrt Confusion matrix')"
      ],
      "execution_count": null,
      "outputs": [
        {
          "output_type": "display_data",
          "data": {
            "image/png": "[encoded data removed]",
            "text/plain": [
              "<Figure size 432x288 with 2 Axes>"
            ]
          },
          "metadata": {
            "tags": []
          }
        }
      ]
    },
    {
      "cell_type": "markdown",
      "metadata": {
        "id": "Sc-UVquCj5P8",
        "colab_type": "text"
      },
      "source": [
        "# Sanity Check"
      ]
    },
    {
      "cell_type": "code",
      "metadata": {
        "id": "fSf_R5OMj1HT",
        "colab_type": "code",
        "colab": {
          "base_uri": "https://localhost:8080/",
          "height": 370
        },
        "outputId": "c927d0f6-276c-4b5b-f3fc-00d0f6999951"
      },
      "source": [
        "from keras.models import load_model\n",
        "path_source_classifier = '/content/drive/My Drive/pro_data/pro_book_res/source_model.h5'\n",
        "source_model = load_model(path_source_classifier)\n",
        "\n",
        "# test_xt,test_yt = param[\"Xt_test\"], param[\"yt_test\"]\n",
        "yt_pred = source_model.predict(test_xt)\n",
        "target_accuracy_test = accuracy_score(test_yt.argmax(1), yt_pred.argmax(1))              \n",
        "\n",
        "cm_t_sanity = metrics.confusion_matrix(test_yt.argmax(1), yt_pred.argmax(1))\n",
        "\n",
        "print(\"target accuracy test\",target_accuracy_test)\n",
        "print(\"target Classifier matrix: \",cm_t_sanity)\n",
        "\n",
        "_plot_confusion_matrix(cm_t_sanity, classes,title='Target Confusion matrix with Source Classifier')\n"
      ],
      "execution_count": null,
      "outputs": [
        {
          "output_type": "stream",
          "text": [
            "target accuracy test 0.225\n",
            "target Classifier matrix:  [[ 9  0  0]\n",
            " [14  0  2]\n",
            " [15  0  0]]\n"
          ],
          "name": "stdout"
        },
        {
          "output_type": "display_data",
          "data": {
            "image/png": "[encoded data removed]",
            "text/plain": [
              "<Figure size 432x288 with 2 Axes>"
            ]
          },
          "metadata": {
            "tags": []
          }
        }
      ]
    },
    {
      "cell_type": "code",
      "metadata": {
        "id": "zeJTfWlRN-Ga",
        "colab_type": "code",
        "colab": {
          "base_uri": "https://localhost:8080/",
          "height": 370
        },
        "outputId": "fb8b9e0e-640e-4bdb-965e-78bcc813026c"
      },
      "source": [
        "\n",
        "\n",
        "xs,ys = param[\"source_data\"], param[\"source_label\"]\n",
        "ys_pred = source_model.predict(xs)\n",
        "source_accuracy = accuracy_score(ys.argmax(1), ys_pred.argmax(1))              \n",
        "\n",
        "cm_s_sanity = metrics.confusion_matrix(ys.argmax(1), ys_pred.argmax(1))\n",
        "\n",
        "print(\"source accuracy\",source_accuracy)\n",
        "print(\"source Classifier matrix: \",cm_s_sanity)\n",
        "\n"
      ],
      "execution_count": null,
      "outputs": [
        {
          "output_type": "stream",
          "text": [
            "source accuracy 0.6576949620427881\n",
            "source Classifier matrix:  [[480   0   0]\n",
            " [320  27 133]\n",
            " [ 43   0 446]]\n"
          ],
          "name": "stdout"
        },
        {
          "output_type": "display_data",
          "data": {
            "image/png": "[encoded data removed]",
            "text/plain": [
              "<Figure size 432x288 with 2 Axes>"
            ]
          },
          "metadata": {
            "tags": []
          }
        }
      ]
    },
    {
      "cell_type": "code",
      "metadata": {
        "id": "1ag2PV5SP7QM",
        "colab_type": "code",
        "colab": {
          "base_uri": "https://localhost:8080/",
          "height": 297
        },
        "outputId": "84ef3a74-ad45-4b6e-c9d4-085cfbc6c770"
      },
      "source": [
        "_plot_confusion_matrix(cm_s_sanity, classes,title='Source Confusion matrix with Source Classifier')"
      ],
      "execution_count": null,
      "outputs": [
        {
          "output_type": "display_data",
          "data": {
            "image/png": "[encoded data removed]",
            "text/plain": [
              "<Figure size 432x288 with 2 Axes>"
            ]
          },
          "metadata": {
            "tags": []
          }
        }
      ]
    },
    {
      "cell_type": "markdown",
      "metadata": {
        "id": "Odtr5EQ5QMuZ",
        "colab_type": "text"
      },
      "source": [
        "# VGGFACE as classifier"
      ]
    },
    {
      "cell_type": "code",
      "metadata": {
        "id": "FEuTMZRNQTw9",
        "colab_type": "code",
        "colab": {
          "base_uri": "https://localhost:8080/",
          "height": 910
        },
        "outputId": "1d7e069a-87aa-4055-ed21-6a1477c153ab"
      },
      "source": [
        "vggface = VGGFace(weights='vggface',include_top = False,input_shape=(224, 224, 3))\n",
        "vggface.summary()\n"
      ],
      "execution_count": 12,
      "outputs": [
        {
          "output_type": "stream",
          "text": [
            "Downloading data from https://github.com/rcmalli/keras-vggface/releases/download/v2.0/rcmalli_vggface_tf_notop_vgg16.h5\n",
            "58916864/58909280 [==============================] - 1s 0us/step\n",
            "Model: \"vggface_vgg16\"\n",
            "_________________________________________________________________\n",
            "Layer (type)                 Output Shape              Param #   \n",
            "=================================================================\n",
            "input_1 (InputLayer)         [(None, 224, 224, 3)]     0         \n",
            "_________________________________________________________________\n",
            "conv1_1 (Conv2D)             (None, 224, 224, 64)      1792      \n",
            "_________________________________________________________________\n",
            "conv1_2 (Conv2D)             (None, 224, 224, 64)      36928     \n",
            "_________________________________________________________________\n",
            "pool1 (MaxPooling2D)         (None, 112, 112, 64)      0         \n",
            "_________________________________________________________________\n",
            "conv2_1 (Conv2D)             (None, 112, 112, 128)     73856     \n",
            "_________________________________________________________________\n",
            "conv2_2 (Conv2D)             (None, 112, 112, 128)     147584    \n",
            "_________________________________________________________________\n",
            "pool2 (MaxPooling2D)         (None, 56, 56, 128)       0         \n",
            "_________________________________________________________________\n",
            "conv3_1 (Conv2D)             (None, 56, 56, 256)       295168    \n",
            "_________________________________________________________________\n",
            "conv3_2 (Conv2D)             (None, 56, 56, 256)       590080    \n",
            "_________________________________________________________________\n",
            "conv3_3 (Conv2D)             (None, 56, 56, 256)       590080    \n",
            "_________________________________________________________________\n",
            "pool3 (MaxPooling2D)         (None, 28, 28, 256)       0         \n",
            "_________________________________________________________________\n",
            "conv4_1 (Conv2D)             (None, 28, 28, 512)       1180160   \n",
            "_________________________________________________________________\n",
            "conv4_2 (Conv2D)             (None, 28, 28, 512)       2359808   \n",
            "_________________________________________________________________\n",
            "conv4_3 (Conv2D)             (None, 28, 28, 512)       2359808   \n",
            "_________________________________________________________________\n",
            "pool4 (MaxPooling2D)         (None, 14, 14, 512)       0         \n",
            "_________________________________________________________________\n",
            "conv5_1 (Conv2D)             (None, 14, 14, 512)       2359808   \n",
            "_________________________________________________________________\n",
            "conv5_2 (Conv2D)             (None, 14, 14, 512)       2359808   \n",
            "_________________________________________________________________\n",
            "conv5_3 (Conv2D)             (None, 14, 14, 512)       2359808   \n",
            "_________________________________________________________________\n",
            "pool5 (MaxPooling2D)         (None, 7, 7, 512)         0         \n",
            "=================================================================\n",
            "Total params: 14,714,688\n",
            "Trainable params: 14,714,688\n",
            "Non-trainable params: 0\n",
            "_________________________________________________________________\n"
          ],
          "name": "stdout"
        }
      ]
    },
    {
      "cell_type": "code",
      "metadata": {
        "id": "-_5Ll8PGcdsG",
        "colab_type": "code",
        "colab": {}
      },
      "source": [
        "    flat = Flatten()(vggface.output)\n",
        "    # dense1 = Dense(400, name = 'class_dense1')(flat)\n",
        "    # bn1 = BatchNormalization(name = 'class_bn1')(dense1)\n",
        "    # act1 = Activation('relu', name = 'class_act1')(bn1)\n",
        "    # drop2 = Dropout(param[\"drop_classifier\"], name = 'class_drop1')(act1)\n",
        "\n",
        "    dense2 = Dense(100, name = 'class_dense2')(flat)\n",
        "    bn2 = BatchNormalization(name = 'class_bn2')(dense2)\n",
        "    act2 = Activation('relu', name = 'class_act2')(bn2)\n",
        "    drop2 = Dropout(param[\"drop_classifier\"], name = 'class_drop2')(act2)\n",
        "    densel = Dense(param[\"number_of_classe\"], name = 'class_dense_last')(drop2)\n",
        "    # densel = Dense(param[\"number_of_classe\"], name = 'class_dense_last')(flat)\n",
        "                                                                         \n",
        "    bnl = BatchNormalization(name = 'class_bn_last')(densel)\n",
        "    actl = Activation('softmax', name = 'class_act_last')(bnl)\n",
        "\n",
        "    model = Model(inputs=(vggface.input), outputs=(actl))"
      ],
      "execution_count": 13,
      "outputs": []
    },
    {
      "cell_type": "code",
      "metadata": {
        "id": "U5GwNE0HdmEx",
        "colab_type": "code",
        "colab": {
          "base_uri": "https://localhost:8080/",
          "height": 1000
        },
        "outputId": "8a1b98fb-31a5-4c30-ad39-1549eb473ef8"
      },
      "source": [
        "from keras.callbacks import ModelCheckpoint, EarlyStopping\n",
        "from keras.preprocessing.image import ImageDataGenerator\n",
        "\n",
        "\n",
        "checkpoint = ModelCheckpoint(\"drive/My Drive/pro_data/pro_book_res/source_model_only.h5\", monitor='val_accuracy', verbose=1, \n",
        "                             save_best_only=True, save_weights_only=False, mode='auto')\n",
        "early = EarlyStopping(monitor='val_accuracy', min_delta=0, patience=15, verbose=1, mode='auto')\n",
        "\n",
        "datagen = ImageDataGenerator(data_format='channels_last', \n",
        "                                rescale=1./255, \n",
        "                                rotation_range=40, \n",
        "                                width_shift_range=0.2, \n",
        "                                height_shift_range=0.2)\n",
        "       \n",
        "evalgen = ImageDataGenerator(data_format='channels_last', \n",
        "                                rescale=1./255)\n",
        "train_x, train_y = param[\"Xs_train\"], param[\"ys_train\"]\n",
        "test_x, test_y = param[\"Xs_test\"], param[\"ys_test\"]\n",
        "model.compile(optimizer = opt_classifier(param), loss = 'categorical_crossentropy', metrics = ['accuracy'])\n",
        "train_generator  = datagen.flow(train_x, train_y, batch_size=64, shuffle=True)\n",
        "hist = model.fit(train_generator ,\n",
        "                            steps_per_epoch=15, \n",
        "                            epochs=60, \n",
        "                            validation_data=evalgen.flow(test_x, test_y, batch_size=128), \n",
        "                            initial_epoch=0,callbacks=[checkpoint,early])\n",
        "        \n",
        "\n",
        "y_pred = model.predict(test_x)\n",
        "source_accuracy_test = accuracy_score(test_y.argmax(1), y_pred.argmax(1))              \n",
        "\n",
        "print(\"source accuracy test\",source_accuracy_test)\n",
        "print(\"Source Classifier matrix: \",metrics.confusion_matrix(test_y.argmax(1), y_pred.argmax(1)))"
      ],
      "execution_count": 14,
      "outputs": [
        {
          "output_type": "stream",
          "text": [
            "Epoch 1/60\n",
            " 2/15 [===>..........................] - ETA: 2s - loss: 1.3265 - accuracy: 0.3672WARNING:tensorflow:Callbacks method `on_train_batch_end` is slow compared to the batch time (batch time: 0.1195s vs `on_train_batch_end` time: 0.2721s). Check your callbacks.\n",
            "15/15 [==============================] - ETA: 0s - loss: 0.9782 - accuracy: 0.5396\n",
            "Epoch 00001: val_accuracy improved from -inf to 0.62414, saving model to drive/My Drive/pro_data/pro_book_res/source_model_only.h5\n",
            "15/15 [==============================] - 15s 1s/step - loss: 0.9782 - accuracy: 0.5396 - val_loss: 0.9958 - val_accuracy: 0.6241\n",
            "Epoch 2/60\n",
            "15/15 [==============================] - ETA: 0s - loss: 0.6626 - accuracy: 0.7309\n",
            "Epoch 00002: val_accuracy did not improve from 0.62414\n",
            "15/15 [==============================] - 11s 709ms/step - loss: 0.6626 - accuracy: 0.7309 - val_loss: 0.9439 - val_accuracy: 0.5862\n",
            "Epoch 3/60\n",
            "15/15 [==============================] - ETA: 0s - loss: 0.5548 - accuracy: 0.8151\n",
            "Epoch 00003: val_accuracy improved from 0.62414 to 0.86207, saving model to drive/My Drive/pro_data/pro_book_res/source_model_only.h5\n",
            "15/15 [==============================] - 12s 817ms/step - loss: 0.5548 - accuracy: 0.8151 - val_loss: 0.8788 - val_accuracy: 0.8621\n",
            "Epoch 4/60\n",
            "15/15 [==============================] - ETA: 0s - loss: 0.4581 - accuracy: 0.8804\n",
            "Epoch 00004: val_accuracy did not improve from 0.86207\n",
            "15/15 [==============================] - 10s 689ms/step - loss: 0.4581 - accuracy: 0.8804 - val_loss: 0.8618 - val_accuracy: 0.7310\n",
            "Epoch 5/60\n",
            "15/15 [==============================] - ETA: 0s - loss: 0.3951 - accuracy: 0.9167\n",
            "Epoch 00005: val_accuracy improved from 0.86207 to 0.89310, saving model to drive/My Drive/pro_data/pro_book_res/source_model_only.h5\n",
            "15/15 [==============================] - 12s 816ms/step - loss: 0.3951 - accuracy: 0.9167 - val_loss: 0.8651 - val_accuracy: 0.8931\n",
            "Epoch 6/60\n",
            "15/15 [==============================] - ETA: 0s - loss: 0.3858 - accuracy: 0.9158\n",
            "Epoch 00006: val_accuracy did not improve from 0.89310\n",
            "15/15 [==============================] - 11s 731ms/step - loss: 0.3858 - accuracy: 0.9158 - val_loss: 0.8397 - val_accuracy: 0.8483\n",
            "Epoch 7/60\n",
            "15/15 [==============================] - ETA: 0s - loss: 0.3413 - accuracy: 0.9535\n",
            "Epoch 00007: val_accuracy improved from 0.89310 to 0.91379, saving model to drive/My Drive/pro_data/pro_book_res/source_model_only.h5\n",
            "15/15 [==============================] - 12s 804ms/step - loss: 0.3413 - accuracy: 0.9535 - val_loss: 0.8306 - val_accuracy: 0.9138\n",
            "Epoch 8/60\n",
            "15/15 [==============================] - ETA: 0s - loss: 0.3188 - accuracy: 0.9590\n",
            "Epoch 00008: val_accuracy did not improve from 0.91379\n",
            "15/15 [==============================] - 11s 731ms/step - loss: 0.3188 - accuracy: 0.9590 - val_loss: 0.8131 - val_accuracy: 0.8483\n",
            "Epoch 9/60\n",
            "15/15 [==============================] - ETA: 0s - loss: 0.3225 - accuracy: 0.9513\n",
            "Epoch 00009: val_accuracy did not improve from 0.91379\n",
            "15/15 [==============================] - 10s 677ms/step - loss: 0.3225 - accuracy: 0.9513 - val_loss: 0.8279 - val_accuracy: 0.7931\n",
            "Epoch 10/60\n",
            "15/15 [==============================] - ETA: 0s - loss: 0.3197 - accuracy: 0.9668\n",
            "Epoch 00010: val_accuracy improved from 0.91379 to 0.94138, saving model to drive/My Drive/pro_data/pro_book_res/source_model_only.h5\n",
            "15/15 [==============================] - 12s 805ms/step - loss: 0.3197 - accuracy: 0.9668 - val_loss: 0.7632 - val_accuracy: 0.9414\n",
            "Epoch 11/60\n",
            "15/15 [==============================] - ETA: 0s - loss: 0.3154 - accuracy: 0.9573\n",
            "Epoch 00011: val_accuracy improved from 0.94138 to 0.96207, saving model to drive/My Drive/pro_data/pro_book_res/source_model_only.h5\n",
            "15/15 [==============================] - 11s 764ms/step - loss: 0.3154 - accuracy: 0.9573 - val_loss: 0.7083 - val_accuracy: 0.9621\n",
            "Epoch 12/60\n",
            "15/15 [==============================] - ETA: 0s - loss: 0.3068 - accuracy: 0.9657\n",
            "Epoch 00012: val_accuracy did not improve from 0.96207\n",
            "15/15 [==============================] - 10s 689ms/step - loss: 0.3068 - accuracy: 0.9657 - val_loss: 0.7187 - val_accuracy: 0.9483\n",
            "Epoch 13/60\n",
            "15/15 [==============================] - ETA: 0s - loss: 0.3029 - accuracy: 0.9712\n",
            "Epoch 00013: val_accuracy improved from 0.96207 to 0.96897, saving model to drive/My Drive/pro_data/pro_book_res/source_model_only.h5\n",
            "15/15 [==============================] - 12s 801ms/step - loss: 0.3029 - accuracy: 0.9712 - val_loss: 0.6918 - val_accuracy: 0.9690\n",
            "Epoch 14/60\n",
            "15/15 [==============================] - ETA: 0s - loss: 0.2931 - accuracy: 0.9756\n",
            "Epoch 00014: val_accuracy did not improve from 0.96897\n",
            "15/15 [==============================] - 11s 701ms/step - loss: 0.2931 - accuracy: 0.9756 - val_loss: 0.6646 - val_accuracy: 0.9621\n",
            "Epoch 15/60\n",
            "15/15 [==============================] - ETA: 0s - loss: 0.3031 - accuracy: 0.9712\n",
            "Epoch 00015: val_accuracy did not improve from 0.96897\n",
            "15/15 [==============================] - 10s 682ms/step - loss: 0.3031 - accuracy: 0.9712 - val_loss: 0.6804 - val_accuracy: 0.9517\n",
            "Epoch 16/60\n",
            "15/15 [==============================] - ETA: 0s - loss: 0.2944 - accuracy: 0.9760\n",
            "Epoch 00016: val_accuracy did not improve from 0.96897\n",
            "15/15 [==============================] - 10s 697ms/step - loss: 0.2944 - accuracy: 0.9760 - val_loss: 0.6390 - val_accuracy: 0.9690\n",
            "Epoch 17/60\n",
            "15/15 [==============================] - ETA: 0s - loss: 0.2746 - accuracy: 0.9745\n",
            "Epoch 00017: val_accuracy did not improve from 0.96897\n",
            "15/15 [==============================] - 10s 676ms/step - loss: 0.2746 - accuracy: 0.9745 - val_loss: 0.6148 - val_accuracy: 0.9655\n",
            "Epoch 18/60\n",
            "15/15 [==============================] - ETA: 0s - loss: 0.2855 - accuracy: 0.9701\n",
            "Epoch 00018: val_accuracy did not improve from 0.96897\n",
            "15/15 [==============================] - 10s 657ms/step - loss: 0.2855 - accuracy: 0.9701 - val_loss: 0.5954 - val_accuracy: 0.9655\n",
            "Epoch 19/60\n",
            "15/15 [==============================] - ETA: 0s - loss: 0.2738 - accuracy: 0.9756\n",
            "Epoch 00019: val_accuracy did not improve from 0.96897\n",
            "15/15 [==============================] - 10s 649ms/step - loss: 0.2738 - accuracy: 0.9756 - val_loss: 0.5677 - val_accuracy: 0.9690\n",
            "Epoch 20/60\n",
            "15/15 [==============================] - ETA: 0s - loss: 0.2761 - accuracy: 0.9823\n",
            "Epoch 00020: val_accuracy did not improve from 0.96897\n",
            "15/15 [==============================] - 10s 672ms/step - loss: 0.2761 - accuracy: 0.9823 - val_loss: 0.5635 - val_accuracy: 0.9379\n",
            "Epoch 21/60\n",
            "15/15 [==============================] - ETA: 0s - loss: 0.2798 - accuracy: 0.9779\n",
            "Epoch 00021: val_accuracy did not improve from 0.96897\n",
            "15/15 [==============================] - 10s 679ms/step - loss: 0.2798 - accuracy: 0.9779 - val_loss: 0.5041 - val_accuracy: 0.9621\n",
            "Epoch 22/60\n",
            "15/15 [==============================] - ETA: 0s - loss: 0.2805 - accuracy: 0.9767\n",
            "Epoch 00022: val_accuracy improved from 0.96897 to 0.97241, saving model to drive/My Drive/pro_data/pro_book_res/source_model_only.h5\n",
            "15/15 [==============================] - 12s 808ms/step - loss: 0.2805 - accuracy: 0.9767 - val_loss: 0.5019 - val_accuracy: 0.9724\n",
            "Epoch 23/60\n",
            "15/15 [==============================] - ETA: 0s - loss: 0.2688 - accuracy: 0.9801\n",
            "Epoch 00023: val_accuracy did not improve from 0.97241\n",
            "15/15 [==============================] - 10s 687ms/step - loss: 0.2688 - accuracy: 0.9801 - val_loss: 0.5340 - val_accuracy: 0.9621\n",
            "Epoch 24/60\n",
            "15/15 [==============================] - ETA: 0s - loss: 0.2731 - accuracy: 0.9760\n",
            "Epoch 00024: val_accuracy did not improve from 0.97241\n",
            "15/15 [==============================] - 10s 697ms/step - loss: 0.2731 - accuracy: 0.9760 - val_loss: 0.4454 - val_accuracy: 0.9690\n",
            "Epoch 25/60\n",
            "15/15 [==============================] - ETA: 0s - loss: 0.2678 - accuracy: 0.9779\n",
            "Epoch 00025: val_accuracy did not improve from 0.97241\n",
            "15/15 [==============================] - 10s 672ms/step - loss: 0.2678 - accuracy: 0.9779 - val_loss: 0.4456 - val_accuracy: 0.9690\n",
            "Epoch 26/60\n",
            "15/15 [==============================] - ETA: 0s - loss: 0.2634 - accuracy: 0.9802\n",
            "Epoch 00026: val_accuracy did not improve from 0.97241\n",
            "15/15 [==============================] - 10s 699ms/step - loss: 0.2634 - accuracy: 0.9802 - val_loss: 0.4139 - val_accuracy: 0.9552\n",
            "Epoch 27/60\n",
            "15/15 [==============================] - ETA: 0s - loss: 0.2562 - accuracy: 0.9812\n",
            "Epoch 00027: val_accuracy improved from 0.97241 to 0.97586, saving model to drive/My Drive/pro_data/pro_book_res/source_model_only.h5\n",
            "15/15 [==============================] - 12s 797ms/step - loss: 0.2562 - accuracy: 0.9812 - val_loss: 0.3884 - val_accuracy: 0.9759\n",
            "Epoch 28/60\n",
            "15/15 [==============================] - ETA: 0s - loss: 0.2653 - accuracy: 0.9823\n",
            "Epoch 00028: val_accuracy did not improve from 0.97586\n",
            "15/15 [==============================] - 10s 681ms/step - loss: 0.2653 - accuracy: 0.9823 - val_loss: 0.3808 - val_accuracy: 0.9724\n",
            "Epoch 29/60\n",
            "15/15 [==============================] - ETA: 0s - loss: 0.2776 - accuracy: 0.9767\n",
            "Epoch 00029: val_accuracy improved from 0.97586 to 0.97931, saving model to drive/My Drive/pro_data/pro_book_res/source_model_only.h5\n",
            "15/15 [==============================] - 13s 845ms/step - loss: 0.2776 - accuracy: 0.9767 - val_loss: 0.4484 - val_accuracy: 0.9793\n",
            "Epoch 30/60\n",
            "15/15 [==============================] - ETA: 0s - loss: 0.2563 - accuracy: 0.9823\n",
            "Epoch 00030: val_accuracy did not improve from 0.97931\n",
            "15/15 [==============================] - 10s 677ms/step - loss: 0.2563 - accuracy: 0.9823 - val_loss: 0.3870 - val_accuracy: 0.9586\n",
            "Epoch 31/60\n",
            "15/15 [==============================] - ETA: 0s - loss: 0.2563 - accuracy: 0.9856\n",
            "Epoch 00031: val_accuracy did not improve from 0.97931\n",
            "15/15 [==============================] - 10s 672ms/step - loss: 0.2563 - accuracy: 0.9856 - val_loss: 0.3579 - val_accuracy: 0.9793\n",
            "Epoch 32/60\n",
            "15/15 [==============================] - ETA: 0s - loss: 0.2487 - accuracy: 0.9812\n",
            "Epoch 00032: val_accuracy improved from 0.97931 to 0.98276, saving model to drive/My Drive/pro_data/pro_book_res/source_model_only.h5\n",
            "15/15 [==============================] - 12s 806ms/step - loss: 0.2487 - accuracy: 0.9812 - val_loss: 0.3450 - val_accuracy: 0.9828\n",
            "Epoch 33/60\n",
            "15/15 [==============================] - ETA: 0s - loss: 0.2517 - accuracy: 0.9779\n",
            "Epoch 00033: val_accuracy did not improve from 0.98276\n",
            "15/15 [==============================] - 10s 680ms/step - loss: 0.2517 - accuracy: 0.9779 - val_loss: 0.3138 - val_accuracy: 0.9793\n",
            "Epoch 34/60\n",
            "15/15 [==============================] - ETA: 0s - loss: 0.2528 - accuracy: 0.9834\n",
            "Epoch 00034: val_accuracy did not improve from 0.98276\n",
            "15/15 [==============================] - 10s 665ms/step - loss: 0.2528 - accuracy: 0.9834 - val_loss: 0.3458 - val_accuracy: 0.9690\n",
            "Epoch 35/60\n",
            "15/15 [==============================] - ETA: 0s - loss: 0.2512 - accuracy: 0.9833\n",
            "Epoch 00035: val_accuracy did not improve from 0.98276\n",
            "15/15 [==============================] - 10s 694ms/step - loss: 0.2512 - accuracy: 0.9833 - val_loss: 0.3155 - val_accuracy: 0.9655\n",
            "Epoch 36/60\n",
            "15/15 [==============================] - ETA: 0s - loss: 0.2501 - accuracy: 0.9801\n",
            "Epoch 00036: val_accuracy did not improve from 0.98276\n",
            "15/15 [==============================] - 10s 653ms/step - loss: 0.2501 - accuracy: 0.9801 - val_loss: 0.2879 - val_accuracy: 0.9655\n",
            "Epoch 37/60\n",
            "15/15 [==============================] - ETA: 0s - loss: 0.2651 - accuracy: 0.9823\n",
            "Epoch 00037: val_accuracy did not improve from 0.98276\n",
            "15/15 [==============================] - 10s 676ms/step - loss: 0.2651 - accuracy: 0.9823 - val_loss: 0.3020 - val_accuracy: 0.9724\n",
            "Epoch 38/60\n",
            "15/15 [==============================] - ETA: 0s - loss: 0.2414 - accuracy: 0.9878\n",
            "Epoch 00038: val_accuracy did not improve from 0.98276\n",
            "15/15 [==============================] - 10s 676ms/step - loss: 0.2414 - accuracy: 0.9878 - val_loss: 0.2944 - val_accuracy: 0.9793\n",
            "Epoch 39/60\n",
            "15/15 [==============================] - ETA: 0s - loss: 0.2444 - accuracy: 0.9845\n",
            "Epoch 00039: val_accuracy did not improve from 0.98276\n",
            "15/15 [==============================] - 10s 669ms/step - loss: 0.2444 - accuracy: 0.9845 - val_loss: 0.2901 - val_accuracy: 0.9793\n",
            "Epoch 40/60\n",
            "15/15 [==============================] - ETA: 0s - loss: 0.2610 - accuracy: 0.9812\n",
            "Epoch 00040: val_accuracy did not improve from 0.98276\n",
            "15/15 [==============================] - 10s 669ms/step - loss: 0.2610 - accuracy: 0.9812 - val_loss: 0.3041 - val_accuracy: 0.9690\n",
            "Epoch 41/60\n",
            "15/15 [==============================] - ETA: 0s - loss: 0.2417 - accuracy: 0.9875\n",
            "Epoch 00041: val_accuracy did not improve from 0.98276\n",
            "15/15 [==============================] - 10s 690ms/step - loss: 0.2417 - accuracy: 0.9875 - val_loss: 0.2614 - val_accuracy: 0.9793\n",
            "Epoch 42/60\n",
            "15/15 [==============================] - ETA: 0s - loss: 0.2457 - accuracy: 0.9867\n",
            "Epoch 00042: val_accuracy did not improve from 0.98276\n",
            "15/15 [==============================] - 10s 659ms/step - loss: 0.2457 - accuracy: 0.9867 - val_loss: 0.2915 - val_accuracy: 0.9724\n",
            "Epoch 43/60\n",
            "15/15 [==============================] - ETA: 0s - loss: 0.2482 - accuracy: 0.9865\n",
            "Epoch 00043: val_accuracy did not improve from 0.98276\n",
            "15/15 [==============================] - 10s 683ms/step - loss: 0.2482 - accuracy: 0.9865 - val_loss: 0.3063 - val_accuracy: 0.9724\n",
            "Epoch 44/60\n",
            "15/15 [==============================] - ETA: 0s - loss: 0.2389 - accuracy: 0.9834\n",
            "Epoch 00044: val_accuracy did not improve from 0.98276\n",
            "15/15 [==============================] - 10s 664ms/step - loss: 0.2389 - accuracy: 0.9834 - val_loss: 0.3206 - val_accuracy: 0.9655\n",
            "Epoch 45/60\n",
            "15/15 [==============================] - ETA: 0s - loss: 0.2311 - accuracy: 0.9878\n",
            "Epoch 00045: val_accuracy did not improve from 0.98276\n",
            "15/15 [==============================] - 10s 665ms/step - loss: 0.2311 - accuracy: 0.9878 - val_loss: 0.2628 - val_accuracy: 0.9759\n",
            "Epoch 46/60\n",
            "15/15 [==============================] - ETA: 0s - loss: 0.2371 - accuracy: 0.9889\n",
            "Epoch 00046: val_accuracy did not improve from 0.98276\n",
            "15/15 [==============================] - 10s 666ms/step - loss: 0.2371 - accuracy: 0.9889 - val_loss: 0.2642 - val_accuracy: 0.9655\n",
            "Epoch 47/60\n",
            "15/15 [==============================] - ETA: 0s - loss: 0.2383 - accuracy: 0.9856\n",
            "Epoch 00047: val_accuracy did not improve from 0.98276\n",
            "15/15 [==============================] - 10s 657ms/step - loss: 0.2383 - accuracy: 0.9856 - val_loss: 0.2871 - val_accuracy: 0.9690\n",
            "Epoch 00047: early stopping\n",
            "source accuracy test 0.9689655172413794\n",
            "Source Classifier matrix:  [[ 91   0   1]\n",
            " [  0 117   0]\n",
            " [  7   1  73]]\n"
          ],
          "name": "stdout"
        }
      ]
    },
    {
      "cell_type": "code",
      "metadata": {
        "id": "Dm-lvFHHrQyf",
        "colab_type": "code",
        "colab": {
          "base_uri": "https://localhost:8080/",
          "height": 563
        },
        "outputId": "d3a4fde9-2152-4c0e-f2fd-4c1680946a4c"
      },
      "source": [
        "plt.figure(figsize = (15,5))\n",
        "plt.subplot(1,2,1)\n",
        "plt.title('Accuracy')\n",
        "plt.plot(hist.history['accuracy'], label = 'train')\n",
        "plt.plot(hist.history['val_accuracy'], label = 'val')\n",
        "plt.legend()\n",
        "plt.subplot(1,2,2)\n",
        "plt.plot(hist.history['loss'], label = 'train')\n",
        "plt.plot(hist.history['val_loss'], label = 'val')\n",
        "plt.legend()\n",
        "plt.title('Loss')"
      ],
      "execution_count": 6,
      "outputs": [
        {
          "output_type": "error",
          "ename": "NameError",
          "evalue": "ignored",
          "traceback": [
            "\u001b[0;31m---------------------------------------------------------------------------\u001b[0m",
            "\u001b[0;31mNameError\u001b[0m                                 Traceback (most recent call last)",
            "\u001b[0;32m<ipython-input-6-d3e19c036e64>\u001b[0m in \u001b[0;36m<module>\u001b[0;34m()\u001b[0m\n\u001b[1;32m      2\u001b[0m \u001b[0mplt\u001b[0m\u001b[0;34m.\u001b[0m\u001b[0msubplot\u001b[0m\u001b[0;34m(\u001b[0m\u001b[0;36m1\u001b[0m\u001b[0;34m,\u001b[0m\u001b[0;36m2\u001b[0m\u001b[0;34m,\u001b[0m\u001b[0;36m1\u001b[0m\u001b[0;34m)\u001b[0m\u001b[0;34m\u001b[0m\u001b[0;34m\u001b[0m\u001b[0m\n\u001b[1;32m      3\u001b[0m \u001b[0mplt\u001b[0m\u001b[0;34m.\u001b[0m\u001b[0mtitle\u001b[0m\u001b[0;34m(\u001b[0m\u001b[0;34m'Accuracy'\u001b[0m\u001b[0;34m)\u001b[0m\u001b[0;34m\u001b[0m\u001b[0;34m\u001b[0m\u001b[0m\n\u001b[0;32m----> 4\u001b[0;31m \u001b[0mplt\u001b[0m\u001b[0;34m.\u001b[0m\u001b[0mplot\u001b[0m\u001b[0;34m(\u001b[0m\u001b[0mhist\u001b[0m\u001b[0;34m.\u001b[0m\u001b[0mhistory\u001b[0m\u001b[0;34m[\u001b[0m\u001b[0;34m'accuracy'\u001b[0m\u001b[0;34m]\u001b[0m\u001b[0;34m,\u001b[0m \u001b[0mlabel\u001b[0m \u001b[0;34m=\u001b[0m \u001b[0;34m'train'\u001b[0m\u001b[0;34m)\u001b[0m\u001b[0;34m\u001b[0m\u001b[0;34m\u001b[0m\u001b[0m\n\u001b[0m\u001b[1;32m      5\u001b[0m \u001b[0mplt\u001b[0m\u001b[0;34m.\u001b[0m\u001b[0mplot\u001b[0m\u001b[0;34m(\u001b[0m\u001b[0mhist\u001b[0m\u001b[0;34m.\u001b[0m\u001b[0mhistory\u001b[0m\u001b[0;34m[\u001b[0m\u001b[0;34m'val_accuracy'\u001b[0m\u001b[0;34m]\u001b[0m\u001b[0;34m,\u001b[0m \u001b[0mlabel\u001b[0m \u001b[0;34m=\u001b[0m \u001b[0;34m'val'\u001b[0m\u001b[0;34m)\u001b[0m\u001b[0;34m\u001b[0m\u001b[0;34m\u001b[0m\u001b[0m\n\u001b[1;32m      6\u001b[0m \u001b[0mplt\u001b[0m\u001b[0;34m.\u001b[0m\u001b[0mlegend\u001b[0m\u001b[0;34m(\u001b[0m\u001b[0;34m)\u001b[0m\u001b[0;34m\u001b[0m\u001b[0;34m\u001b[0m\u001b[0m\n",
            "\u001b[0;31mNameError\u001b[0m: name 'hist' is not defined"
          ]
        },
        {
          "output_type": "display_data",
          "data": {
            "image/png": "[encoded data removed]",
            "text/plain": [
              "<Figure size 1080x360 with 1 Axes>"
            ]
          },
          "metadata": {
            "tags": [],
            "needs_background": "light"
          }
        }
      ]
    },
    {
      "cell_type": "code",
      "metadata": {
        "id": "w3oUcTiISV9P",
        "colab_type": "code",
        "colab": {
          "base_uri": "https://localhost:8080/",
          "height": 1000
        },
        "outputId": "7d36a5f1-1103-452f-c664-73543fb80948"
      },
      "source": [
        "from sklearn.manifold import TSNE\n",
        "# from keras.models import load_weights\n",
        "# start = time.process_time()\n",
        "tsne = TSNE(n_components=3, verbose=1, perplexity=40, n_iter=300)\n",
        "# x = models[\"embedding_s\"].predict(param[\"Xt_train\"])\n",
        "path_source_classifier = '/content/drive/My Drive/pro_data/‏final_result_notB/disc_target_10000_iter.hdf5'\n",
        "models[\"embedding_s\"].load_weights(path_source_classifier,True)\n",
        "flat = models[\"embedding_s\"].predict(param[\"Xt_train\"])\n",
        "\n",
        "flat = Flatten()(flat)\n",
        "\n",
        "# x=x.reshape(0,)\n",
        "X_tsne = tsne.fit_transform(flat)\n",
        "\n",
        "# df_subset['tsne-2d-one'] = X_tsne[:,0]\n",
        "# df_subset['tsne-2d-two'] = X_tsne[:,1]\n",
        "# plt.figure(figsize=(16,10))\n",
        "# sns.scatterplot(\n",
        "#     x=\"tsne-2d-one\", y=\"tsne-2d-two\",\n",
        "#     hue=\"y\",\n",
        "#     palette=sns.color_palette(\"hls\", 10),\n",
        "#     data=df_subset,\n",
        "#     legend=\"full\",\n",
        "#     alpha=0.3\n",
        "# )\n",
        "# print(time.process_time() - start)"
      ],
      "execution_count": null,
      "outputs": [
        {
          "output_type": "error",
          "ename": "ValueError",
          "evalue": "ignored",
          "traceback": [
            "\u001b[0;31m---------------------------------------------------------------------------\u001b[0m",
            "\u001b[0;31mValueError\u001b[0m                                Traceback (most recent call last)",
            "\u001b[0;32m/usr/local/lib/python3.6/dist-packages/keras/engine/base_layer.py\u001b[0m in \u001b[0;36massert_input_compatibility\u001b[0;34m(self, inputs)\u001b[0m\n\u001b[1;32m    309\u001b[0m             \u001b[0;32mtry\u001b[0m\u001b[0;34m:\u001b[0m\u001b[0;34m\u001b[0m\u001b[0;34m\u001b[0m\u001b[0m\n\u001b[0;32m--> 310\u001b[0;31m                 \u001b[0mK\u001b[0m\u001b[0;34m.\u001b[0m\u001b[0mis_keras_tensor\u001b[0m\u001b[0;34m(\u001b[0m\u001b[0mx\u001b[0m\u001b[0;34m)\u001b[0m\u001b[0;34m\u001b[0m\u001b[0;34m\u001b[0m\u001b[0m\n\u001b[0m\u001b[1;32m    311\u001b[0m             \u001b[0;32mexcept\u001b[0m \u001b[0mValueError\u001b[0m\u001b[0;34m:\u001b[0m\u001b[0;34m\u001b[0m\u001b[0;34m\u001b[0m\u001b[0m\n",
            "\u001b[0;32m/usr/local/lib/python3.6/dist-packages/keras/backend/tensorflow_backend.py\u001b[0m in \u001b[0;36mis_keras_tensor\u001b[0;34m(x)\u001b[0m\n\u001b[1;32m    696\u001b[0m         raise ValueError('Unexpectedly found an instance of type `' +\n\u001b[0;32m--> 697\u001b[0;31m                          \u001b[0mstr\u001b[0m\u001b[0;34m(\u001b[0m\u001b[0mtype\u001b[0m\u001b[0;34m(\u001b[0m\u001b[0mx\u001b[0m\u001b[0;34m)\u001b[0m\u001b[0;34m)\u001b[0m \u001b[0;34m+\u001b[0m \u001b[0;34m'`. '\u001b[0m\u001b[0;34m\u001b[0m\u001b[0;34m\u001b[0m\u001b[0m\n\u001b[0m\u001b[1;32m    698\u001b[0m                          'Expected a symbolic tensor instance.')\n",
            "\u001b[0;31mValueError\u001b[0m: Unexpectedly found an instance of type `<class 'numpy.ndarray'>`. Expected a symbolic tensor instance.",
            "\nDuring handling of the above exception, another exception occurred:\n",
            "\u001b[0;31mValueError\u001b[0m                                Traceback (most recent call last)",
            "\u001b[0;32m<ipython-input-51-148ccfae6d4b>\u001b[0m in \u001b[0;36m<module>\u001b[0;34m()\u001b[0m\n\u001b[1;32m      8\u001b[0m \u001b[0mflat\u001b[0m \u001b[0;34m=\u001b[0m \u001b[0mmodels\u001b[0m\u001b[0;34m[\u001b[0m\u001b[0;34m\"embedding_s\"\u001b[0m\u001b[0;34m]\u001b[0m\u001b[0;34m.\u001b[0m\u001b[0mpredict\u001b[0m\u001b[0;34m(\u001b[0m\u001b[0mparam\u001b[0m\u001b[0;34m[\u001b[0m\u001b[0;34m\"Xt_train\"\u001b[0m\u001b[0;34m]\u001b[0m\u001b[0;34m)\u001b[0m\u001b[0;34m\u001b[0m\u001b[0;34m\u001b[0m\u001b[0m\n\u001b[1;32m      9\u001b[0m \u001b[0;34m\u001b[0m\u001b[0m\n\u001b[0;32m---> 10\u001b[0;31m \u001b[0mflat\u001b[0m \u001b[0;34m=\u001b[0m \u001b[0mFlatten\u001b[0m\u001b[0;34m(\u001b[0m\u001b[0;34m)\u001b[0m\u001b[0;34m(\u001b[0m\u001b[0mflat\u001b[0m\u001b[0;34m)\u001b[0m\u001b[0;34m\u001b[0m\u001b[0;34m\u001b[0m\u001b[0m\n\u001b[0m\u001b[1;32m     11\u001b[0m \u001b[0;34m\u001b[0m\u001b[0m\n\u001b[1;32m     12\u001b[0m \u001b[0;31m# x=x.reshape(0,)\u001b[0m\u001b[0;34m\u001b[0m\u001b[0;34m\u001b[0m\u001b[0;34m\u001b[0m\u001b[0m\n",
            "\u001b[0;32m/usr/local/lib/python3.6/dist-packages/keras/backend/tensorflow_backend.py\u001b[0m in \u001b[0;36msymbolic_fn_wrapper\u001b[0;34m(*args, **kwargs)\u001b[0m\n\u001b[1;32m     73\u001b[0m         \u001b[0;32mif\u001b[0m \u001b[0m_SYMBOLIC_SCOPE\u001b[0m\u001b[0;34m.\u001b[0m\u001b[0mvalue\u001b[0m\u001b[0;34m:\u001b[0m\u001b[0;34m\u001b[0m\u001b[0;34m\u001b[0m\u001b[0m\n\u001b[1;32m     74\u001b[0m             \u001b[0;32mwith\u001b[0m \u001b[0mget_graph\u001b[0m\u001b[0;34m(\u001b[0m\u001b[0;34m)\u001b[0m\u001b[0;34m.\u001b[0m\u001b[0mas_default\u001b[0m\u001b[0;34m(\u001b[0m\u001b[0;34m)\u001b[0m\u001b[0;34m:\u001b[0m\u001b[0;34m\u001b[0m\u001b[0;34m\u001b[0m\u001b[0m\n\u001b[0;32m---> 75\u001b[0;31m                 \u001b[0;32mreturn\u001b[0m \u001b[0mfunc\u001b[0m\u001b[0;34m(\u001b[0m\u001b[0;34m*\u001b[0m\u001b[0margs\u001b[0m\u001b[0;34m,\u001b[0m \u001b[0;34m**\u001b[0m\u001b[0mkwargs\u001b[0m\u001b[0;34m)\u001b[0m\u001b[0;34m\u001b[0m\u001b[0;34m\u001b[0m\u001b[0m\n\u001b[0m\u001b[1;32m     76\u001b[0m         \u001b[0;32melse\u001b[0m\u001b[0;34m:\u001b[0m\u001b[0;34m\u001b[0m\u001b[0;34m\u001b[0m\u001b[0m\n\u001b[1;32m     77\u001b[0m             \u001b[0;32mreturn\u001b[0m \u001b[0mfunc\u001b[0m\u001b[0;34m(\u001b[0m\u001b[0;34m*\u001b[0m\u001b[0margs\u001b[0m\u001b[0;34m,\u001b[0m \u001b[0;34m**\u001b[0m\u001b[0mkwargs\u001b[0m\u001b[0;34m)\u001b[0m\u001b[0;34m\u001b[0m\u001b[0;34m\u001b[0m\u001b[0m\n",
            "\u001b[0;32m/usr/local/lib/python3.6/dist-packages/keras/engine/base_layer.py\u001b[0m in \u001b[0;36m__call__\u001b[0;34m(self, inputs, **kwargs)\u001b[0m\n\u001b[1;32m    444\u001b[0m                 \u001b[0;31m# Raise exceptions in case the input is not compatible\u001b[0m\u001b[0;34m\u001b[0m\u001b[0;34m\u001b[0m\u001b[0;34m\u001b[0m\u001b[0m\n\u001b[1;32m    445\u001b[0m                 \u001b[0;31m# with the input_spec specified in the layer constructor.\u001b[0m\u001b[0;34m\u001b[0m\u001b[0;34m\u001b[0m\u001b[0;34m\u001b[0m\u001b[0m\n\u001b[0;32m--> 446\u001b[0;31m                 \u001b[0mself\u001b[0m\u001b[0;34m.\u001b[0m\u001b[0massert_input_compatibility\u001b[0m\u001b[0;34m(\u001b[0m\u001b[0minputs\u001b[0m\u001b[0;34m)\u001b[0m\u001b[0;34m\u001b[0m\u001b[0;34m\u001b[0m\u001b[0m\n\u001b[0m\u001b[1;32m    447\u001b[0m \u001b[0;34m\u001b[0m\u001b[0m\n\u001b[1;32m    448\u001b[0m                 \u001b[0;31m# Collect input shapes to build layer.\u001b[0m\u001b[0;34m\u001b[0m\u001b[0;34m\u001b[0m\u001b[0;34m\u001b[0m\u001b[0m\n",
            "\u001b[0;32m/usr/local/lib/python3.6/dist-packages/keras/engine/base_layer.py\u001b[0m in \u001b[0;36massert_input_compatibility\u001b[0;34m(self, inputs)\u001b[0m\n\u001b[1;32m    314\u001b[0m                                  \u001b[0;34m'Received type: '\u001b[0m \u001b[0;34m+\u001b[0m\u001b[0;34m\u001b[0m\u001b[0;34m\u001b[0m\u001b[0m\n\u001b[1;32m    315\u001b[0m                                  \u001b[0mstr\u001b[0m\u001b[0;34m(\u001b[0m\u001b[0mtype\u001b[0m\u001b[0;34m(\u001b[0m\u001b[0mx\u001b[0m\u001b[0;34m)\u001b[0m\u001b[0;34m)\u001b[0m \u001b[0;34m+\u001b[0m \u001b[0;34m'. Full input: '\u001b[0m \u001b[0;34m+\u001b[0m\u001b[0;34m\u001b[0m\u001b[0;34m\u001b[0m\u001b[0m\n\u001b[0;32m--> 316\u001b[0;31m                                  \u001b[0mstr\u001b[0m\u001b[0;34m(\u001b[0m\u001b[0minputs\u001b[0m\u001b[0;34m)\u001b[0m \u001b[0;34m+\u001b[0m \u001b[0;34m'. All inputs to the layer '\u001b[0m\u001b[0;34m\u001b[0m\u001b[0;34m\u001b[0m\u001b[0m\n\u001b[0m\u001b[1;32m    317\u001b[0m                                  'should be tensors.')\n\u001b[1;32m    318\u001b[0m \u001b[0;34m\u001b[0m\u001b[0m\n",
            "\u001b[0;31mValueError\u001b[0m: Layer flatten_17 was called with an input that isn't a symbolic tensor. Received type: <class 'numpy.ndarray'>. Full input: [array([[[[1.80898055e-01, 7.48632401e-02, 3.46384495e-01, ...,\n          8.94773677e-02, 0.00000000e+00, 9.88989919e-02],\n         [2.17122599e-01, 2.47861549e-01, 1.69225693e-01, ...,\n          0.00000000e+00, 0.00000000e+00, 1.84703022e-01],\n         [1.46910951e-01, 2.50059545e-01, 1.22814991e-01, ...,\n          1.07588768e-02, 0.00000000e+00, 2.16844499e-01],\n         ...,\n         [2.31605008e-01, 1.43719018e-01, 1.32256404e-01, ...,\n          2.48792395e-03, 0.00000000e+00, 1.70422032e-01],\n         [1.48115724e-01, 2.51143038e-01, 1.35286540e-01, ...,\n          1.96492467e-02, 0.00000000e+00, 1.50012299e-01],\n         [1.56115983e-02, 2.40648627e-01, 9.56004262e-02, ...,\n          2.51185503e-02, 0.00000000e+00, 1.04630992e-01]],\n\n        [[2.17623428e-01, 1.75684825e-01, 2.60774851e-01, ...,\n          1.63846746e-01, 0.00000000e+00, 1.95454881e-01],\n         [1.85058877e-01, 1.70817122e-01, 1.16068579e-01, ...,\n          0.00000000e+00, 0.00000000e+00, 3.29920471e-01],\n         [0.00000000e+00, 2.15757564e-01, 1.08062103e-01, ...,\n          0.00000000e+00, 0.00000000e+00, 2.68946201e-01],\n         ...,\n         [6.66381344e-02, 6.02985658e-02, 1.19090781e-01, ...,\n          1.26131028e-01, 0.00000000e+00, 2.47687042e-01],\n         [1.27426177e-01, 1.36924058e-01, 8.61458555e-02, ...,\n          8.84056389e-02, 0.00000000e+00, 2.80796021e-01],\n         [0.00000000e+00, 3.28551054e-01, 0.00000000e+00, ...,\n          0.00000000e+00, 0.00000000e+00, 1.64862826e-01]],\n\n        [[2.51867354e-01, 7.47826993e-02, 2.27588221e-01, ...,\n          5.81044592e-02, 0.00000000e+00, 1.99962199e-01],\n         [1.17469259e-01, 1.05334148e-01, 7.01440275e-02, ...,\n          9.01768580e-02, 0.00000000e+00, 3.11508656e-01],\n         [4.37069163e-02, 1.31418213e-01, 9.95458588e-02, ...,\n          2.83622555e-02, 0.00000000e+00, 3.29310834e-01],\n         ...,\n         [1.66914910e-01, 1.12109803e-01, 1.56641275e-01, ...,\n          7.29095265e-02, 0.00000000e+00, 2.31558114e-01],\n         [6.39996603e-02, 5.01190759e-02, 2.29216199e-02, ...,\n          1.33045360e-01, 0.00000000e+00, 1.74642503e-01],\n         [0.00000000e+00, 1.94129869e-01, 5.00781834e-02, ...,\n          0.00000000e+00, 0.00000000e+00, 1.65105596e-01]],\n\n        ...,\n\n        [[1.96195737e-01, 0.00000000e+00, 1.92868382e-01, ...,\n          1.06020279e-01, 0.00000000e+00, 1.33101925e-01],\n         [1.65252045e-01, 1.02141961e-01, 1.87239483e-01, ...,\n          1.46478042e-01, 0.00000000e+00, 3.54088634e-01],\n         [3.16077436e-04, 1.85181618e-01, 6.70075268e-02, ...,\n          2.45766565e-02, 0.00000000e+00, 2.81647652e-01],\n         ...,\n         [1.59225941e-01, 5.70618175e-02, 1.15457393e-01, ...,\n          9.59056094e-02, 0.00000000e+00, 3.00710320e-01],\n         [1.43335700e-01, 1.25268176e-01, 9.85824466e-02, ...,\n          2.71907989e-02, 0.00000000e+00, 2.63224095e-01],\n         [0.00000000e+00, 3.19075882e-01, 4.81590107e-02, ...,\n          0.00000000e+00, 0.00000000e+00, 1.96618140e-01]],\n\n        [[1.59987792e-01, 0.00000000e+00, 1.73322827e-01, ...,\n          0.00000000e+00, 0.00000000e+00, 2.50028193e-01],\n         [1.07234493e-01, 5.95846958e-02, 1.41796961e-01, ...,\n          1.70244619e-01, 0.00000000e+00, 2.63829857e-01],\n         [7.88851976e-02, 2.29424536e-01, 7.97533691e-02, ...,\n          1.14035763e-01, 0.00000000e+00, 3.53435278e-01],\n         ...,\n         [9.51992944e-02, 5.63151427e-02, 5.78211844e-02, ...,\n          1.64100185e-01, 0.00000000e+00, 2.36427709e-01],\n         [2.79947277e-02, 1.05086200e-01, 5.98587543e-02, ...,\n          2.25218669e-01, 0.00000000e+00, 2.53680408e-01],\n         [1.60532389e-02, 2.76094824e-01, 3.42701226e-02, ...,\n          1.73647590e-02, 0.00000000e+00, 1.77733734e-01]],\n\n        [[7.84823522e-02, 0.00000000e+00, 1.73118606e-01, ...,\n          0.00000000e+00, 0.00000000e+00, 1.35818169e-01],\n         [6.27290532e-02, 2.40974361e-03, 1.36517137e-01, ...,\n          7.85926357e-02, 0.00000000e+00, 1.36673048e-01],\n         [0.00000000e+00, 4.67625484e-02, 5.77208549e-02, ...,\n          1.47837833e-01, 0.00000000e+00, 2.15445817e-01],\n         ...,\n         [2.77396794e-02, 2.24866737e-02, 8.17441940e-02, ...,\n          0.00000000e+00, 0.00000000e+00, 1.06804520e-01],\n         [0.00000000e+00, 1.74831137e-01, 0.00000000e+00, ...,\n          1.23062141e-01, 0.00000000e+00, 1.00606173e-01],\n         [3.63791138e-02, 3.53920497e-02, 1.59962440e-03, ...,\n          9.43135172e-02, 0.00000000e+00, 5.97702786e-02]]],\n\n\n       [[[1.92471489e-01, 6.97720647e-02, 2.62510061e-01, ...,\n          1.03317328e-01, 0.00000000e+00, 1.56074718e-01],\n         [3.06640863e-01, 2.08333731e-01, 2.26254731e-01, ...,\n          3.46265845e-02, 0.00000000e+00, 2.47679651e-01],\n         [2.32284069e-01, 2.46466398e-01, 2.03438938e-01, ...,\n          2.55205445e-02, 0.00000000e+00, 1.98262677e-01],\n         ...,\n         [1.66255161e-01, 1.16568774e-01, 2.11202189e-01, ...,\n          7.77627602e-02, 0.00000000e+00, 2.23223224e-01],\n         [1.82402506e-01, 2.31169999e-01, 2.48838708e-01, ...,\n          4.05008309e-02, 0.00000000e+00, 2.58579969e-01],\n         [1.34679526e-01, 3.37622225e-01, 1.66316777e-01, ...,\n          0.00000000e+00, 0.00000000e+00, 1.66216612e-01]],\n\n        [[1.59673586e-01, 1.30648419e-01, 2.54873246e-01, ...,\n          9.71460938e-02, 0.00000000e+00, 1.83378413e-01],\n         [2.48162583e-01, 9.43654552e-02, 4.03758287e-02, ...,\n          0.00000000e+00, 0.00000000e+00, 2.82905787e-01],\n         [2.26131361e-02, 1.52378485e-01, 0.00000000e+00, ...,\n          4.09854725e-02, 0.00000000e+00, 1.82631627e-01],\n         ...,\n         [1.23198517e-01, 8.19487274e-02, 8.13126564e-02, ...,\n          9.04612541e-02, 0.00000000e+00, 2.56686330e-01],\n         [1.98027864e-01, 1.29420042e-01, 5.89382350e-02, ...,\n          5.94990514e-02, 0.00000000e+00, 2.74902493e-01],\n         [1.37910098e-01, 3.06802541e-01, 0.00000000e+00, ...,\n          1.14675891e-02, 0.00000000e+00, 1.36401966e-01]],\n\n        [[1.22437149e-01, 9.50002223e-02, 2.42709726e-01, ...,\n          9.22009945e-02, 0.00000000e+00, 1.84365258e-01],\n         [1.74803659e-01, 6.43434227e-02, 2.28743609e-02, ...,\n          3.31690125e-02, 0.00000000e+00, 2.47461304e-01],\n         [4.84726131e-02, 8.45261216e-02, 7.19223768e-02, ...,\n          8.56946036e-02, 0.00000000e+00, 1.98319390e-01],\n         ...,\n         [1.27429977e-01, 0.00000000e+00, 1.36065602e-01, ...,\n          1.45045184e-02, 0.00000000e+00, 2.61363447e-01],\n         [1.70387894e-01, 1.39969841e-01, 4.27835211e-02, ...,\n          7.08034113e-02, 0.00000000e+00, 3.36437672e-01],\n         [2.31728926e-01, 2.71429181e-01, 0.00000000e+00, ...,\n          5.43286912e-02, 0.00000000e+00, 2.02631921e-01]],\n\n        ...,\n\n        [[1.07858337e-01, 8.77301693e-02, 2.25925788e-01, ...,\n          5.31972162e-02, 0.00000000e+00, 1.90485701e-01],\n         [1.33293301e-01, 1.06983528e-01, 1.53659079e-02, ...,\n          4.87670414e-02, 0.00000000e+00, 2.53159195e-01],\n         [5.68010658e-02, 1.16434611e-01, 1.00998446e-01, ...,\n          3.31323743e-02, 0.00000000e+00, 1.46939710e-01],\n         ...,\n         [1.49237856e-01, 2.36505587e-02, 1.19902790e-01, ...,\n          1.01044901e-01, 0.00000000e+00, 3.18043381e-01],\n         [1.85489953e-01, 2.05154374e-01, 6.81106970e-02, ...,\n          1.62453935e-01, 0.00000000e+00, 2.83830255e-01],\n         [5.98441139e-02, 2.45666996e-01, 5.15447259e-02, ...,\n          5.11413589e-02, 0.00000000e+00, 2.02474445e-01]],\n\n        [[1.38202205e-01, 1.59879148e-01, 2.26299524e-01, ...,\n          7.25915283e-02, 0.00000000e+00, 1.49959132e-01],\n         [1.08156249e-01, 1.02329917e-01, 4.52134497e-02, ...,\n          1.42305419e-01, 0.00000000e+00, 2.81436503e-01],\n         [6.52426705e-02, 1.26233667e-01, 6.53135926e-02, ...,\n          8.34338367e-02, 0.00000000e+00, 1.78384528e-01],\n         ...,\n         [1.40531987e-01, 3.02245039e-02, 1.01758674e-01, ...,\n          7.09407851e-02, 0.00000000e+00, 2.38571554e-01],\n         [1.51782796e-01, 9.35331285e-02, 6.82673976e-02, ...,\n          1.46965027e-01, 0.00000000e+00, 1.87264472e-01],\n         [1.00554619e-02, 1.51209995e-01, 0.00000000e+00, ...,\n          9.75242481e-02, 0.00000000e+00, 1.66613579e-01]],\n\n        [[0.00000000e+00, 1.07586697e-01, 1.44237757e-01, ...,\n          9.21779051e-02, 0.00000000e+00, 1.89354926e-01],\n         [3.92308608e-02, 4.77621518e-02, 4.24806476e-02, ...,\n          4.99844775e-02, 0.00000000e+00, 2.05935612e-01],\n         [0.00000000e+00, 1.10775314e-01, 5.16230501e-02, ...,\n          4.10205536e-02, 0.00000000e+00, 1.20374769e-01],\n         ...,\n         [3.94963808e-02, 0.00000000e+00, 5.72169274e-02, ...,\n          0.00000000e+00, 0.00000000e+00, 1.63588211e-01],\n         [3.20710354e-02, 6.79382607e-02, 5.15884943e-02, ...,\n          7.49809518e-02, 0.00000000e+00, 1.29606113e-01],\n         [6.66456949e-03, 0.00000000e+00, 2.69273557e-02, ...,\n          9.60142463e-02, 0.00000000e+00, 7.94845000e-02]]],\n\n\n       [[[1.51975915e-01, 3.28240134e-02, 2.18671709e-01, ...,\n          7.04327151e-02, 0.00000000e+00, 7.91042596e-02],\n         [1.77155957e-01, 6.57128990e-02, 1.48115128e-01, ...,\n          2.24968381e-02, 0.00000000e+00, 1.68175980e-01],\n         [1.69223562e-01, 1.40144080e-01, 1.85599461e-01, ...,\n          4.61357236e-02, 0.00000000e+00, 2.30538204e-01],\n         ...,\n         [1.93362594e-01, 1.86526462e-01, 1.26008138e-01, ...,\n          4.11964692e-02, 0.00000000e+00, 1.69354156e-01],\n         [1.55810654e-01, 1.88708872e-01, 1.28406927e-01, ...,\n          3.33797075e-02, 0.00000000e+00, 1.79202303e-01],\n         [1.38573498e-01, 2.69324213e-01, 1.34886086e-01, ...,\n          3.26638818e-02, 0.00000000e+00, 1.18728876e-01]],\n\n        [[1.40545174e-01, 1.20786056e-01, 2.18207747e-01, ...,\n          1.03453718e-01, 0.00000000e+00, 1.39045626e-01],\n         [1.48324281e-01, 9.88882333e-02, 1.19350396e-01, ...,\n          1.11186959e-01, 0.00000000e+00, 2.57587254e-01],\n         [8.28279033e-02, 1.78391755e-01, 9.99562293e-02, ...,\n          6.78430125e-02, 0.00000000e+00, 2.40179524e-01],\n         ...,\n         [8.70343372e-02, 1.08423218e-01, 9.97729227e-02, ...,\n          1.72514431e-02, 0.00000000e+00, 2.63580263e-01],\n         [7.08132312e-02, 1.31557047e-01, 6.55308962e-02, ...,\n          0.00000000e+00, 0.00000000e+00, 2.34926715e-01],\n         [1.19430318e-01, 2.96740979e-01, 0.00000000e+00, ...,\n          3.90530340e-02, 0.00000000e+00, 1.66669771e-01]],\n\n        [[1.47965029e-01, 9.04859528e-02, 1.70130491e-01, ...,\n          1.42703354e-02, 0.00000000e+00, 1.15901932e-01],\n         [1.09606065e-01, 1.74547825e-02, 6.10820875e-02, ...,\n          1.73723660e-02, 0.00000000e+00, 2.02206329e-01],\n         [1.00746185e-01, 1.77774969e-02, 5.77615723e-02, ...,\n          4.03093621e-02, 0.00000000e+00, 1.86397538e-01],\n         ...,\n         [1.23717219e-01, 3.97669263e-02, 9.17568356e-02, ...,\n          1.41445786e-01, 0.00000000e+00, 2.08332613e-01],\n         [8.38687494e-02, 1.11051172e-01, 1.59638867e-01, ...,\n          7.55651817e-02, 0.00000000e+00, 2.30357051e-01],\n         [1.06435753e-01, 2.21835494e-01, 3.11241429e-02, ...,\n          7.14750960e-02, 0.00000000e+00, 1.97174400e-01]],\n\n        ...,\n\n        [[1.10782616e-01, 4.74066213e-02, 1.71795607e-01, ...,\n          2.41754763e-02, 0.00000000e+00, 1.39403984e-01],\n         [8.73204917e-02, 7.58111477e-02, 1.00396022e-01, ...,\n          0.00000000e+00, 0.00000000e+00, 2.26521984e-01],\n         [3.80104259e-02, 9.81193110e-02, 5.29044047e-02, ...,\n          9.54387709e-03, 0.00000000e+00, 1.76484540e-01],\n         ...,\n         [6.23290986e-02, 2.24760305e-02, 6.66092932e-02, ...,\n          1.60618089e-02, 0.00000000e+00, 2.42840052e-01],\n         [7.81848431e-02, 1.26560748e-01, 1.25190511e-01, ...,\n          5.89976944e-02, 0.00000000e+00, 2.20515370e-01],\n         [1.56448051e-01, 1.92744151e-01, 2.91877668e-02, ...,\n          6.12640418e-02, 0.00000000e+00, 1.58168018e-01]],\n\n        [[6.29531667e-02, 1.13460302e-01, 2.04322159e-01, ...,\n          8.25504437e-02, 0.00000000e+00, 1.36172548e-01],\n         [1.12214103e-01, 8.41511339e-02, 8.65002871e-02, ...,\n          1.32167831e-01, 0.00000000e+00, 2.57644206e-01],\n         [9.10034962e-03, 1.03749141e-01, 8.54879245e-02, ...,\n          3.16894129e-02, 0.00000000e+00, 1.73745215e-01],\n         ...,\n         [9.42301899e-02, 1.05676964e-01, 8.65831599e-02, ...,\n          7.74364844e-02, 0.00000000e+00, 2.04569504e-01],\n         [1.04492389e-01, 1.40795171e-01, 8.33229944e-02, ...,\n          1.21663950e-01, 0.00000000e+00, 2.13146120e-01],\n         [1.54723153e-01, 1.93495095e-01, 5.07973433e-02, ...,\n          7.55910799e-02, 0.00000000e+00, 1.55119210e-01]],\n\n        [[0.00000000e+00, 1.08294725e-01, 1.26046970e-01, ...,\n          5.52502759e-02, 0.00000000e+00, 1.20556980e-01],\n         [5.68828918e-02, 1.05572149e-01, 0.00000000e+00, ...,\n          5.89165874e-02, 0.00000000e+00, 1.61358550e-01],\n         [0.00000000e+00, 7.21590295e-02, 3.73530760e-02, ...,\n          8.23733397e-03, 0.00000000e+00, 1.16183877e-01],\n         ...,\n         [0.00000000e+00, 7.50357285e-02, 3.58429402e-02, ...,\n          0.00000000e+00, 0.00000000e+00, 1.24345697e-01],\n         [6.93500564e-02, 1.36581972e-01, 6.41932636e-02, ...,\n          2.80211456e-02, 0.00000000e+00, 1.21721789e-01],\n         [9.63956043e-02, 2.98795337e-03, 0.00000000e+00, ...,\n          9.61048082e-02, 0.00000000e+00, 1.08000398e-01]]],\n\n\n       ...,\n\n\n       [[[1.40246823e-01, 4.43793610e-02, 1.95964247e-01, ...,\n          7.40993842e-02, 0.00000000e+00, 7.64837041e-02],\n         [1.76952347e-01, 8.68015364e-02, 1.72987282e-01, ...,\n          6.11232184e-02, 0.00000000e+00, 1.73414513e-01],\n         [2.24460244e-01, 1.65722355e-01, 1.74673989e-01, ...,\n          3.69518325e-02, 0.00000000e+00, 2.03272834e-01],\n         ...,\n         [2.43344277e-01, 2.02235788e-01, 2.17797250e-01, ...,\n          4.75330055e-02, 0.00000000e+00, 2.31457636e-01],\n         [2.71106929e-01, 2.49722242e-01, 1.77220270e-01, ...,\n          6.57000318e-02, 0.00000000e+00, 2.37964496e-01],\n         [2.13830337e-01, 3.15151453e-01, 1.86316237e-01, ...,\n          0.00000000e+00, 0.00000000e+00, 1.38755664e-01]],\n\n        [[1.27835706e-01, 9.14888233e-02, 2.00294375e-01, ...,\n          1.19371571e-01, 0.00000000e+00, 1.14275463e-01],\n         [1.42241284e-01, 5.91753311e-02, 1.16499767e-01, ...,\n          1.20487399e-02, 0.00000000e+00, 2.96121418e-01],\n         [1.58533812e-01, 1.30532846e-01, 1.20934732e-01, ...,\n          3.48123796e-02, 0.00000000e+00, 2.62514561e-01],\n         ...,\n         [1.02991305e-01, 1.49000540e-01, 7.34771192e-02, ...,\n          5.28068207e-02, 0.00000000e+00, 2.04783142e-01],\n         [1.37020901e-01, 2.01126978e-01, 7.55257756e-02, ...,\n          2.90717818e-02, 0.00000000e+00, 2.68834978e-01],\n         [1.35352597e-01, 3.24447900e-01, 0.00000000e+00, ...,\n          0.00000000e+00, 0.00000000e+00, 1.83866844e-01]],\n\n        [[1.66805297e-01, 7.82247707e-02, 2.19213918e-01, ...,\n          3.19520496e-02, 0.00000000e+00, 1.43875465e-01],\n         [1.72342926e-01, 1.02783307e-01, 9.73664820e-02, ...,\n          4.06201370e-02, 0.00000000e+00, 2.44151324e-01],\n         [9.42880809e-02, 7.55127519e-02, 9.50351357e-02, ...,\n          1.54754694e-03, 0.00000000e+00, 2.65172273e-01],\n         ...,\n         [6.86867014e-02, 1.88697893e-02, 1.10358775e-01, ...,\n          8.90040919e-02, 0.00000000e+00, 2.39438698e-01],\n         [7.67386630e-02, 1.31673992e-01, 8.58344063e-02, ...,\n          1.79112956e-01, 0.00000000e+00, 2.69103765e-01],\n         [1.48699895e-01, 2.39305288e-01, 3.61931175e-02, ...,\n          3.05162743e-02, 0.00000000e+00, 2.17030495e-01]],\n\n        ...,\n\n        [[1.05003275e-01, 1.94217730e-02, 1.83525398e-01, ...,\n          9.77576151e-02, 0.00000000e+00, 1.04976594e-01],\n         [5.85053414e-02, 1.80832800e-02, 9.98399407e-02, ...,\n          9.57501829e-02, 0.00000000e+00, 2.34529987e-01],\n         [2.20286679e-02, 3.63491066e-02, 1.53162062e-01, ...,\n          1.05087154e-01, 0.00000000e+00, 2.56958216e-01],\n         ...,\n         [6.75239414e-02, 8.68319273e-02, 1.81215107e-01, ...,\n          0.00000000e+00, 0.00000000e+00, 2.84498036e-01],\n         [2.05562726e-01, 1.40714914e-01, 1.08794205e-01, ...,\n          7.40409270e-02, 0.00000000e+00, 2.89821237e-01],\n         [1.57788560e-01, 2.46302933e-01, 5.34043014e-02, ...,\n          6.12895004e-02, 0.00000000e+00, 1.83554843e-01]],\n\n        [[1.36247531e-01, 9.48529243e-02, 2.06906319e-01, ...,\n          6.65572733e-02, 0.00000000e+00, 1.29266039e-01],\n         [1.32104412e-01, 7.14079291e-02, 7.66133592e-02, ...,\n          8.78430605e-02, 0.00000000e+00, 2.35859320e-01],\n         [1.23261027e-01, 7.15350807e-02, 1.08460866e-01, ...,\n          7.84099177e-02, 0.00000000e+00, 2.13256344e-01],\n         ...,\n         [4.71979454e-02, 1.35930628e-01, 4.69752550e-02, ...,\n          1.49666652e-01, 0.00000000e+00, 2.77348816e-01],\n         [1.61558107e-01, 1.48335814e-01, 3.53177860e-02, ...,\n          1.25911608e-01, 0.00000000e+00, 2.95809835e-01],\n         [1.85629353e-01, 2.23401695e-01, 5.97399287e-03, ...,\n          3.18012536e-02, 0.00000000e+00, 1.87876418e-01]],\n\n        [[1.30948527e-02, 5.93295209e-02, 1.27515495e-01, ...,\n          4.60303538e-02, 0.00000000e+00, 9.95722786e-02],\n         [1.95993148e-02, 4.18674536e-02, 9.52549577e-02, ...,\n          9.70365778e-02, 0.00000000e+00, 1.64287671e-01],\n         [2.21852716e-02, 5.64075001e-02, 9.29510593e-02, ...,\n          0.00000000e+00, 0.00000000e+00, 1.43938646e-01],\n         ...,\n         [0.00000000e+00, 2.57740337e-02, 0.00000000e+00, ...,\n          1.02525540e-02, 0.00000000e+00, 1.31278381e-01],\n         [0.00000000e+00, 1.01376638e-01, 0.00000000e+00, ...,\n          0.00000000e+00, 0.00000000e+00, 1.27192110e-01],\n         [0.00000000e+00, 1.52329924e-02, 0.00000000e+00, ...,\n          9.98531803e-02, 0.00000000e+00, 1.00401565e-01]]],\n\n\n       [[[1.59573808e-01, 5.63397519e-02, 1.32459536e-01, ...,\n          5.78203164e-02, 0.00000000e+00, 7.49749839e-02],\n         [1.61227793e-01, 1.02143690e-01, 1.30365998e-01, ...,\n          4.72646728e-02, 0.00000000e+00, 1.66920885e-01],\n         [1.37366071e-01, 1.09953165e-01, 1.12687930e-01, ...,\n          1.30162612e-02, 0.00000000e+00, 1.36793196e-01],\n         ...,\n         [1.35915130e-01, 1.46888658e-01, 9.56408530e-02, ...,\n          2.55969316e-02, 0.00000000e+00, 9.73123461e-02],\n         [1.14282839e-01, 7.57940412e-02, 5.84138408e-02, ...,\n          6.32243305e-02, 0.00000000e+00, 1.30404934e-01],\n         [8.94341804e-03, 1.34103522e-01, 6.45604804e-02, ...,\n          0.00000000e+00, 0.00000000e+00, 7.75925666e-02]],\n\n        [[1.34926125e-01, 5.53905517e-02, 1.63496688e-01, ...,\n          7.54880905e-02, 0.00000000e+00, 1.40061840e-01],\n         [1.19498856e-01, 1.24299280e-01, 6.59797043e-02, ...,\n          2.00729799e-02, 0.00000000e+00, 1.81596130e-01],\n         [1.03999093e-01, 1.01933345e-01, 6.25557005e-02, ...,\n          3.07864286e-02, 0.00000000e+00, 1.50146231e-01],\n         ...,\n         [5.79007827e-02, 4.36081626e-02, 0.00000000e+00, ...,\n          0.00000000e+00, 0.00000000e+00, 1.46482587e-01],\n         [5.22323921e-02, 8.97832960e-02, 6.18082769e-02, ...,\n          3.71746570e-02, 0.00000000e+00, 1.46183819e-01],\n         [0.00000000e+00, 1.51133284e-01, 0.00000000e+00, ...,\n          0.00000000e+00, 0.00000000e+00, 1.21298350e-01]],\n\n        [[1.21265911e-01, 4.43726033e-02, 1.24881931e-01, ...,\n          4.46818732e-02, 0.00000000e+00, 1.47053108e-01],\n         [9.53821763e-02, 5.13655804e-02, 5.26535958e-02, ...,\n          3.80876176e-02, 0.00000000e+00, 2.06327364e-01],\n         [7.95293972e-02, 0.00000000e+00, 3.55316252e-02, ...,\n          4.40455116e-02, 0.00000000e+00, 1.55284494e-01],\n         ...,\n         [6.41609505e-02, 4.35062684e-02, 7.63103366e-02, ...,\n          5.59362434e-02, 0.00000000e+00, 2.16274232e-01],\n         [5.04357852e-02, 5.94229214e-02, 4.01973501e-02, ...,\n          7.20713139e-02, 0.00000000e+00, 2.14488029e-01],\n         [0.00000000e+00, 1.40312627e-01, 0.00000000e+00, ...,\n          0.00000000e+00, 0.00000000e+00, 1.44751757e-01]],\n\n        ...,\n\n        [[1.39511302e-01, 3.07715815e-02, 1.65435657e-01, ...,\n          3.04119289e-02, 0.00000000e+00, 1.40294805e-01],\n         [9.20369104e-02, 8.60909671e-02, 4.09444943e-02, ...,\n          1.65783614e-02, 0.00000000e+00, 1.97562724e-01],\n         [9.11925137e-02, 7.59600475e-02, 4.07693125e-02, ...,\n          2.17516460e-02, 0.00000000e+00, 1.76368445e-01],\n         ...,\n         [6.22344092e-02, 9.14444029e-02, 2.13783663e-02, ...,\n          2.96737142e-02, 0.00000000e+00, 2.22393617e-01],\n         [4.03617062e-02, 1.23924054e-01, 1.32250078e-02, ...,\n          5.45827858e-02, 0.00000000e+00, 2.12143302e-01],\n         [0.00000000e+00, 1.83535069e-01, 0.00000000e+00, ...,\n          0.00000000e+00, 0.00000000e+00, 1.59192339e-01]],\n\n        [[1.34533763e-01, 1.22260086e-01, 1.64947510e-01, ...,\n          5.09138741e-02, 0.00000000e+00, 1.44376785e-01],\n         [1.00547805e-01, 1.06143184e-01, 7.66050220e-02, ...,\n          7.54874870e-02, 0.00000000e+00, 2.47137398e-01],\n         [4.26157042e-02, 8.08178335e-02, 4.49270196e-02, ...,\n          7.93587491e-02, 0.00000000e+00, 1.63359433e-01],\n         ...,\n         [6.17510453e-02, 7.76571110e-02, 7.45299757e-02, ...,\n          6.88966066e-02, 0.00000000e+00, 2.11821645e-01],\n         [6.65743500e-02, 1.01963967e-01, 5.83068430e-02, ...,\n          8.30288157e-02, 0.00000000e+00, 2.14494318e-01],\n         [1.56673286e-02, 1.95775077e-01, 1.34790521e-02, ...,\n          1.38990078e-02, 0.00000000e+00, 1.91598162e-01]],\n\n        [[0.00000000e+00, 1.23973154e-01, 1.19205169e-01, ...,\n          6.69872239e-02, 0.00000000e+00, 1.39621004e-01],\n         [1.27596390e-02, 1.16408803e-01, 9.32488292e-02, ...,\n          4.80739996e-02, 0.00000000e+00, 2.00317502e-01],\n         [0.00000000e+00, 1.07064128e-01, 7.65535757e-02, ...,\n          0.00000000e+00, 0.00000000e+00, 1.16117798e-01],\n         ...,\n         [0.00000000e+00, 5.34198619e-02, 2.83040535e-02, ...,\n          0.00000000e+00, 0.00000000e+00, 1.31826177e-01],\n         [0.00000000e+00, 1.18846446e-01, 3.69113795e-02, ...,\n          0.00000000e+00, 0.00000000e+00, 2.11373329e-01],\n         [0.00000000e+00, 4.21657003e-02, 0.00000000e+00, ...,\n          5.11499196e-02, 0.00000000e+00, 1.15357302e-01]]],\n\n\n       [[[1.61026195e-01, 4.51281555e-02, 2.10823148e-01, ...,\n          4.85809818e-02, 0.00000000e+00, 6.03026748e-02],\n         [1.78818539e-01, 7.60689676e-02, 1.34756088e-01, ...,\n          4.07192856e-02, 0.00000000e+00, 1.99759513e-01],\n         [1.85200617e-01, 9.06723291e-02, 1.58285230e-01, ...,\n          3.67630832e-02, 0.00000000e+00, 1.45153508e-01],\n         ...,\n         [2.13634998e-01, 1.08032092e-01, 1.48837611e-01, ...,\n          2.01623365e-02, 0.00000000e+00, 1.47791892e-01],\n         [1.70976341e-01, 2.84593523e-01, 1.87180877e-01, ...,\n          1.74116548e-02, 0.00000000e+00, 1.38395682e-01],\n         [1.10289343e-01, 2.96555817e-01, 1.00026786e-01, ...,\n          8.47049616e-03, 0.00000000e+00, 1.11601740e-01]],\n\n        [[1.64704934e-01, 3.62729952e-02, 1.49296165e-01, ...,\n          6.06539138e-02, 0.00000000e+00, 1.24046154e-01],\n         [1.70545772e-01, 4.41869460e-02, 5.68079799e-02, ...,\n          0.00000000e+00, 0.00000000e+00, 2.25205496e-01],\n         [5.34483120e-02, 1.20278522e-01, 7.49989152e-02, ...,\n          1.09532081e-01, 0.00000000e+00, 2.09748760e-01],\n         ...,\n         [9.45337415e-02, 1.62386615e-02, 1.19646288e-01, ...,\n          5.99834844e-02, 0.00000000e+00, 2.87693530e-01],\n         [1.07176833e-01, 1.61406308e-01, 9.24253315e-02, ...,\n          1.12003036e-01, 0.00000000e+00, 2.85717517e-01],\n         [0.00000000e+00, 3.14412504e-01, 6.21971041e-02, ...,\n          0.00000000e+00, 0.00000000e+00, 1.82661906e-01]],\n\n        [[9.55159962e-02, 6.37691095e-02, 1.47373527e-01, ...,\n          8.98553357e-02, 0.00000000e+00, 1.23465031e-01],\n         [1.59487352e-01, 5.69167025e-02, 1.13974169e-01, ...,\n          2.18491517e-02, 0.00000000e+00, 2.11463183e-01],\n         [7.27626160e-02, 5.09397574e-02, 1.11909367e-01, ...,\n          0.00000000e+00, 0.00000000e+00, 3.04311723e-01],\n         ...,\n         [1.56532153e-01, 6.41664639e-02, 8.97613913e-02, ...,\n          2.88094543e-02, 0.00000000e+00, 3.46581936e-01],\n         [1.30597875e-01, 7.43183643e-02, 0.00000000e+00, ...,\n          6.36519715e-02, 0.00000000e+00, 2.37868264e-01],\n         [0.00000000e+00, 2.70242810e-01, 5.72015345e-02, ...,\n          0.00000000e+00, 0.00000000e+00, 1.61503658e-01]],\n\n        ...,\n\n        [[1.89718440e-01, 6.25494123e-02, 2.31662512e-01, ...,\n          6.91955611e-02, 0.00000000e+00, 2.06718773e-01],\n         [1.57572135e-01, 1.38662001e-02, 1.20803133e-01, ...,\n          3.81044671e-02, 0.00000000e+00, 2.60159254e-01],\n         [1.06748886e-01, 1.41729444e-01, 1.58412009e-01, ...,\n          5.38377948e-02, 0.00000000e+00, 2.92437434e-01],\n         ...,\n         [1.56383500e-01, 1.68892682e-01, 1.34207860e-01, ...,\n          2.76573971e-02, 0.00000000e+00, 3.31228465e-01],\n         [1.35086179e-01, 1.71927795e-01, 0.00000000e+00, ...,\n          3.37565206e-02, 0.00000000e+00, 2.19206586e-01],\n         [0.00000000e+00, 1.77214980e-01, 4.21137139e-02, ...,\n          4.47730236e-02, 0.00000000e+00, 1.24089994e-01]],\n\n        [[1.59388602e-01, 3.56352739e-02, 1.64071769e-01, ...,\n          5.46287410e-02, 0.00000000e+00, 1.32155746e-01],\n         [1.14995822e-01, 6.09440692e-02, 5.93660735e-02, ...,\n          1.13558747e-01, 0.00000000e+00, 3.50304216e-01],\n         [1.55902579e-01, 7.26078972e-02, 1.35340124e-01, ...,\n          1.03792526e-01, 0.00000000e+00, 2.87863731e-01],\n         ...,\n         [1.40462056e-01, 2.99012423e-01, 1.11120120e-01, ...,\n          2.03257769e-01, 0.00000000e+00, 2.74240375e-01],\n         [9.31786373e-02, 1.49227738e-01, 2.07170229e-02, ...,\n          1.07190974e-01, 0.00000000e+00, 2.85938412e-01],\n         [5.79322577e-02, 1.74315855e-01, 6.64190874e-02, ...,\n          2.01108815e-05, 0.00000000e+00, 1.29143104e-01]],\n\n        [[9.35623124e-02, 2.34478246e-02, 1.65083393e-01, ...,\n          2.22761724e-02, 0.00000000e+00, 1.05917111e-01],\n         [4.02209982e-02, 9.70369019e-03, 9.56737027e-02, ...,\n          4.26129885e-02, 0.00000000e+00, 2.65804261e-01],\n         [3.40235457e-02, 9.92389545e-02, 1.02435678e-01, ...,\n          5.52301742e-02, 0.00000000e+00, 1.82800427e-01],\n         ...,\n         [4.33422849e-02, 9.18648317e-02, 0.00000000e+00, ...,\n          1.33054420e-01, 0.00000000e+00, 1.35057241e-01],\n         [0.00000000e+00, 1.31728128e-01, 3.47220935e-02, ...,\n          1.23364247e-01, 0.00000000e+00, 1.41678542e-01],\n         [0.00000000e+00, 3.73264030e-02, 9.28586572e-02, ...,\n          3.32008190e-02, 0.00000000e+00, 1.65291086e-01]]]],\n      dtype=float32)]. All inputs to the layer should be tensors."
          ]
        }
      ]
    },
    {
      "cell_type": "code",
      "metadata": {
        "id": "0psYmpsOCnjl",
        "colab_type": "code",
        "colab": {
          "base_uri": "https://localhost:8080/",
          "height": 297
        },
        "outputId": "ba1d8890-a4a7-4282-cb50-46fe801162b0"
      },
      "source": [
        "import numpy as np\n",
        "arr =  [[ 45,  28,  31,  52],\n",
        " [ 28,  87,  33,  15],\n",
        " [ 37,  62,  56,  53],\n",
        " [  7  , 4 , 26, 180]]\n",
        "classes = ['brows','eyes','neutral','smile']\n",
        "cm = np.array(arr)\n",
        "_plot_confusion_matrix(cm,classes,title='Target Clasiffier Confusion matrix')"
      ],
      "execution_count": null,
      "outputs": [
        {
          "output_type": "display_data",
          "data": {
            "image/png": "[encoded data removed]",
            "text/plain": [
              "<Figure size 432x288 with 2 Axes>"
            ]
          },
          "metadata": {
            "tags": [],
            "needs_background": "light"
          }
        }
      ]
    },
    {
      "cell_type": "code",
      "metadata": {
        "id": "NeLvhhDJDt80",
        "colab_type": "code",
        "colab": {
          "base_uri": "https://localhost:8080/",
          "height": 297
        },
        "outputId": "c9449c6e-c144-49d1-e7f6-bf3dcc4102bf"
      },
      "source": [
        "arr = [[147 ,  0 ,  7 ,  0],\n",
        " [  0, 155,   0,   0],\n",
        " [ 22  , 0 ,189   ,3],\n",
        " [  3  , 8 ,  2, 199]]\n",
        "\n",
        "cm = np.array(arr)\n",
        "_plot_confusion_matrix(cm,classes)"
      ],
      "execution_count": null,
      "outputs": [
        {
          "output_type": "display_data",
          "data": {
            "image/png": "[encoded data removed]",
            "text/plain": [
              "<Figure size 432x288 with 2 Axes>"
            ]
          },
          "metadata": {
            "tags": []
          }
        }
      ]
    },
    {
      "cell_type": "code",
      "metadata": {
        "id": "A55MmiBhFCiW",
        "colab_type": "code",
        "colab": {
          "base_uri": "https://localhost:8080/",
          "height": 297
        },
        "outputId": "27948114-1b07-4b3c-ab52-9707fb7d3c96"
      },
      "source": [
        " arr = [[300,   0,   6,   0],\n",
        " [  0 ,299 ,  0  , 0],\n",
        " [ 17  , 0, 412,   0],\n",
        " [  0  , 0  , 0 ,415]]\n",
        " \n",
        "cm = np.array(arr)\n",
        "_plot_confusion_matrix(cm,classes,title='Source Clasiffier Confusion matrix')"
      ],
      "execution_count": null,
      "outputs": [
        {
          "output_type": "display_data",
          "data": {
            "image/png": "[encoded data removed]",
            "text/plain": [
              "<Figure size 432x288 with 2 Axes>"
            ]
          },
          "metadata": {
            "tags": [],
            "needs_background": "light"
          }
        }
      ]
    },
    {
      "cell_type": "code",
      "metadata": {
        "id": "ZfTAz-z9Ga6_",
        "colab_type": "code",
        "colab": {
          "base_uri": "https://localhost:8080/",
          "height": 297
        },
        "outputId": "05eb3828-2b6b-4fc3-ac41-1eca26a56962"
      },
      "source": [
        " arr = [[ 74   ,0 ,  1 ,  0],\n",
        " [  0  ,82  , 0  , 0],\n",
        " [  8  , 0 , 88 ,  0],\n",
        " [  0  , 0  , 0 ,110]]\n",
        "\n",
        "cm = np.array(arr)\n",
        "_plot_confusion_matrix(cm,classes,title='Test Source Clasiffier Confusion matrix')"
      ],
      "execution_count": null,
      "outputs": [
        {
          "output_type": "display_data",
          "data": {
            "image/png": "[encoded data removed]",
            "text/plain": [
              "<Figure size 432x288 with 2 Axes>"
            ]
          },
          "metadata": {
            "tags": [],
            "needs_background": "light"
          }
        }
      ]
    },
    {
      "cell_type": "code",
      "metadata": {
        "id": "rQdznvWpB_aR",
        "colab_type": "code",
        "colab": {}
      },
      "source": [
        "def extract_and_plot_pca_feats(sess, feat_tensor_name='feature'):\n",
        "    F = sess.graph.get_tensor_by_name(feat_tensor_name + ':0')\n",
        "    emb_s = sess.run(F, feed_dict={'X:0': Xs})\n",
        "    emb_t = sess.run(F, feed_dict={'X:0': Xt})\n",
        "    emb_all = np.vstack([emb_s, emb_t])\n",
        "\n",
        "    pca = PCA(n_components=2)\n",
        "    pca_emb = pca.fit_transform(emb_all)\n",
        "\n",
        "    num = pca_emb.shape[0] // 2\n",
        "    plt.scatter(pca_emb[:num,0], pca_emb[:num,1], c=ys, cmap='coolwarm', alpha=0.4)\n",
        "    plt.scatter(pca_emb[num:,0], pca_emb[num:,1], c=yt, cmap='cool', alpha=0.4)"
      ],
      "execution_count": null,
      "outputs": []
    }
  ]
}